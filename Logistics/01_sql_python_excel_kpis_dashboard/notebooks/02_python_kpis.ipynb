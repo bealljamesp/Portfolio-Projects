{
 "cells": [
  {
   "cell_type": "markdown",
   "id": "6e208a63",
   "metadata": {},
   "source": [
    "# SQL + Python KPIs + Excel Dashboard — 02_python_kpis.ipynb\n",
    "\n",
    "**Author:** bealljamesp  \n",
    "**Date:** 2025-09-13\n",
    "\n",
    "**Objective:** Briefly explain what this notebook accomplishes and the expected output.\n"
   ]
  },
  {
   "cell_type": "code",
   "execution_count": null,
   "id": "22dc8b92",
   "metadata": {},
   "outputs": [],
   "source": [
    "\n",
    "# Standard imports\n",
    "import os, sys, json\n",
    "from pathlib import Path\n",
    "import numpy as np\n",
    "import pandas as pd\n",
    "import matplotlib.pyplot as plt\n",
    "\n",
    "# Ensure src/ is on path\n",
    "ROOT = Path(__file__).resolve().parents[1]\n",
    "SRC = ROOT / \"src\"\n",
    "if SRC.exists():\n",
    "    sys.path.append(str(SRC))\n",
    "print(\"Working dir:\", os.getcwd())\n"
   ]
  },
  {
   "cell_type": "markdown",
   "id": "f7d9fe06",
   "metadata": {},
   "source": [
    "## Business Context\n",
    "- Summarize the specific question this notebook answers."
   ]
  },
  {
   "cell_type": "markdown",
   "id": "007143f7",
   "metadata": {},
   "source": [
    "## Data Loading & Preparation"
   ]
  },
  {
   "cell_type": "markdown",
   "id": "dc67afff",
   "metadata": {},
   "source": [
    "## Analysis / Modeling"
   ]
  },
  {
   "cell_type": "markdown",
   "id": "fa491594",
   "metadata": {},
   "source": [
    "## Results & Visuals"
   ]
  },
  {
   "cell_type": "markdown",
   "id": "1d2aa8c4",
   "metadata": {},
   "source": [
    "## Takeaways / Next Steps"
   ]
  }
 ],
 "metadata": {
  "language_info": {
   "name": "python"
  }
 },
 "nbformat": 4,
 "nbformat_minor": 5
}
