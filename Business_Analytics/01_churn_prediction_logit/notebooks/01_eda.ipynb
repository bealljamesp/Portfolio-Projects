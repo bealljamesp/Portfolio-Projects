{
 "cells": [
  {
   "cell_type": "markdown",
   "id": "36ba6d0f",
   "metadata": {},
   "source": [
    "# Customer Churn Prediction (Logistic Regression) — 01_eda.ipynb\n",
    "\n",
    "**Author:** bealljamesp  \n",
    "**Date:** 2025-09-13\n",
    "\n",
    "**Objective:** Briefly explain what this notebook accomplishes and the expected output.\n"
   ]
  },
  {
   "cell_type": "code",
   "execution_count": 6,
   "id": "5e092af9",
   "metadata": {
    "scrolled": true
   },
   "outputs": [
    {
     "name": "stdout",
     "output_type": "stream",
     "text": [
      "ROOT set to: C:\\Users\\beall\\OneDrive\\Documents\\Resume\\Portfolio\\msaba-01-churn-prediction-logit\n"
     ]
    }
   ],
   "source": [
    "# Standard imports\n",
    "import os, sys, json\n",
    "from pathlib import Path\n",
    "import numpy as np\n",
    "import pandas as pd\n",
    "import matplotlib.pyplot as plt\n",
    "\n",
    "def find_project_root(start: Path, markers=(\"src\", \"data\")) -> Path:\n",
    "    \"\"\"\n",
    "    Walk up from `start` until we find a folder that contains all `markers`.\n",
    "    Falls back to `start` if not found within a few levels.\n",
    "    \"\"\"\n",
    "    p = start.resolve()\n",
    "    for _ in range(6):  # walk up to 6 levels just in case\n",
    "        if all((p / m).exists() for m in markers):\n",
    "            return p\n",
    "        p = p.parent\n",
    "    return start.resolve()\n",
    "\n",
    "# Figure out a starting point (works in notebooks and scripts)\n",
    "try:\n",
    "    start_here = Path(__file__).resolve()\n",
    "except NameError:\n",
    "    start_here = Path.cwd()\n",
    "\n",
    "ROOT = find_project_root(start_here)\n",
    "SRC = ROOT / \"src\"\n",
    "if SRC.exists() and str(SRC) not in sys.path:\n",
    "    sys.path.append(str(SRC))\n",
    "\n",
    "print(\"ROOT set to:\", ROOT)  # should end with ...\\msaba-01-churn-prediction-logit\n"
   ]
  },
  {
   "cell_type": "code",
   "execution_count": null,
   "id": "7e68cd38",
   "metadata": {},
   "outputs": [
    {
     "data": {
      "text/plain": [
       "((30000, 19),\n",
       "    customer_id  signup_dt  age   segment   region   plan  is_veteran  \\\n",
       " 0       100000 2024-10-23   59  Consumer  Central  Basic           0   \n",
       " 1       100000 2024-10-23   59  Consumer  Central  Basic           0   \n",
       " 2       100000 2024-10-23   59  Consumer  Central  Basic           0   \n",
       " 3       100000 2024-10-23   59  Consumer  Central  Basic           0   \n",
       " 4       100000 2024-10-23   59  Consumer  Central  Basic           0   \n",
       " \n",
       "       month  support_calls  support_tickets  product_usage_hours  \\\n",
       " 0  3/1/2025              5                0            92.835435   \n",
       " 1  4/1/2025              7                0            81.200638   \n",
       " 2  5/1/2025              3                0            96.033043   \n",
       " 3  6/1/2025              3                1            80.568979   \n",
       " 4  7/1/2025              1                0            63.861343   \n",
       " \n",
       "    received_promo  churned  tenure_days  tenure_months  logins_last_30d  \\\n",
       " 0               0        0          324           10.8                0   \n",
       " 1               0        0          324           10.8                0   \n",
       " 2               0        0          324           10.8                0   \n",
       " 3               0        0          324           10.8                0   \n",
       " 4               0        0          324           10.8                0   \n",
       " \n",
       "    avg_session_min  support_tickets_last_90d  nps_score  \n",
       " 0                0                         0          0  \n",
       " 1                0                         0          0  \n",
       " 2                0                         0          0  \n",
       " 3                0                         0          0  \n",
       " 4                0                         0          0  )"
      ]
     },
     "execution_count": 7,
     "metadata": {},
     "output_type": "execute_result"
    }
   ],
   "source": [
    "from churn.preprocess import load_churn_data  # only import loader\n",
    "\n",
    "df = load_churn_data(ROOT)\n",
    "df.shape, df.head()\n"
   ]
  },
  {
   "cell_type": "code",
   "execution_count": 8,
   "id": "e5135b19-011d-467f-ab60-4e7fb8a91727",
   "metadata": {},
   "outputs": [
    {
     "name": "stdout",
     "output_type": "stream",
     "text": [
      "churn package at: C:\\Users\\beall\\OneDrive\\Documents\\Resume\\Portfolio\\msaba-01-churn-prediction-logit\\src\\churn\\__init__.py\n",
      "SRC in sys.path? True\n"
     ]
    }
   ],
   "source": [
    "import churn\n",
    "print(\"churn package at:\", churn.__file__)\n",
    "print(\"SRC in sys.path?\", str(SRC) in sys.path)\n"
   ]
  },
  {
   "cell_type": "code",
   "execution_count": 9,
   "id": "5963f98c-6ba0-4956-ac18-a2a40fee8934",
   "metadata": {},
   "outputs": [
    {
     "name": "stdout",
     "output_type": "stream",
     "text": [
      "<class 'pandas.core.frame.DataFrame'>\n",
      "RangeIndex: 30000 entries, 0 to 29999\n",
      "Data columns (total 19 columns):\n",
      " #   Column                    Non-Null Count  Dtype         \n",
      "---  ------                    --------------  -----         \n",
      " 0   customer_id               30000 non-null  int64         \n",
      " 1   signup_dt                 30000 non-null  datetime64[ns]\n",
      " 2   age                       30000 non-null  int64         \n",
      " 3   segment                   30000 non-null  object        \n",
      " 4   region                    30000 non-null  category      \n",
      " 5   plan                      30000 non-null  object        \n",
      " 6   is_veteran                30000 non-null  int64         \n",
      " 7   month                     30000 non-null  object        \n",
      " 8   support_calls             30000 non-null  int64         \n",
      " 9   support_tickets           30000 non-null  int64         \n",
      " 10  product_usage_hours       30000 non-null  float64       \n",
      " 11  received_promo            30000 non-null  int64         \n",
      " 12  churned                   30000 non-null  int64         \n",
      " 13  tenure_days               30000 non-null  int64         \n",
      " 14  tenure_months             30000 non-null  float64       \n",
      " 15  logins_last_30d           30000 non-null  int64         \n",
      " 16  avg_session_min           30000 non-null  int64         \n",
      " 17  support_tickets_last_90d  30000 non-null  int64         \n",
      " 18  nps_score                 30000 non-null  int64         \n",
      "dtypes: category(1), datetime64[ns](1), float64(2), int64(12), object(3)\n",
      "memory usage: 4.1+ MB\n"
     ]
    },
    {
     "data": {
      "application/vnd.microsoft.datawrangler.viewer.v0+json": {
       "columns": [
        {
         "name": "index",
         "rawType": "int64",
         "type": "integer"
        },
        {
         "name": "customer_id",
         "rawType": "int64",
         "type": "integer"
        },
        {
         "name": "signup_dt",
         "rawType": "datetime64[ns]",
         "type": "datetime"
        },
        {
         "name": "age",
         "rawType": "int64",
         "type": "integer"
        },
        {
         "name": "segment",
         "rawType": "object",
         "type": "string"
        },
        {
         "name": "region",
         "rawType": "category",
         "type": "unknown"
        },
        {
         "name": "plan",
         "rawType": "object",
         "type": "string"
        },
        {
         "name": "is_veteran",
         "rawType": "int64",
         "type": "integer"
        },
        {
         "name": "month",
         "rawType": "object",
         "type": "string"
        },
        {
         "name": "support_calls",
         "rawType": "int64",
         "type": "integer"
        },
        {
         "name": "support_tickets",
         "rawType": "int64",
         "type": "integer"
        },
        {
         "name": "product_usage_hours",
         "rawType": "float64",
         "type": "float"
        },
        {
         "name": "received_promo",
         "rawType": "int64",
         "type": "integer"
        },
        {
         "name": "churned",
         "rawType": "int64",
         "type": "integer"
        },
        {
         "name": "tenure_days",
         "rawType": "int64",
         "type": "integer"
        },
        {
         "name": "tenure_months",
         "rawType": "float64",
         "type": "float"
        },
        {
         "name": "logins_last_30d",
         "rawType": "int64",
         "type": "integer"
        },
        {
         "name": "avg_session_min",
         "rawType": "int64",
         "type": "integer"
        },
        {
         "name": "support_tickets_last_90d",
         "rawType": "int64",
         "type": "integer"
        },
        {
         "name": "nps_score",
         "rawType": "int64",
         "type": "integer"
        }
       ],
       "ref": "b60a3c32-8b0b-4d03-8714-45e0b4b84ca6",
       "rows": [
        [
         "0",
         "100000",
         "2024-10-23 00:00:00",
         "59",
         "Consumer",
         "Central",
         "Basic",
         "0",
         "3/1/2025",
         "5",
         "0",
         "92.83543489",
         "0",
         "0",
         "324",
         "10.8",
         "0",
         "0",
         "0",
         "0"
        ],
        [
         "1",
         "100000",
         "2024-10-23 00:00:00",
         "59",
         "Consumer",
         "Central",
         "Basic",
         "0",
         "4/1/2025",
         "7",
         "0",
         "81.20063764",
         "0",
         "0",
         "324",
         "10.8",
         "0",
         "0",
         "0",
         "0"
        ],
        [
         "2",
         "100000",
         "2024-10-23 00:00:00",
         "59",
         "Consumer",
         "Central",
         "Basic",
         "0",
         "5/1/2025",
         "3",
         "0",
         "96.03304253",
         "0",
         "0",
         "324",
         "10.8",
         "0",
         "0",
         "0",
         "0"
        ],
        [
         "3",
         "100000",
         "2024-10-23 00:00:00",
         "59",
         "Consumer",
         "Central",
         "Basic",
         "0",
         "6/1/2025",
         "3",
         "1",
         "80.56897928",
         "0",
         "0",
         "324",
         "10.8",
         "0",
         "0",
         "0",
         "0"
        ],
        [
         "4",
         "100000",
         "2024-10-23 00:00:00",
         "59",
         "Consumer",
         "Central",
         "Basic",
         "0",
         "7/1/2025",
         "1",
         "0",
         "63.86134332",
         "0",
         "0",
         "324",
         "10.8",
         "0",
         "0",
         "0",
         "0"
        ]
       ],
       "shape": {
        "columns": 19,
        "rows": 5
       }
      },
      "text/html": [
       "<div>\n",
       "<style scoped>\n",
       "    .dataframe tbody tr th:only-of-type {\n",
       "        vertical-align: middle;\n",
       "    }\n",
       "\n",
       "    .dataframe tbody tr th {\n",
       "        vertical-align: top;\n",
       "    }\n",
       "\n",
       "    .dataframe thead th {\n",
       "        text-align: right;\n",
       "    }\n",
       "</style>\n",
       "<table border=\"1\" class=\"dataframe\">\n",
       "  <thead>\n",
       "    <tr style=\"text-align: right;\">\n",
       "      <th></th>\n",
       "      <th>customer_id</th>\n",
       "      <th>signup_dt</th>\n",
       "      <th>age</th>\n",
       "      <th>segment</th>\n",
       "      <th>region</th>\n",
       "      <th>plan</th>\n",
       "      <th>is_veteran</th>\n",
       "      <th>month</th>\n",
       "      <th>support_calls</th>\n",
       "      <th>support_tickets</th>\n",
       "      <th>product_usage_hours</th>\n",
       "      <th>received_promo</th>\n",
       "      <th>churned</th>\n",
       "      <th>tenure_days</th>\n",
       "      <th>tenure_months</th>\n",
       "      <th>logins_last_30d</th>\n",
       "      <th>avg_session_min</th>\n",
       "      <th>support_tickets_last_90d</th>\n",
       "      <th>nps_score</th>\n",
       "    </tr>\n",
       "  </thead>\n",
       "  <tbody>\n",
       "    <tr>\n",
       "      <th>0</th>\n",
       "      <td>100000</td>\n",
       "      <td>2024-10-23</td>\n",
       "      <td>59</td>\n",
       "      <td>Consumer</td>\n",
       "      <td>Central</td>\n",
       "      <td>Basic</td>\n",
       "      <td>0</td>\n",
       "      <td>3/1/2025</td>\n",
       "      <td>5</td>\n",
       "      <td>0</td>\n",
       "      <td>92.835435</td>\n",
       "      <td>0</td>\n",
       "      <td>0</td>\n",
       "      <td>324</td>\n",
       "      <td>10.8</td>\n",
       "      <td>0</td>\n",
       "      <td>0</td>\n",
       "      <td>0</td>\n",
       "      <td>0</td>\n",
       "    </tr>\n",
       "    <tr>\n",
       "      <th>1</th>\n",
       "      <td>100000</td>\n",
       "      <td>2024-10-23</td>\n",
       "      <td>59</td>\n",
       "      <td>Consumer</td>\n",
       "      <td>Central</td>\n",
       "      <td>Basic</td>\n",
       "      <td>0</td>\n",
       "      <td>4/1/2025</td>\n",
       "      <td>7</td>\n",
       "      <td>0</td>\n",
       "      <td>81.200638</td>\n",
       "      <td>0</td>\n",
       "      <td>0</td>\n",
       "      <td>324</td>\n",
       "      <td>10.8</td>\n",
       "      <td>0</td>\n",
       "      <td>0</td>\n",
       "      <td>0</td>\n",
       "      <td>0</td>\n",
       "    </tr>\n",
       "    <tr>\n",
       "      <th>2</th>\n",
       "      <td>100000</td>\n",
       "      <td>2024-10-23</td>\n",
       "      <td>59</td>\n",
       "      <td>Consumer</td>\n",
       "      <td>Central</td>\n",
       "      <td>Basic</td>\n",
       "      <td>0</td>\n",
       "      <td>5/1/2025</td>\n",
       "      <td>3</td>\n",
       "      <td>0</td>\n",
       "      <td>96.033043</td>\n",
       "      <td>0</td>\n",
       "      <td>0</td>\n",
       "      <td>324</td>\n",
       "      <td>10.8</td>\n",
       "      <td>0</td>\n",
       "      <td>0</td>\n",
       "      <td>0</td>\n",
       "      <td>0</td>\n",
       "    </tr>\n",
       "    <tr>\n",
       "      <th>3</th>\n",
       "      <td>100000</td>\n",
       "      <td>2024-10-23</td>\n",
       "      <td>59</td>\n",
       "      <td>Consumer</td>\n",
       "      <td>Central</td>\n",
       "      <td>Basic</td>\n",
       "      <td>0</td>\n",
       "      <td>6/1/2025</td>\n",
       "      <td>3</td>\n",
       "      <td>1</td>\n",
       "      <td>80.568979</td>\n",
       "      <td>0</td>\n",
       "      <td>0</td>\n",
       "      <td>324</td>\n",
       "      <td>10.8</td>\n",
       "      <td>0</td>\n",
       "      <td>0</td>\n",
       "      <td>0</td>\n",
       "      <td>0</td>\n",
       "    </tr>\n",
       "    <tr>\n",
       "      <th>4</th>\n",
       "      <td>100000</td>\n",
       "      <td>2024-10-23</td>\n",
       "      <td>59</td>\n",
       "      <td>Consumer</td>\n",
       "      <td>Central</td>\n",
       "      <td>Basic</td>\n",
       "      <td>0</td>\n",
       "      <td>7/1/2025</td>\n",
       "      <td>1</td>\n",
       "      <td>0</td>\n",
       "      <td>63.861343</td>\n",
       "      <td>0</td>\n",
       "      <td>0</td>\n",
       "      <td>324</td>\n",
       "      <td>10.8</td>\n",
       "      <td>0</td>\n",
       "      <td>0</td>\n",
       "      <td>0</td>\n",
       "      <td>0</td>\n",
       "    </tr>\n",
       "  </tbody>\n",
       "</table>\n",
       "</div>"
      ],
      "text/plain": [
       "   customer_id  signup_dt  age   segment   region   plan  is_veteran  \\\n",
       "0       100000 2024-10-23   59  Consumer  Central  Basic           0   \n",
       "1       100000 2024-10-23   59  Consumer  Central  Basic           0   \n",
       "2       100000 2024-10-23   59  Consumer  Central  Basic           0   \n",
       "3       100000 2024-10-23   59  Consumer  Central  Basic           0   \n",
       "4       100000 2024-10-23   59  Consumer  Central  Basic           0   \n",
       "\n",
       "      month  support_calls  support_tickets  product_usage_hours  \\\n",
       "0  3/1/2025              5                0            92.835435   \n",
       "1  4/1/2025              7                0            81.200638   \n",
       "2  5/1/2025              3                0            96.033043   \n",
       "3  6/1/2025              3                1            80.568979   \n",
       "4  7/1/2025              1                0            63.861343   \n",
       "\n",
       "   received_promo  churned  tenure_days  tenure_months  logins_last_30d  \\\n",
       "0               0        0          324           10.8                0   \n",
       "1               0        0          324           10.8                0   \n",
       "2               0        0          324           10.8                0   \n",
       "3               0        0          324           10.8                0   \n",
       "4               0        0          324           10.8                0   \n",
       "\n",
       "   avg_session_min  support_tickets_last_90d  nps_score  \n",
       "0                0                         0          0  \n",
       "1                0                         0          0  \n",
       "2                0                         0          0  \n",
       "3                0                         0          0  \n",
       "4                0                         0          0  "
      ]
     },
     "execution_count": 9,
     "metadata": {},
     "output_type": "execute_result"
    }
   ],
   "source": [
    "# basic overview\n",
    "\n",
    "df.info()\n",
    "df.describe().T\n",
    "df.head()\n"
   ]
  },
  {
   "cell_type": "code",
   "execution_count": 10,
   "id": "fdf15646-7c84-406b-a1c8-305c2c0dfe83",
   "metadata": {},
   "outputs": [
    {
     "name": "stdout",
     "output_type": "stream",
     "text": [
      "['customer_id', 'signup_dt', 'age', 'segment', 'region', 'plan', 'is_veteran', 'month', 'support_calls', 'support_tickets', 'product_usage_hours', 'received_promo', 'churned', 'tenure_days', 'tenure_months', 'logins_last_30d', 'avg_session_min', 'support_tickets_last_90d', 'nps_score']\n"
     ]
    },
    {
     "data": {
      "application/vnd.microsoft.datawrangler.viewer.v0+json": {
       "columns": [
        {
         "name": "index",
         "rawType": "int64",
         "type": "integer"
        },
        {
         "name": "customer_id",
         "rawType": "int64",
         "type": "integer"
        },
        {
         "name": "signup_dt",
         "rawType": "datetime64[ns]",
         "type": "datetime"
        },
        {
         "name": "age",
         "rawType": "int64",
         "type": "integer"
        },
        {
         "name": "segment",
         "rawType": "object",
         "type": "string"
        },
        {
         "name": "region",
         "rawType": "category",
         "type": "unknown"
        },
        {
         "name": "plan",
         "rawType": "object",
         "type": "string"
        },
        {
         "name": "is_veteran",
         "rawType": "int64",
         "type": "integer"
        },
        {
         "name": "month",
         "rawType": "object",
         "type": "string"
        },
        {
         "name": "support_calls",
         "rawType": "int64",
         "type": "integer"
        },
        {
         "name": "support_tickets",
         "rawType": "int64",
         "type": "integer"
        },
        {
         "name": "product_usage_hours",
         "rawType": "float64",
         "type": "float"
        },
        {
         "name": "received_promo",
         "rawType": "int64",
         "type": "integer"
        },
        {
         "name": "churned",
         "rawType": "int64",
         "type": "integer"
        },
        {
         "name": "tenure_days",
         "rawType": "int64",
         "type": "integer"
        },
        {
         "name": "tenure_months",
         "rawType": "float64",
         "type": "float"
        },
        {
         "name": "logins_last_30d",
         "rawType": "int64",
         "type": "integer"
        },
        {
         "name": "avg_session_min",
         "rawType": "int64",
         "type": "integer"
        },
        {
         "name": "support_tickets_last_90d",
         "rawType": "int64",
         "type": "integer"
        },
        {
         "name": "nps_score",
         "rawType": "int64",
         "type": "integer"
        }
       ],
       "ref": "ab769f58-cc3b-42ea-9616-e0abff544ad1",
       "rows": [
        [
         "0",
         "100000",
         "2024-10-23 00:00:00",
         "59",
         "Consumer",
         "Central",
         "Basic",
         "0",
         "3/1/2025",
         "5",
         "0",
         "92.83543489",
         "0",
         "0",
         "324",
         "10.8",
         "0",
         "0",
         "0",
         "0"
        ],
        [
         "1",
         "100000",
         "2024-10-23 00:00:00",
         "59",
         "Consumer",
         "Central",
         "Basic",
         "0",
         "4/1/2025",
         "7",
         "0",
         "81.20063764",
         "0",
         "0",
         "324",
         "10.8",
         "0",
         "0",
         "0",
         "0"
        ],
        [
         "2",
         "100000",
         "2024-10-23 00:00:00",
         "59",
         "Consumer",
         "Central",
         "Basic",
         "0",
         "5/1/2025",
         "3",
         "0",
         "96.03304253",
         "0",
         "0",
         "324",
         "10.8",
         "0",
         "0",
         "0",
         "0"
        ],
        [
         "3",
         "100000",
         "2024-10-23 00:00:00",
         "59",
         "Consumer",
         "Central",
         "Basic",
         "0",
         "6/1/2025",
         "3",
         "1",
         "80.56897928",
         "0",
         "0",
         "324",
         "10.8",
         "0",
         "0",
         "0",
         "0"
        ],
        [
         "4",
         "100000",
         "2024-10-23 00:00:00",
         "59",
         "Consumer",
         "Central",
         "Basic",
         "0",
         "7/1/2025",
         "1",
         "0",
         "63.86134332",
         "0",
         "0",
         "324",
         "10.8",
         "0",
         "0",
         "0",
         "0"
        ]
       ],
       "shape": {
        "columns": 19,
        "rows": 5
       }
      },
      "text/html": [
       "<div>\n",
       "<style scoped>\n",
       "    .dataframe tbody tr th:only-of-type {\n",
       "        vertical-align: middle;\n",
       "    }\n",
       "\n",
       "    .dataframe tbody tr th {\n",
       "        vertical-align: top;\n",
       "    }\n",
       "\n",
       "    .dataframe thead th {\n",
       "        text-align: right;\n",
       "    }\n",
       "</style>\n",
       "<table border=\"1\" class=\"dataframe\">\n",
       "  <thead>\n",
       "    <tr style=\"text-align: right;\">\n",
       "      <th></th>\n",
       "      <th>customer_id</th>\n",
       "      <th>signup_dt</th>\n",
       "      <th>age</th>\n",
       "      <th>segment</th>\n",
       "      <th>region</th>\n",
       "      <th>plan</th>\n",
       "      <th>is_veteran</th>\n",
       "      <th>month</th>\n",
       "      <th>support_calls</th>\n",
       "      <th>support_tickets</th>\n",
       "      <th>product_usage_hours</th>\n",
       "      <th>received_promo</th>\n",
       "      <th>churned</th>\n",
       "      <th>tenure_days</th>\n",
       "      <th>tenure_months</th>\n",
       "      <th>logins_last_30d</th>\n",
       "      <th>avg_session_min</th>\n",
       "      <th>support_tickets_last_90d</th>\n",
       "      <th>nps_score</th>\n",
       "    </tr>\n",
       "  </thead>\n",
       "  <tbody>\n",
       "    <tr>\n",
       "      <th>0</th>\n",
       "      <td>100000</td>\n",
       "      <td>2024-10-23</td>\n",
       "      <td>59</td>\n",
       "      <td>Consumer</td>\n",
       "      <td>Central</td>\n",
       "      <td>Basic</td>\n",
       "      <td>0</td>\n",
       "      <td>3/1/2025</td>\n",
       "      <td>5</td>\n",
       "      <td>0</td>\n",
       "      <td>92.835435</td>\n",
       "      <td>0</td>\n",
       "      <td>0</td>\n",
       "      <td>324</td>\n",
       "      <td>10.8</td>\n",
       "      <td>0</td>\n",
       "      <td>0</td>\n",
       "      <td>0</td>\n",
       "      <td>0</td>\n",
       "    </tr>\n",
       "    <tr>\n",
       "      <th>1</th>\n",
       "      <td>100000</td>\n",
       "      <td>2024-10-23</td>\n",
       "      <td>59</td>\n",
       "      <td>Consumer</td>\n",
       "      <td>Central</td>\n",
       "      <td>Basic</td>\n",
       "      <td>0</td>\n",
       "      <td>4/1/2025</td>\n",
       "      <td>7</td>\n",
       "      <td>0</td>\n",
       "      <td>81.200638</td>\n",
       "      <td>0</td>\n",
       "      <td>0</td>\n",
       "      <td>324</td>\n",
       "      <td>10.8</td>\n",
       "      <td>0</td>\n",
       "      <td>0</td>\n",
       "      <td>0</td>\n",
       "      <td>0</td>\n",
       "    </tr>\n",
       "    <tr>\n",
       "      <th>2</th>\n",
       "      <td>100000</td>\n",
       "      <td>2024-10-23</td>\n",
       "      <td>59</td>\n",
       "      <td>Consumer</td>\n",
       "      <td>Central</td>\n",
       "      <td>Basic</td>\n",
       "      <td>0</td>\n",
       "      <td>5/1/2025</td>\n",
       "      <td>3</td>\n",
       "      <td>0</td>\n",
       "      <td>96.033043</td>\n",
       "      <td>0</td>\n",
       "      <td>0</td>\n",
       "      <td>324</td>\n",
       "      <td>10.8</td>\n",
       "      <td>0</td>\n",
       "      <td>0</td>\n",
       "      <td>0</td>\n",
       "      <td>0</td>\n",
       "    </tr>\n",
       "    <tr>\n",
       "      <th>3</th>\n",
       "      <td>100000</td>\n",
       "      <td>2024-10-23</td>\n",
       "      <td>59</td>\n",
       "      <td>Consumer</td>\n",
       "      <td>Central</td>\n",
       "      <td>Basic</td>\n",
       "      <td>0</td>\n",
       "      <td>6/1/2025</td>\n",
       "      <td>3</td>\n",
       "      <td>1</td>\n",
       "      <td>80.568979</td>\n",
       "      <td>0</td>\n",
       "      <td>0</td>\n",
       "      <td>324</td>\n",
       "      <td>10.8</td>\n",
       "      <td>0</td>\n",
       "      <td>0</td>\n",
       "      <td>0</td>\n",
       "      <td>0</td>\n",
       "    </tr>\n",
       "    <tr>\n",
       "      <th>4</th>\n",
       "      <td>100000</td>\n",
       "      <td>2024-10-23</td>\n",
       "      <td>59</td>\n",
       "      <td>Consumer</td>\n",
       "      <td>Central</td>\n",
       "      <td>Basic</td>\n",
       "      <td>0</td>\n",
       "      <td>7/1/2025</td>\n",
       "      <td>1</td>\n",
       "      <td>0</td>\n",
       "      <td>63.861343</td>\n",
       "      <td>0</td>\n",
       "      <td>0</td>\n",
       "      <td>324</td>\n",
       "      <td>10.8</td>\n",
       "      <td>0</td>\n",
       "      <td>0</td>\n",
       "      <td>0</td>\n",
       "      <td>0</td>\n",
       "    </tr>\n",
       "  </tbody>\n",
       "</table>\n",
       "</div>"
      ],
      "text/plain": [
       "   customer_id  signup_dt  age   segment   region   plan  is_veteran  \\\n",
       "0       100000 2024-10-23   59  Consumer  Central  Basic           0   \n",
       "1       100000 2024-10-23   59  Consumer  Central  Basic           0   \n",
       "2       100000 2024-10-23   59  Consumer  Central  Basic           0   \n",
       "3       100000 2024-10-23   59  Consumer  Central  Basic           0   \n",
       "4       100000 2024-10-23   59  Consumer  Central  Basic           0   \n",
       "\n",
       "      month  support_calls  support_tickets  product_usage_hours  \\\n",
       "0  3/1/2025              5                0            92.835435   \n",
       "1  4/1/2025              7                0            81.200638   \n",
       "2  5/1/2025              3                0            96.033043   \n",
       "3  6/1/2025              3                1            80.568979   \n",
       "4  7/1/2025              1                0            63.861343   \n",
       "\n",
       "   received_promo  churned  tenure_days  tenure_months  logins_last_30d  \\\n",
       "0               0        0          324           10.8                0   \n",
       "1               0        0          324           10.8                0   \n",
       "2               0        0          324           10.8                0   \n",
       "3               0        0          324           10.8                0   \n",
       "4               0        0          324           10.8                0   \n",
       "\n",
       "   avg_session_min  support_tickets_last_90d  nps_score  \n",
       "0                0                         0          0  \n",
       "1                0                         0          0  \n",
       "2                0                         0          0  \n",
       "3                0                         0          0  \n",
       "4                0                         0          0  "
      ]
     },
     "execution_count": 10,
     "metadata": {},
     "output_type": "execute_result"
    }
   ],
   "source": [
    "print(df.columns.tolist())\n",
    "df.head()\n",
    "\n"
   ]
  },
  {
   "cell_type": "code",
   "execution_count": 11,
   "id": "ec356348-fa5b-413e-9282-087c34981da1",
   "metadata": {},
   "outputs": [
    {
     "data": {
      "text/plain": [
       "(['customer_id',\n",
       "  'signup_dt',\n",
       "  'age',\n",
       "  'segment',\n",
       "  'region',\n",
       "  'plan',\n",
       "  'is_veteran',\n",
       "  'month',\n",
       "  'support_calls',\n",
       "  'support_tickets',\n",
       "  'product_usage_hours',\n",
       "  'received_promo',\n",
       "  'churned',\n",
       "  'tenure_days',\n",
       "  'tenure_months',\n",
       "  'logins_last_30d',\n",
       "  'avg_session_min',\n",
       "  'support_tickets_last_90d',\n",
       "  'nps_score'],\n",
       " churned\n",
       " 0    0.793\n",
       " 1    0.207\n",
       " Name: proportion, dtype: float64)"
      ]
     },
     "execution_count": 11,
     "metadata": {},
     "output_type": "execute_result"
    }
   ],
   "source": [
    "from importlib import reload\n",
    "import churn.preprocess as prep\n",
    "reload(prep)\n",
    "df = prep.load_churn_data(ROOT)\n",
    "df.columns.tolist(), df[\"churned\"].value_counts(normalize=True).round(3)\n"
   ]
  },
  {
   "cell_type": "code",
   "execution_count": 12,
   "id": "6f139ef6-58d6-43ec-b1e0-3526f9bd0666",
   "metadata": {},
   "outputs": [
    {
     "data": {
      "text/plain": [
       "Text(0.5, 1.0, 'Churn vs Non-Churn')"
      ]
     },
     "execution_count": 12,
     "metadata": {},
     "output_type": "execute_result"
    },
    {
     "data": {
      "image/png": "[encoded data removed]",
      "text/plain": [
       "<Figure size 640x480 with 1 Axes>"
      ]
     },
     "metadata": {},
     "output_type": "display_data"
    }
   ],
   "source": [
    "# churn balance\n",
    "df[\"churned\"].value_counts(normalize=True).round(3)\n",
    "df[\"churned\"].value_counts().plot(kind=\"bar\")\n",
    "plt.title(\"Churn vs Non-Churn\")\n"
   ]
  },
  {
   "cell_type": "markdown",
   "id": "e16e4ef4-ba4d-4d55-aa88-803fc8dce9ac",
   "metadata": {},
   "source": [
    "~20% moderate imbalance"
   ]
  },
  {
   "cell_type": "code",
   "execution_count": 13,
   "id": "cb509fc9-487f-45c7-ade5-23d4173af331",
   "metadata": {},
   "outputs": [
    {
     "name": "stdout",
     "output_type": "stream",
     "text": [
      "<class 'pandas.core.frame.DataFrame'>\n",
      "RangeIndex: 30000 entries, 0 to 29999\n",
      "Data columns (total 19 columns):\n",
      " #   Column                    Non-Null Count  Dtype         \n",
      "---  ------                    --------------  -----         \n",
      " 0   customer_id               30000 non-null  int64         \n",
      " 1   signup_dt                 30000 non-null  datetime64[ns]\n",
      " 2   age                       30000 non-null  int64         \n",
      " 3   segment                   30000 non-null  object        \n",
      " 4   region                    30000 non-null  category      \n",
      " 5   plan                      30000 non-null  object        \n",
      " 6   is_veteran                30000 non-null  int64         \n",
      " 7   month                     30000 non-null  object        \n",
      " 8   support_calls             30000 non-null  int64         \n",
      " 9   support_tickets           30000 non-null  int64         \n",
      " 10  product_usage_hours       30000 non-null  float64       \n",
      " 11  received_promo            30000 non-null  int64         \n",
      " 12  churned                   30000 non-null  int64         \n",
      " 13  tenure_days               30000 non-null  int64         \n",
      " 14  tenure_months             30000 non-null  float64       \n",
      " 15  logins_last_30d           30000 non-null  int64         \n",
      " 16  avg_session_min           30000 non-null  int64         \n",
      " 17  support_tickets_last_90d  30000 non-null  int64         \n",
      " 18  nps_score                 30000 non-null  int64         \n",
      "dtypes: category(1), datetime64[ns](1), float64(2), int64(12), object(3)\n",
      "memory usage: 4.1+ MB\n"
     ]
    },
    {
     "data": {
      "application/vnd.microsoft.datawrangler.viewer.v0+json": {
       "columns": [
        {
         "name": "index",
         "rawType": "object",
         "type": "string"
        },
        {
         "name": "count",
         "rawType": "object",
         "type": "unknown"
        },
        {
         "name": "unique",
         "rawType": "object",
         "type": "unknown"
        },
        {
         "name": "top",
         "rawType": "object",
         "type": "unknown"
        },
        {
         "name": "freq",
         "rawType": "object",
         "type": "unknown"
        },
        {
         "name": "mean",
         "rawType": "object",
         "type": "unknown"
        },
        {
         "name": "min",
         "rawType": "object",
         "type": "unknown"
        },
        {
         "name": "25%",
         "rawType": "object",
         "type": "unknown"
        },
        {
         "name": "50%",
         "rawType": "object",
         "type": "unknown"
        },
        {
         "name": "75%",
         "rawType": "object",
         "type": "unknown"
        },
        {
         "name": "max",
         "rawType": "object",
         "type": "unknown"
        },
        {
         "name": "std",
         "rawType": "object",
         "type": "unknown"
        }
       ],
       "ref": "e0fbee6d-ea58-4a13-9308-a932bbff5792",
       "rows": [
        [
         "customer_id",
         "30000.0",
         null,
         null,
         null,
         "102499.5",
         "100000.0",
         "101249.75",
         "102499.5",
         "103749.25",
         "104999.0",
         "1443.3997009687089"
        ],
        [
         "signup_dt",
         "30000",
         null,
         null,
         null,
         "2023-12-20 00:21:18.720000",
         "2023-01-01 00:00:00",
         "2023-06-30 18:00:00",
         "2023-12-17 00:00:00",
         "2024-06-13 00:00:00",
         "2024-11-30 00:00:00",
         null
        ],
        [
         "age",
         "30000.0",
         null,
         null,
         null,
         "47.133",
         "18.0",
         "32.0",
         "47.0",
         "62.0",
         "77.0",
         "17.3892665329225"
        ],
        [
         "segment",
         "30000",
         "3",
         "Consumer",
         "17700",
         null,
         null,
         null,
         null,
         null,
         null,
         null
        ],
        [
         "region",
         "30000",
         "4",
         "West",
         "10242",
         null,
         null,
         null,
         null,
         null,
         null,
         null
        ],
        [
         "plan",
         "30000",
         "3",
         "Basic",
         "14880",
         null,
         null,
         null,
         null,
         null,
         null,
         null
        ],
        [
         "is_veteran",
         "30000.0",
         null,
         null,
         null,
         "0.1584",
         "0.0",
         "0.0",
         "0.0",
         "0.0",
         "1.0",
         "0.3651217383231605"
        ],
        [
         "month",
         "30000",
         "6",
         "3/1/2025",
         "5000",
         null,
         null,
         null,
         null,
         null,
         null,
         null
        ],
        [
         "support_calls",
         "30000.0",
         null,
         null,
         null,
         "4.4964",
         "0.0",
         "3.0",
         "4.0",
         "6.0",
         "14.0",
         "2.00204578192169"
        ],
        [
         "support_tickets",
         "30000.0",
         null,
         null,
         null,
         "0.5101",
         "0.0",
         "0.0",
         "0.0",
         "1.0",
         "4.0",
         "0.6804264025861366"
        ],
        [
         "product_usage_hours",
         "30000.0",
         null,
         null,
         null,
         "99.75810981720224",
         "0.0",
         "80.040788005",
         "99.968290965",
         "119.255539525",
         "211.04932",
         "29.314590694096193"
        ],
        [
         "received_promo",
         "30000.0",
         null,
         null,
         null,
         "0.1496",
         "0.0",
         "0.0",
         "0.0",
         "0.0",
         "1.0",
         "0.3566848480138922"
        ],
        [
         "churned",
         "30000.0",
         null,
         null,
         null,
         "0.2066",
         "0.0",
         "0.0",
         "0.0",
         "0.0",
         "1.0",
         "0.40487270105981304"
        ],
        [
         "tenure_days",
         "30000.0",
         null,
         null,
         null,
         "631.9852",
         "286.0",
         "456.0",
         "635.0",
         "804.25",
         "985.0",
         "200.50385093750202"
        ],
        [
         "tenure_months",
         "30000.0",
         null,
         null,
         null,
         "21.06617333333333",
         "9.533333333333333",
         "15.2",
         "21.166666666666668",
         "26.808333333333334",
         "32.833333333333336",
         "6.683461697916734"
        ],
        [
         "logins_last_30d",
         "30000.0",
         null,
         null,
         null,
         "0.0",
         "0.0",
         "0.0",
         "0.0",
         "0.0",
         "0.0",
         "0.0"
        ],
        [
         "avg_session_min",
         "30000.0",
         null,
         null,
         null,
         "0.0",
         "0.0",
         "0.0",
         "0.0",
         "0.0",
         "0.0",
         "0.0"
        ],
        [
         "support_tickets_last_90d",
         "30000.0",
         null,
         null,
         null,
         "0.0",
         "0.0",
         "0.0",
         "0.0",
         "0.0",
         "0.0",
         "0.0"
        ],
        [
         "nps_score",
         "30000.0",
         null,
         null,
         null,
         "0.0",
         "0.0",
         "0.0",
         "0.0",
         "0.0",
         "0.0",
         "0.0"
        ]
       ],
       "shape": {
        "columns": 11,
        "rows": 19
       }
      },
      "text/html": [
       "<div>\n",
       "<style scoped>\n",
       "    .dataframe tbody tr th:only-of-type {\n",
       "        vertical-align: middle;\n",
       "    }\n",
       "\n",
       "    .dataframe tbody tr th {\n",
       "        vertical-align: top;\n",
       "    }\n",
       "\n",
       "    .dataframe thead th {\n",
       "        text-align: right;\n",
       "    }\n",
       "</style>\n",
       "<table border=\"1\" class=\"dataframe\">\n",
       "  <thead>\n",
       "    <tr style=\"text-align: right;\">\n",
       "      <th></th>\n",
       "      <th>count</th>\n",
       "      <th>unique</th>\n",
       "      <th>top</th>\n",
       "      <th>freq</th>\n",
       "      <th>mean</th>\n",
       "      <th>min</th>\n",
       "      <th>25%</th>\n",
       "      <th>50%</th>\n",
       "      <th>75%</th>\n",
       "      <th>max</th>\n",
       "      <th>std</th>\n",
       "    </tr>\n",
       "  </thead>\n",
       "  <tbody>\n",
       "    <tr>\n",
       "      <th>customer_id</th>\n",
       "      <td>30000.0</td>\n",
       "      <td>NaN</td>\n",
       "      <td>NaN</td>\n",
       "      <td>NaN</td>\n",
       "      <td>102499.5</td>\n",
       "      <td>100000.0</td>\n",
       "      <td>101249.75</td>\n",
       "      <td>102499.5</td>\n",
       "      <td>103749.25</td>\n",
       "      <td>104999.0</td>\n",
       "      <td>1443.399701</td>\n",
       "    </tr>\n",
       "    <tr>\n",
       "      <th>signup_dt</th>\n",
       "      <td>30000</td>\n",
       "      <td>NaN</td>\n",
       "      <td>NaN</td>\n",
       "      <td>NaN</td>\n",
       "      <td>2023-12-20 00:21:18.720000</td>\n",
       "      <td>2023-01-01 00:00:00</td>\n",
       "      <td>2023-06-30 18:00:00</td>\n",
       "      <td>2023-12-17 00:00:00</td>\n",
       "      <td>2024-06-13 00:00:00</td>\n",
       "      <td>2024-11-30 00:00:00</td>\n",
       "      <td>NaN</td>\n",
       "    </tr>\n",
       "    <tr>\n",
       "      <th>age</th>\n",
       "      <td>30000.0</td>\n",
       "      <td>NaN</td>\n",
       "      <td>NaN</td>\n",
       "      <td>NaN</td>\n",
       "      <td>47.133</td>\n",
       "      <td>18.0</td>\n",
       "      <td>32.0</td>\n",
       "      <td>47.0</td>\n",
       "      <td>62.0</td>\n",
       "      <td>77.0</td>\n",
       "      <td>17.389267</td>\n",
       "    </tr>\n",
       "    <tr>\n",
       "      <th>segment</th>\n",
       "      <td>30000</td>\n",
       "      <td>3</td>\n",
       "      <td>Consumer</td>\n",
       "      <td>17700</td>\n",
       "      <td>NaN</td>\n",
       "      <td>NaN</td>\n",
       "      <td>NaN</td>\n",
       "      <td>NaN</td>\n",
       "      <td>NaN</td>\n",
       "      <td>NaN</td>\n",
       "      <td>NaN</td>\n",
       "    </tr>\n",
       "    <tr>\n",
       "      <th>region</th>\n",
       "      <td>30000</td>\n",
       "      <td>4</td>\n",
       "      <td>West</td>\n",
       "      <td>10242</td>\n",
       "      <td>NaN</td>\n",
       "      <td>NaN</td>\n",
       "      <td>NaN</td>\n",
       "      <td>NaN</td>\n",
       "      <td>NaN</td>\n",
       "      <td>NaN</td>\n",
       "      <td>NaN</td>\n",
       "    </tr>\n",
       "    <tr>\n",
       "      <th>plan</th>\n",
       "      <td>30000</td>\n",
       "      <td>3</td>\n",
       "      <td>Basic</td>\n",
       "      <td>14880</td>\n",
       "      <td>NaN</td>\n",
       "      <td>NaN</td>\n",
       "      <td>NaN</td>\n",
       "      <td>NaN</td>\n",
       "      <td>NaN</td>\n",
       "      <td>NaN</td>\n",
       "      <td>NaN</td>\n",
       "    </tr>\n",
       "    <tr>\n",
       "      <th>is_veteran</th>\n",
       "      <td>30000.0</td>\n",
       "      <td>NaN</td>\n",
       "      <td>NaN</td>\n",
       "      <td>NaN</td>\n",
       "      <td>0.1584</td>\n",
       "      <td>0.0</td>\n",
       "      <td>0.0</td>\n",
       "      <td>0.0</td>\n",
       "      <td>0.0</td>\n",
       "      <td>1.0</td>\n",
       "      <td>0.365122</td>\n",
       "    </tr>\n",
       "    <tr>\n",
       "      <th>month</th>\n",
       "      <td>30000</td>\n",
       "      <td>6</td>\n",
       "      <td>3/1/2025</td>\n",
       "      <td>5000</td>\n",
       "      <td>NaN</td>\n",
       "      <td>NaN</td>\n",
       "      <td>NaN</td>\n",
       "      <td>NaN</td>\n",
       "      <td>NaN</td>\n",
       "      <td>NaN</td>\n",
       "      <td>NaN</td>\n",
       "    </tr>\n",
       "    <tr>\n",
       "      <th>support_calls</th>\n",
       "      <td>30000.0</td>\n",
       "      <td>NaN</td>\n",
       "      <td>NaN</td>\n",
       "      <td>NaN</td>\n",
       "      <td>4.4964</td>\n",
       "      <td>0.0</td>\n",
       "      <td>3.0</td>\n",
       "      <td>4.0</td>\n",
       "      <td>6.0</td>\n",
       "      <td>14.0</td>\n",
       "      <td>2.002046</td>\n",
       "    </tr>\n",
       "    <tr>\n",
       "      <th>support_tickets</th>\n",
       "      <td>30000.0</td>\n",
       "      <td>NaN</td>\n",
       "      <td>NaN</td>\n",
       "      <td>NaN</td>\n",
       "      <td>0.5101</td>\n",
       "      <td>0.0</td>\n",
       "      <td>0.0</td>\n",
       "      <td>0.0</td>\n",
       "      <td>1.0</td>\n",
       "      <td>4.0</td>\n",
       "      <td>0.680426</td>\n",
       "    </tr>\n",
       "    <tr>\n",
       "      <th>product_usage_hours</th>\n",
       "      <td>30000.0</td>\n",
       "      <td>NaN</td>\n",
       "      <td>NaN</td>\n",
       "      <td>NaN</td>\n",
       "      <td>99.75811</td>\n",
       "      <td>0.0</td>\n",
       "      <td>80.040788</td>\n",
       "      <td>99.968291</td>\n",
       "      <td>119.25554</td>\n",
       "      <td>211.04932</td>\n",
       "      <td>29.314591</td>\n",
       "    </tr>\n",
       "    <tr>\n",
       "      <th>received_promo</th>\n",
       "      <td>30000.0</td>\n",
       "      <td>NaN</td>\n",
       "      <td>NaN</td>\n",
       "      <td>NaN</td>\n",
       "      <td>0.1496</td>\n",
       "      <td>0.0</td>\n",
       "      <td>0.0</td>\n",
       "      <td>0.0</td>\n",
       "      <td>0.0</td>\n",
       "      <td>1.0</td>\n",
       "      <td>0.356685</td>\n",
       "    </tr>\n",
       "    <tr>\n",
       "      <th>churned</th>\n",
       "      <td>30000.0</td>\n",
       "      <td>NaN</td>\n",
       "      <td>NaN</td>\n",
       "      <td>NaN</td>\n",
       "      <td>0.2066</td>\n",
       "      <td>0.0</td>\n",
       "      <td>0.0</td>\n",
       "      <td>0.0</td>\n",
       "      <td>0.0</td>\n",
       "      <td>1.0</td>\n",
       "      <td>0.404873</td>\n",
       "    </tr>\n",
       "    <tr>\n",
       "      <th>tenure_days</th>\n",
       "      <td>30000.0</td>\n",
       "      <td>NaN</td>\n",
       "      <td>NaN</td>\n",
       "      <td>NaN</td>\n",
       "      <td>631.9852</td>\n",
       "      <td>286.0</td>\n",
       "      <td>456.0</td>\n",
       "      <td>635.0</td>\n",
       "      <td>804.25</td>\n",
       "      <td>985.0</td>\n",
       "      <td>200.503851</td>\n",
       "    </tr>\n",
       "    <tr>\n",
       "      <th>tenure_months</th>\n",
       "      <td>30000.0</td>\n",
       "      <td>NaN</td>\n",
       "      <td>NaN</td>\n",
       "      <td>NaN</td>\n",
       "      <td>21.066173</td>\n",
       "      <td>9.533333</td>\n",
       "      <td>15.2</td>\n",
       "      <td>21.166667</td>\n",
       "      <td>26.808333</td>\n",
       "      <td>32.833333</td>\n",
       "      <td>6.683462</td>\n",
       "    </tr>\n",
       "    <tr>\n",
       "      <th>logins_last_30d</th>\n",
       "      <td>30000.0</td>\n",
       "      <td>NaN</td>\n",
       "      <td>NaN</td>\n",
       "      <td>NaN</td>\n",
       "      <td>0.0</td>\n",
       "      <td>0.0</td>\n",
       "      <td>0.0</td>\n",
       "      <td>0.0</td>\n",
       "      <td>0.0</td>\n",
       "      <td>0.0</td>\n",
       "      <td>0.0</td>\n",
       "    </tr>\n",
       "    <tr>\n",
       "      <th>avg_session_min</th>\n",
       "      <td>30000.0</td>\n",
       "      <td>NaN</td>\n",
       "      <td>NaN</td>\n",
       "      <td>NaN</td>\n",
       "      <td>0.0</td>\n",
       "      <td>0.0</td>\n",
       "      <td>0.0</td>\n",
       "      <td>0.0</td>\n",
       "      <td>0.0</td>\n",
       "      <td>0.0</td>\n",
       "      <td>0.0</td>\n",
       "    </tr>\n",
       "    <tr>\n",
       "      <th>support_tickets_last_90d</th>\n",
       "      <td>30000.0</td>\n",
       "      <td>NaN</td>\n",
       "      <td>NaN</td>\n",
       "      <td>NaN</td>\n",
       "      <td>0.0</td>\n",
       "      <td>0.0</td>\n",
       "      <td>0.0</td>\n",
       "      <td>0.0</td>\n",
       "      <td>0.0</td>\n",
       "      <td>0.0</td>\n",
       "      <td>0.0</td>\n",
       "    </tr>\n",
       "    <tr>\n",
       "      <th>nps_score</th>\n",
       "      <td>30000.0</td>\n",
       "      <td>NaN</td>\n",
       "      <td>NaN</td>\n",
       "      <td>NaN</td>\n",
       "      <td>0.0</td>\n",
       "      <td>0.0</td>\n",
       "      <td>0.0</td>\n",
       "      <td>0.0</td>\n",
       "      <td>0.0</td>\n",
       "      <td>0.0</td>\n",
       "      <td>0.0</td>\n",
       "    </tr>\n",
       "  </tbody>\n",
       "</table>\n",
       "</div>"
      ],
      "text/plain": [
       "                            count unique       top   freq  \\\n",
       "customer_id               30000.0    NaN       NaN    NaN   \n",
       "signup_dt                   30000    NaN       NaN    NaN   \n",
       "age                       30000.0    NaN       NaN    NaN   \n",
       "segment                     30000      3  Consumer  17700   \n",
       "region                      30000      4      West  10242   \n",
       "plan                        30000      3     Basic  14880   \n",
       "is_veteran                30000.0    NaN       NaN    NaN   \n",
       "month                       30000      6  3/1/2025   5000   \n",
       "support_calls             30000.0    NaN       NaN    NaN   \n",
       "support_tickets           30000.0    NaN       NaN    NaN   \n",
       "product_usage_hours       30000.0    NaN       NaN    NaN   \n",
       "received_promo            30000.0    NaN       NaN    NaN   \n",
       "churned                   30000.0    NaN       NaN    NaN   \n",
       "tenure_days               30000.0    NaN       NaN    NaN   \n",
       "tenure_months             30000.0    NaN       NaN    NaN   \n",
       "logins_last_30d           30000.0    NaN       NaN    NaN   \n",
       "avg_session_min           30000.0    NaN       NaN    NaN   \n",
       "support_tickets_last_90d  30000.0    NaN       NaN    NaN   \n",
       "nps_score                 30000.0    NaN       NaN    NaN   \n",
       "\n",
       "                                                mean                  min  \\\n",
       "customer_id                                 102499.5             100000.0   \n",
       "signup_dt                 2023-12-20 00:21:18.720000  2023-01-01 00:00:00   \n",
       "age                                           47.133                 18.0   \n",
       "segment                                          NaN                  NaN   \n",
       "region                                           NaN                  NaN   \n",
       "plan                                             NaN                  NaN   \n",
       "is_veteran                                    0.1584                  0.0   \n",
       "month                                            NaN                  NaN   \n",
       "support_calls                                 4.4964                  0.0   \n",
       "support_tickets                               0.5101                  0.0   \n",
       "product_usage_hours                         99.75811                  0.0   \n",
       "received_promo                                0.1496                  0.0   \n",
       "churned                                       0.2066                  0.0   \n",
       "tenure_days                                 631.9852                286.0   \n",
       "tenure_months                              21.066173             9.533333   \n",
       "logins_last_30d                                  0.0                  0.0   \n",
       "avg_session_min                                  0.0                  0.0   \n",
       "support_tickets_last_90d                         0.0                  0.0   \n",
       "nps_score                                        0.0                  0.0   \n",
       "\n",
       "                                          25%                  50%  \\\n",
       "customer_id                         101249.75             102499.5   \n",
       "signup_dt                 2023-06-30 18:00:00  2023-12-17 00:00:00   \n",
       "age                                      32.0                 47.0   \n",
       "segment                                   NaN                  NaN   \n",
       "region                                    NaN                  NaN   \n",
       "plan                                      NaN                  NaN   \n",
       "is_veteran                                0.0                  0.0   \n",
       "month                                     NaN                  NaN   \n",
       "support_calls                             3.0                  4.0   \n",
       "support_tickets                           0.0                  0.0   \n",
       "product_usage_hours                 80.040788            99.968291   \n",
       "received_promo                            0.0                  0.0   \n",
       "churned                                   0.0                  0.0   \n",
       "tenure_days                             456.0                635.0   \n",
       "tenure_months                            15.2            21.166667   \n",
       "logins_last_30d                           0.0                  0.0   \n",
       "avg_session_min                           0.0                  0.0   \n",
       "support_tickets_last_90d                  0.0                  0.0   \n",
       "nps_score                                 0.0                  0.0   \n",
       "\n",
       "                                          75%                  max  \\\n",
       "customer_id                         103749.25             104999.0   \n",
       "signup_dt                 2024-06-13 00:00:00  2024-11-30 00:00:00   \n",
       "age                                      62.0                 77.0   \n",
       "segment                                   NaN                  NaN   \n",
       "region                                    NaN                  NaN   \n",
       "plan                                      NaN                  NaN   \n",
       "is_veteran                                0.0                  1.0   \n",
       "month                                     NaN                  NaN   \n",
       "support_calls                             6.0                 14.0   \n",
       "support_tickets                           1.0                  4.0   \n",
       "product_usage_hours                 119.25554            211.04932   \n",
       "received_promo                            0.0                  1.0   \n",
       "churned                                   0.0                  1.0   \n",
       "tenure_days                            804.25                985.0   \n",
       "tenure_months                       26.808333            32.833333   \n",
       "logins_last_30d                           0.0                  0.0   \n",
       "avg_session_min                           0.0                  0.0   \n",
       "support_tickets_last_90d                  0.0                  0.0   \n",
       "nps_score                                 0.0                  0.0   \n",
       "\n",
       "                                  std  \n",
       "customer_id               1443.399701  \n",
       "signup_dt                         NaN  \n",
       "age                         17.389267  \n",
       "segment                           NaN  \n",
       "region                            NaN  \n",
       "plan                              NaN  \n",
       "is_veteran                   0.365122  \n",
       "month                             NaN  \n",
       "support_calls                2.002046  \n",
       "support_tickets              0.680426  \n",
       "product_usage_hours         29.314591  \n",
       "received_promo               0.356685  \n",
       "churned                      0.404873  \n",
       "tenure_days                200.503851  \n",
       "tenure_months                6.683462  \n",
       "logins_last_30d                   0.0  \n",
       "avg_session_min                   0.0  \n",
       "support_tickets_last_90d          0.0  \n",
       "nps_score                         0.0  "
      ]
     },
     "execution_count": 13,
     "metadata": {},
     "output_type": "execute_result"
    }
   ],
   "source": [
    "# dataset overview\n",
    "\n",
    "df.info()\n",
    "df.describe(include=\"all\").T.head(20) "
   ]
  },
  {
   "cell_type": "code",
   "execution_count": 14,
   "id": "79e136a3-00b1-42df-b928-60deb526e987",
   "metadata": {},
   "outputs": [
    {
     "data": {
      "text/plain": [
       "Text(0.5, 1.02, 'Numeric Feature Distributions')"
      ]
     },
     "execution_count": 14,
     "metadata": {},
     "output_type": "execute_result"
    },
    {
     "data": {
      "image/png": "[encoded data removed]",
      "text/plain": [
       "<Figure size 1400x1000 with 9 Axes>"
      ]
     },
     "metadata": {},
     "output_type": "display_data"
    }
   ],
   "source": [
    "# patterns\n",
    "\n",
    "num_cols = [\"age\", \"tenure_days\", \"logins_last_30d\",\n",
    "            \"avg_session_min\", \"support_calls\",\n",
    "            \"support_tickets\", \"support_tickets_last_90d\",\n",
    "            \"product_usage_hours\", \"nps_score\"]\n",
    "\n",
    "df[num_cols].hist(figsize=(14,10), bins=20)\n",
    "plt.suptitle(\"Numeric Feature Distributions\", y=1.02)\n"
   ]
  },
  {
   "cell_type": "code",
   "execution_count": 15,
   "id": "56894c98-e313-45fd-8bcf-b3500a8c73d8",
   "metadata": {},
   "outputs": [
    {
     "data": {
      "image/png": "[encoded data removed]",
      "text/plain": [
       "<Figure size 640x480 with 1 Axes>"
      ]
     },
     "metadata": {},
     "output_type": "display_data"
    },
    {
     "data": {
      "image/png": "[encoded data removed]",
      "text/plain": [
       "<Figure size 640x480 with 1 Axes>"
      ]
     },
     "metadata": {},
     "output_type": "display_data"
    },
    {
     "data": {
      "image/png": "[encoded data removed]",
      "text/plain": [
       "<Figure size 640x480 with 1 Axes>"
      ]
     },
     "metadata": {},
     "output_type": "display_data"
    },
    {
     "data": {
      "image/png": "[encoded data removed]",
      "text/plain": [
       "<Figure size 640x480 with 1 Axes>"
      ]
     },
     "metadata": {},
     "output_type": "display_data"
    },
    {
     "data": {
      "image/png": "[encoded data removed]",
      "text/plain": [
       "<Figure size 640x480 with 1 Axes>"
      ]
     },
     "metadata": {},
     "output_type": "display_data"
    },
    {
     "data": {
      "image/png": "[encoded data removed]",
      "text/plain": [
       "<Figure size 640x480 with 1 Axes>"
      ]
     },
     "metadata": {},
     "output_type": "display_data"
    }
   ],
   "source": [
    "cat_cols = [\"segment\", \"region\", \"plan\", \"is_veteran\", \"received_promo\", \"month\"]\n",
    "\n",
    "for col in cat_cols:\n",
    "    df[col].value_counts(normalize=True).plot(kind=\"bar\")\n",
    "    plt.title(f\"Distribution of {col}\")\n",
    "    plt.show()\n"
   ]
  },
  {
   "cell_type": "code",
   "execution_count": 16,
   "id": "c5813c8d-1ff4-491a-932f-4e0434e2618a",
   "metadata": {},
   "outputs": [
    {
     "name": "stderr",
     "output_type": "stream",
     "text": [
      "C:\\Users\\beall\\AppData\\Local\\Temp\\ipykernel_21396\\1790295770.py:1: FutureWarning: The default of observed=False is deprecated and will be changed to True in a future version of pandas. Pass observed=False to retain current behavior or observed=True to adopt the future default and silence this warning.\n",
      "  df.groupby(\"region\")[\"churned\"].mean().sort_values().plot(kind=\"bar\")\n"
     ]
    },
    {
     "data": {
      "text/plain": [
       "Text(0.5, 1.0, 'Churn Rate by Region')"
      ]
     },
     "execution_count": 16,
     "metadata": {},
     "output_type": "execute_result"
    },
    {
     "data": {
      "image/png": "[encoded data removed]",
      "text/plain": [
       "<Figure size 640x480 with 1 Axes>"
      ]
     },
     "metadata": {},
     "output_type": "display_data"
    }
   ],
   "source": [
    "df.groupby(\"region\")[\"churned\"].mean().sort_values().plot(kind=\"bar\")\n",
    "plt.title(\"Churn Rate by Region\")\n"
   ]
  },
  {
   "cell_type": "code",
   "execution_count": 17,
   "id": "30c95586-8cf7-48fe-8c5a-cdb19f68a8d4",
   "metadata": {},
   "outputs": [
    {
     "data": {
      "text/plain": [
       "Text(0.5, 1.0, 'Churn Rate by Segment')"
      ]
     },
     "execution_count": 17,
     "metadata": {},
     "output_type": "execute_result"
    },
    {
     "data": {
      "image/png": "[encoded data removed]",
      "text/plain": [
       "<Figure size 640x480 with 1 Axes>"
      ]
     },
     "metadata": {},
     "output_type": "display_data"
    }
   ],
   "source": [
    "df.groupby(\"segment\")[\"churned\"].mean().sort_values().plot(kind=\"bar\")\n",
    "plt.title(\"Churn Rate by Segment\")\n"
   ]
  },
  {
   "cell_type": "code",
   "execution_count": 18,
   "id": "0007dec6-eb55-45c8-ac03-2194a533a084",
   "metadata": {},
   "outputs": [
    {
     "data": {
      "text/plain": [
       "Text(0.5, 1.0, 'Churn Rate by Plan')"
      ]
     },
     "execution_count": 18,
     "metadata": {},
     "output_type": "execute_result"
    },
    {
     "data": {
      "image/png": "[encoded data removed]",
      "text/plain": [
       "<Figure size 640x480 with 1 Axes>"
      ]
     },
     "metadata": {},
     "output_type": "display_data"
    }
   ],
   "source": [
    "df.groupby(\"plan\")[\"churned\"].mean().sort_values().plot(kind=\"bar\")\n",
    "plt.title(\"Churn Rate by Plan\")\n"
   ]
  },
  {
   "cell_type": "code",
   "execution_count": 19,
   "id": "23434d49-8b79-448f-a654-8f64362006ad",
   "metadata": {},
   "outputs": [
    {
     "name": "stderr",
     "output_type": "stream",
     "text": [
      "C:\\Users\\beall\\AppData\\Local\\Temp\\ipykernel_21396\\610971319.py:4: FutureWarning: The default of observed=False is deprecated and will be changed to True in a future version of pandas. Pass observed=False to retain current behavior or observed=True to adopt the future default and silence this warning.\n",
      "  df.groupby(\"tenure_bucket\")[\"churned\"].mean().plot(kind=\"bar\")\n"
     ]
    },
    {
     "data": {
      "text/plain": [
       "Text(0.5, 1.0, 'Churn Rate by Tenure Bucket')"
      ]
     },
     "execution_count": 19,
     "metadata": {},
     "output_type": "execute_result"
    },
    {
     "data": {
      "image/png": "[encoded data removed]",
      "text/plain": [
       "<Figure size 640x480 with 1 Axes>"
      ]
     },
     "metadata": {},
     "output_type": "display_data"
    }
   ],
   "source": [
    "df[\"tenure_bucket\"] = pd.cut(df[\"tenure_days\"],\n",
    "                             bins=[0,90,180,365,730,2000],\n",
    "                             labels=[\"<3m\",\"3-6m\",\"6-12m\",\"1-2y\",\">2y\"])\n",
    "df.groupby(\"tenure_bucket\")[\"churned\"].mean().plot(kind=\"bar\")\n",
    "plt.title(\"Churn Rate by Tenure Bucket\")\n"
   ]
  },
  {
   "cell_type": "code",
   "execution_count": 20,
   "id": "257bd543-892e-4c3d-93ce-f649a9a28e5a",
   "metadata": {},
   "outputs": [
    {
     "data": {
      "text/plain": [
       "Text(0.5, 1.0, 'Correlation Matrix with Churn')"
      ]
     },
     "execution_count": 20,
     "metadata": {},
     "output_type": "execute_result"
    },
    {
     "data": {
      "image/png": "[encoded data removed]",
      "text/plain": [
       "<Figure size 1000x600 with 2 Axes>"
      ]
     },
     "metadata": {},
     "output_type": "display_data"
    }
   ],
   "source": [
    "import seaborn as sns\n",
    "\n",
    "plt.figure(figsize=(10,6))\n",
    "sns.heatmap(df[num_cols + [\"churned\"]].corr(),\n",
    "            annot=True, cmap=\"coolwarm\", fmt=\".2f\")\n",
    "plt.title(\"Correlation Matrix with Churn\")\n"
   ]
  },
  {
   "cell_type": "markdown",
   "id": "d35b9046-130c-437e-8979-3200910068f1",
   "metadata": {},
   "source": [
    "# Key EDA Insights — Customer Churn\n",
    "\n",
    "### Churn Rate\n",
    "- About **20.7% of customers churn** (roughly 1 in 5).\n",
    "- Dataset is moderately imbalanced, so class balance should be considered in modeling.\n",
    "\n",
    "### Demographics\n",
    "- **Average age ≈ 47** (range 18–77).\n",
    "- No strong skew; age alone may not be a dominant churn predictor.\n",
    "\n",
    "### Segments, Plans, and Regions\n",
    "- **Consumer** segment is largest (~59%).\n",
    "- **Basic** plan is most common (~50%) and has **higher churn** compared to other plans.\n",
    "- **Regional churn differences** suggest location influences customer retention.\n",
    "\n",
    "### Tenure\n",
    "- **Median tenure ≈ 21 months** (time since signup).\n",
    "- **Early-tenure customers (<6 months) churn at 2× the rate** of longer-tenure customers.\n",
    "- Indicates a critical period for onboarding and engagement.\n",
    "\n",
    "### Customer Activity & Support\n",
    "- **Support calls/tickets** positively correlated with churn → more issues = higher risk.\n",
    "- **Product usage hours**: lower usage tends to link with higher churn, while consistent usage is protective.\n",
    "\n",
    "### Promotions & NPS\n",
    "- Only ~15% received promotions → opportunity for targeted retention offers.\n",
    "- **NPS mostly zero** → likely missing or not tracked; may not be useful without better data.\n",
    "\n",
    "---\n",
    "\n",
    "### **Takeaway:**  \n",
    "Churn is **highest in the first 6 months**, among **Basic-plan customers**, and for those with **high support activity and low usage**. Retention strategies should target **early-tenure customers** and **plans/regions with elevated churn**.\n"
   ]
  },
  {
   "cell_type": "markdown",
   "id": "66eab2ae",
   "metadata": {},
   "source": [
    "## Business Context\n",
    "- Summarize the specific question this notebook answers."
   ]
  },
  {
   "cell_type": "markdown",
   "id": "97a98988",
   "metadata": {},
   "source": [
    "## Data Loading & Preparation"
   ]
  },
  {
   "cell_type": "markdown",
   "id": "42af0998",
   "metadata": {},
   "source": [
    "## Analysis / Modeling"
   ]
  },
  {
   "cell_type": "markdown",
   "id": "6b8a6105",
   "metadata": {},
   "source": [
    "## Results & Visuals"
   ]
  },
  {
   "cell_type": "markdown",
   "id": "0c7d5b42",
   "metadata": {},
   "source": [
    "## Takeaways / Next Steps"
   ]
  }
 ],
 "metadata": {
  "kernelspec": {
   "display_name": "Python 3 (ipykernel)",
   "language": "python",
   "name": "python3"
  },
  "language_info": {
   "codemirror_mode": {
    "name": "ipython",
    "version": 3
   },
   "file_extension": ".py",
   "mimetype": "text/x-python",
   "name": "python",
   "nbconvert_exporter": "python",
   "pygments_lexer": "ipython3",
   "version": "3.13.7"
  }
 },
 "nbformat": 4,
 "nbformat_minor": 5
}
