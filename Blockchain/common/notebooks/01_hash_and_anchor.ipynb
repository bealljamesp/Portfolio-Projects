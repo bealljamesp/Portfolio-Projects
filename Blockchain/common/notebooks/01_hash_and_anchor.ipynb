{
  "cells": [
    {
      "cell_type": "markdown",
      "metadata": {},
      "source": [
        "# 01 — Hash and Anchor (Local Simulation)\n",
        "\n",
        "This notebook teaches hashing + anchoring without running a blockchain node. It uses a **local JSON registry** to simulate on-chain storage.\n",
        "\n",
        "## Hashing Policy (v1)\n",
        "- **Algorithm**: SHA-256\n",
        "- **Row Columns**: all columns in the dataset (explicitly listed in code)\n",
        "- **Column Order**: sorted ascending (or specified list)\n",
        "- **Separator**: `|` (with delimiter escaping)\n",
        "- **Null Handling**: `None`/`NaN` → empty string\n",
        "- **Floats**: normalized to 6-decimal precision (trailing zeros trimmed)\n",
        "- **Whitespace**: `strip + collapse internal` for strings\n",
        "- **Dataset Ordering**: by a stable business key if present (e.g., `shipment_id`), else by `row_hash`\n",
        "- **Manifest**: JSON written next to the dataset with the exact settings and dataset hash\n",
        "\n",
        "> Change policy → bump the version string (e.g., `hash-policy-2`) and re-derive hashes.\n"
      ]
    },
    {
      "cell_type": "code",
      "execution_count": 1,
      "metadata": {},
      "outputs": [
        {
          "name": "stdout",
          "output_type": "stream",
          "text": [
            "Loaded hash_anchor from: C:\\Users\\beall\\OneDrive\\Documents\\Portfolio\\Blockchain\\common\\utils\n"
          ]
        }
      ],
      "source": [
        "# Robust imports: find Portfolio root and load the local anchor helpers\n",
        "from pathlib import Path\n",
        "import sys\n",
        "\n",
        "def find_portfolio_root(start: Path) -> Path:\n",
        "    start = start.resolve()\n",
        "    for p in [start, *start.parents]:\n",
        "        if (p / \"Blockchain/common/utils/hash_anchor.py\").exists():\n",
        "            return p\n",
        "    raise RuntimeError(f\"Couldn't find Portfolio root from: {start}\")\n",
        "\n",
        "PORTFOLIO_ROOT = find_portfolio_root(Path.cwd())\n",
        "UTILS_DIR = (PORTFOLIO_ROOT / \"Blockchain/common/utils\").resolve()\n",
        "if str(UTILS_DIR) not in sys.path:\n",
        "    sys.path.insert(0, str(UTILS_DIR))\n",
        "\n",
        "from hash_anchor import sha256_bytes, anchor_hash, verify_hash\n",
        "print(\"Loaded hash_anchor from:\", UTILS_DIR)"
      ]
    },
    {
      "cell_type": "code",
      "execution_count": 2,
      "metadata": {},
      "outputs": [
        {
          "data": {
            "application/vnd.microsoft.datawrangler.viewer.v0+json": {
              "columns": [
                {
                  "name": "index",
                  "rawType": "int64",
                  "type": "integer"
                },
                {
                  "name": "shipment_id",
                  "rawType": "object",
                  "type": "string"
                },
                {
                  "name": "gtin",
                  "rawType": "int64",
                  "type": "integer"
                },
                {
                  "name": "case_id",
                  "rawType": "object",
                  "type": "string"
                },
                {
                  "name": "temp_c",
                  "rawType": "float64",
                  "type": "float"
                }
              ],
              "ref": "18fd73c8-dd5e-409b-8653-0f300e930d68",
              "rows": [
                [
                  "0",
                  "S1",
                  "123",
                  "CASE001",
                  "4.1"
                ],
                [
                  "1",
                  "S2",
                  "123",
                  "CASE002",
                  "9.9"
                ]
              ],
              "shape": {
                "columns": 4,
                "rows": 2
              }
            },
            "text/html": [
              "<div>\n",
              "<style scoped>\n",
              "    .dataframe tbody tr th:only-of-type {\n",
              "        vertical-align: middle;\n",
              "    }\n",
              "\n",
              "    .dataframe tbody tr th {\n",
              "        vertical-align: top;\n",
              "    }\n",
              "\n",
              "    .dataframe thead th {\n",
              "        text-align: right;\n",
              "    }\n",
              "</style>\n",
              "<table border=\"1\" class=\"dataframe\">\n",
              "  <thead>\n",
              "    <tr style=\"text-align: right;\">\n",
              "      <th></th>\n",
              "      <th>shipment_id</th>\n",
              "      <th>gtin</th>\n",
              "      <th>case_id</th>\n",
              "      <th>temp_c</th>\n",
              "    </tr>\n",
              "  </thead>\n",
              "  <tbody>\n",
              "    <tr>\n",
              "      <th>0</th>\n",
              "      <td>S1</td>\n",
              "      <td>123</td>\n",
              "      <td>CASE001</td>\n",
              "      <td>4.1</td>\n",
              "    </tr>\n",
              "    <tr>\n",
              "      <th>1</th>\n",
              "      <td>S2</td>\n",
              "      <td>123</td>\n",
              "      <td>CASE002</td>\n",
              "      <td>9.9</td>\n",
              "    </tr>\n",
              "  </tbody>\n",
              "</table>\n",
              "</div>"
            ],
            "text/plain": [
              "  shipment_id  gtin  case_id  temp_c\n",
              "0          S1   123  CASE001     4.1\n",
              "1          S2   123  CASE002     9.9"
            ]
          },
          "execution_count": 2,
          "metadata": {},
          "output_type": "execute_result"
        }
      ],
      "source": [
        "# Create a tiny demo CSV (idempotent) and read it\n",
        "import pandas as pd\n",
        "demo_csv = PORTFOLIO_ROOT / 'Blockchain/common/notebooks/demo_shipments.csv'\n",
        "if not demo_csv.exists():\n",
        "    demo_csv.write_text('shipment_id,gtin,case_id,temp_c\\nS1,000123,CASE001,4.1\\nS2,000123,CASE002,9.9\\n', encoding='utf-8')\n",
        "df = pd.read_csv(demo_csv)\n",
        "df"
      ]
    },
    {
      "cell_type": "code",
      "execution_count": 3,
      "metadata": {},
      "outputs": [
        {
          "data": {
            "application/vnd.microsoft.datawrangler.viewer.v0+json": {
              "columns": [
                {
                  "name": "index",
                  "rawType": "int64",
                  "type": "integer"
                },
                {
                  "name": "shipment_id",
                  "rawType": "object",
                  "type": "string"
                },
                {
                  "name": "gtin",
                  "rawType": "int64",
                  "type": "integer"
                },
                {
                  "name": "case_id",
                  "rawType": "object",
                  "type": "string"
                },
                {
                  "name": "temp_c",
                  "rawType": "float64",
                  "type": "float"
                },
                {
                  "name": "row_hash",
                  "rawType": "object",
                  "type": "string"
                }
              ],
              "ref": "28b2af87-b1aa-46ad-b94b-d837e287a34b",
              "rows": [
                [
                  "0",
                  "S1",
                  "123",
                  "CASE001",
                  "4.1",
                  "a8e361e42d77633e02042d7fc9a41f7ee082a9c9264af353505cdd44a7d5f64a"
                ],
                [
                  "1",
                  "S2",
                  "123",
                  "CASE002",
                  "9.9",
                  "79cae2578b17dda1f71b3d5c03bdc75d4813768d1b53047e71b6a2d853629779"
                ]
              ],
              "shape": {
                "columns": 5,
                "rows": 2
              }
            },
            "text/html": [
              "<div>\n",
              "<style scoped>\n",
              "    .dataframe tbody tr th:only-of-type {\n",
              "        vertical-align: middle;\n",
              "    }\n",
              "\n",
              "    .dataframe tbody tr th {\n",
              "        vertical-align: top;\n",
              "    }\n",
              "\n",
              "    .dataframe thead th {\n",
              "        text-align: right;\n",
              "    }\n",
              "</style>\n",
              "<table border=\"1\" class=\"dataframe\">\n",
              "  <thead>\n",
              "    <tr style=\"text-align: right;\">\n",
              "      <th></th>\n",
              "      <th>shipment_id</th>\n",
              "      <th>gtin</th>\n",
              "      <th>case_id</th>\n",
              "      <th>temp_c</th>\n",
              "      <th>row_hash</th>\n",
              "    </tr>\n",
              "  </thead>\n",
              "  <tbody>\n",
              "    <tr>\n",
              "      <th>0</th>\n",
              "      <td>S1</td>\n",
              "      <td>123</td>\n",
              "      <td>CASE001</td>\n",
              "      <td>4.1</td>\n",
              "      <td>a8e361e42d77633e02042d7fc9a41f7ee082a9c9264af3...</td>\n",
              "    </tr>\n",
              "    <tr>\n",
              "      <th>1</th>\n",
              "      <td>S2</td>\n",
              "      <td>123</td>\n",
              "      <td>CASE002</td>\n",
              "      <td>9.9</td>\n",
              "      <td>79cae2578b17dda1f71b3d5c03bdc75d4813768d1b5304...</td>\n",
              "    </tr>\n",
              "  </tbody>\n",
              "</table>\n",
              "</div>"
            ],
            "text/plain": [
              "  shipment_id  gtin  case_id  temp_c  \\\n",
              "0          S1   123  CASE001     4.1   \n",
              "1          S2   123  CASE002     9.9   \n",
              "\n",
              "                                            row_hash  \n",
              "0  a8e361e42d77633e02042d7fc9a41f7ee082a9c9264af3...  \n",
              "1  79cae2578b17dda1f71b3d5c03bdc75d4813768d1b5304...  "
            ]
          },
          "execution_count": 3,
          "metadata": {},
          "output_type": "execute_result"
        }
      ],
      "source": [
        "# Hardened row hashing with a documented policy\n",
        "import hashlib, math\n",
        "\n",
        "SEP = '|'            # record in manifest\n",
        "FLOAT_FMT = \"{:.6f}\" # record in manifest\n",
        "\n",
        "def norm_val(v):\n",
        "    if v is None or (isinstance(v, float) and math.isnan(v)):\n",
        "        return ''\n",
        "    if isinstance(v, str):\n",
        "        return ' '.join(v.strip().split())\n",
        "    if isinstance(v, float):\n",
        "        s = FLOAT_FMT.format(v)\n",
        "        return s.rstrip('0').rstrip('.') if '.' in s else s\n",
        "    return str(v)\n",
        "\n",
        "def row_digest(row, columns=None):\n",
        "    cols = sorted(columns or row.index)\n",
        "    parts = [norm_val(row[c]) for c in cols]\n",
        "    parts = [p.replace(SEP, f\"\\\\{SEP}\") for p in parts]\n",
        "    payload = SEP.join(parts).encode('utf-8')\n",
        "    return hashlib.sha256(payload).hexdigest()\n",
        "\n",
        "# Choose columns: here we use all columns; you can pass a subset\n",
        "cols = sorted(df.columns)\n",
        "df['row_hash'] = df.apply(lambda r: row_digest(r, columns=cols), axis=1)\n",
        "df"
      ]
    },
    {
      "cell_type": "code",
      "execution_count": 4,
      "metadata": {},
      "outputs": [
        {
          "name": "stdout",
          "output_type": "stream",
          "text": [
            "dataset_hash: 16a69b607cb86a202c15fd16c1465292076e07dabc2b63f5070ed4e0dbb80fce\n"
          ]
        }
      ],
      "source": [
        "# Build a deterministic dataset-level hash\n",
        "if 'shipment_id' in df.columns:\n",
        "    row_hashes = df.sort_values('shipment_id')['row_hash']\n",
        "else:\n",
        "    row_hashes = df['row_hash'].sort_values().reset_index(drop=True)\n",
        "\n",
        "dataset_payload = '\\n'.join(row_hashes).encode('utf-8')\n",
        "dataset_hash = hashlib.sha256(dataset_payload).hexdigest()\n",
        "print(\"dataset_hash:\", dataset_hash)"
      ]
    },
    {
      "cell_type": "code",
      "execution_count": 5,
      "metadata": {},
      "outputs": [
        {
          "name": "stdout",
          "output_type": "stream",
          "text": [
            "Dataset hash already anchored; update registry ref manually if desired.\n",
            "verify: True\n"
          ]
        }
      ],
      "source": [
        "# Anchor the dataset hash with a RELATIVE ref\n",
        "rel = demo_csv.relative_to(PORTFOLIO_ROOT).as_posix()\n",
        "ref = f\"local://{rel}#v=hash-policy-1\"\n",
        "try:\n",
        "    anchor_hash(dataset_hash, ref)\n",
        "    print(\"Anchored dataset hash (relative ref)\")\n",
        "except ValueError:\n",
        "    print(\"Dataset hash already anchored; update registry ref manually if desired.\")\n",
        "print(\"verify:\", verify_hash(dataset_hash, ref))\n"
      ]
    },
    {
      "cell_type": "code",
      "execution_count": 6,
      "metadata": {},
      "outputs": [
        {
          "name": "stdout",
          "output_type": "stream",
          "text": [
            "Wrote manifest → C:\\Users\\beall\\OneDrive\\Documents\\Portfolio\\Blockchain\\common\\notebooks\\demo_shipments.manifest.json\n"
          ]
        }
      ],
      "source": [
        "# Write a manifest documenting the exact policy and dataset-level hash\n",
        "import json\n",
        "manifest = {\n",
        "    \"source\": demo_csv.as_posix(),\n",
        "    \"hash_algorithm\": \"sha256\",\n",
        "    \"row_policy\": {\n",
        "        \"columns\": cols,\n",
        "        \"separator\": SEP,\n",
        "        \"float_precision\": 6,\n",
        "        \"null_as\": \"\",\n",
        "        \"whitespace_norm\": \"strip+collapse\",\n",
        "        \"delimiter_escape\": True\n",
        "    },\n",
        "    \"ordering\": \"by 'shipment_id' ascending\" if 'shipment_id' in df.columns else \"by row_hash ascending\",\n",
        "    \"dataset_hash\": dataset_hash,\n",
        "}\n",
        "(PORTFOLIO_ROOT / 'Blockchain/common/notebooks/demo_shipments.manifest.json').write_text(\n",
        "    json.dumps(manifest, indent=2), encoding='utf-8'\n",
        ")\n",
        "print(\"Wrote manifest →\", (PORTFOLIO_ROOT / 'Blockchain/common/notebooks/demo_shipments.manifest.json'))"
      ]
    },
    {
      "cell_type": "code",
      "execution_count": 9,
      "id": "b1ab3231",
      "metadata": {},
      "outputs": [
        {
          "name": "stdout",
          "output_type": "stream",
          "text": [
            "cwd: c:\\Users\\beall\\OneDrive\\Documents\\Portfolio\n"
          ]
        },
        {
          "ename": "FileNotFoundError",
          "evalue": "[Errno 2] No such file or directory: 'demo_shipments.manifest.json'",
          "output_type": "error",
          "traceback": [
            "\u001b[31m---------------------------------------------------------------------------\u001b[39m",
            "\u001b[31mFileNotFoundError\u001b[39m                         Traceback (most recent call last)",
            "\u001b[36mCell\u001b[39m\u001b[36m \u001b[39m\u001b[32mIn[9]\u001b[39m\u001b[32m, line 8\u001b[39m\n\u001b[32m      5\u001b[39m \u001b[38;5;28mprint\u001b[39m(\u001b[33m\"\u001b[39m\u001b[33mcwd:\u001b[39m\u001b[33m\"\u001b[39m, Path.cwd())  \u001b[38;5;66;03m# just to confirm\u001b[39;00m\n\u001b[32m      7\u001b[39m \u001b[38;5;66;03m# Manifest is in the same folder as the notebook\u001b[39;00m\n\u001b[32m----> \u001b[39m\u001b[32m8\u001b[39m manifest = json.loads(\u001b[43mPath\u001b[49m\u001b[43m(\u001b[49m\u001b[33;43m\"\u001b[39;49m\u001b[33;43mdemo_shipments.manifest.json\u001b[39;49m\u001b[33;43m\"\u001b[39;49m\u001b[43m)\u001b[49m\u001b[43m.\u001b[49m\u001b[43mread_text\u001b[49m\u001b[43m(\u001b[49m\u001b[43mencoding\u001b[49m\u001b[43m=\u001b[49m\u001b[33;43m\"\u001b[39;49m\u001b[33;43mutf-8\u001b[39;49m\u001b[33;43m\"\u001b[39;49m\u001b[43m)\u001b[49m)\n\u001b[32m      9\u001b[39m hex_hash = manifest[\u001b[33m\"\u001b[39m\u001b[33mdataset_hash\u001b[39m\u001b[33m\"\u001b[39m]\n\u001b[32m     11\u001b[39m \u001b[38;5;66;03m# The ref must match what you anchored (we used this earlier)\u001b[39;00m\n",
            "\u001b[36mFile \u001b[39m\u001b[32mc:\\Users\\beall\\miniconda3\\envs\\ai-scm-portfolio\\Lib\\pathlib.py:1058\u001b[39m, in \u001b[36mPath.read_text\u001b[39m\u001b[34m(self, encoding, errors)\u001b[39m\n\u001b[32m   1054\u001b[39m \u001b[38;5;250m\u001b[39m\u001b[33;03m\"\"\"\u001b[39;00m\n\u001b[32m   1055\u001b[39m \u001b[33;03mOpen the file in text mode, read it, and close the file.\u001b[39;00m\n\u001b[32m   1056\u001b[39m \u001b[33;03m\"\"\"\u001b[39;00m\n\u001b[32m   1057\u001b[39m encoding = io.text_encoding(encoding)\n\u001b[32m-> \u001b[39m\u001b[32m1058\u001b[39m \u001b[38;5;28;01mwith\u001b[39;00m \u001b[38;5;28;43mself\u001b[39;49m\u001b[43m.\u001b[49m\u001b[43mopen\u001b[49m\u001b[43m(\u001b[49m\u001b[43mmode\u001b[49m\u001b[43m=\u001b[49m\u001b[33;43m'\u001b[39;49m\u001b[33;43mr\u001b[39;49m\u001b[33;43m'\u001b[39;49m\u001b[43m,\u001b[49m\u001b[43m \u001b[49m\u001b[43mencoding\u001b[49m\u001b[43m=\u001b[49m\u001b[43mencoding\u001b[49m\u001b[43m,\u001b[49m\u001b[43m \u001b[49m\u001b[43merrors\u001b[49m\u001b[43m=\u001b[49m\u001b[43merrors\u001b[49m\u001b[43m)\u001b[49m \u001b[38;5;28;01mas\u001b[39;00m f:\n\u001b[32m   1059\u001b[39m     \u001b[38;5;28;01mreturn\u001b[39;00m f.read()\n",
            "\u001b[36mFile \u001b[39m\u001b[32mc:\\Users\\beall\\miniconda3\\envs\\ai-scm-portfolio\\Lib\\pathlib.py:1044\u001b[39m, in \u001b[36mPath.open\u001b[39m\u001b[34m(self, mode, buffering, encoding, errors, newline)\u001b[39m\n\u001b[32m   1042\u001b[39m \u001b[38;5;28;01mif\u001b[39;00m \u001b[33m\"\u001b[39m\u001b[33mb\u001b[39m\u001b[33m\"\u001b[39m \u001b[38;5;129;01mnot\u001b[39;00m \u001b[38;5;129;01min\u001b[39;00m mode:\n\u001b[32m   1043\u001b[39m     encoding = io.text_encoding(encoding)\n\u001b[32m-> \u001b[39m\u001b[32m1044\u001b[39m \u001b[38;5;28;01mreturn\u001b[39;00m io.open(\u001b[38;5;28mself\u001b[39m, mode, buffering, encoding, errors, newline)\n",
            "\u001b[31mFileNotFoundError\u001b[39m: [Errno 2] No such file or directory: 'demo_shipments.manifest.json'"
          ]
        }
      ],
      "source": [
        "# Verify via local API from *this* notebooks folder\n",
        "import json, requests\n",
        "from pathlib import Path\n",
        "\n",
        "print(\"cwd:\", Path.cwd())  # just to confirm\n",
        "\n",
        "# Manifest is in the same folder as the notebook\n",
        "manifest = json.loads(Path(\"demo_shipments.manifest.json\").read_text(encoding=\"utf-8\"))\n",
        "hex_hash = manifest[\"dataset_hash\"]\n",
        "\n",
        "# The ref must match what you anchored (we used this earlier)\n",
        "ref = \"local://Blockchain/common/notebooks/demo_shipments.csv#v=hash-policy-1\"\n",
        "\n",
        "# Health check\n",
        "h = requests.get(\"http://127.0.0.1:8000/healthz\", timeout=5)\n",
        "h.raise_for_status()\n",
        "print(\"healthz:\", h.json())\n",
        "\n",
        "# Verify (requests handles the '#' in params for you)\n",
        "r = requests.get(\"http://127.0.0.1:8000/verify\", params={\"hash\": hex_hash, \"ref\": ref}, timeout=5)\n",
        "r.raise_for_status()\n",
        "r.json()  # expect {'ok': True, ...}\n"
      ]
    },
    {
      "cell_type": "code",
      "execution_count": 10,
      "id": "abf56062",
      "metadata": {},
      "outputs": [
        {
          "name": "stdout",
          "output_type": "stream",
          "text": [
            "health: {'status': 'ok', 'registry_exists': True}\n",
            "hash: 16a69b607cb86a202c15fd16c1465292076e07dabc2b63f5070ed4e0dbb80fce len: 64\n",
            "verify(existence): {'ok': True, 'hash': '16a69b607cb86a202c15fd16c1465292076e07dabc2b63f5070ed4e0dbb80fce', 'ref': None, 'reason': None}\n"
          ]
        }
      ],
      "source": [
        "# 1) Is the API up?\n",
        "import requests\n",
        "print(\"health:\", requests.get(\"http://127.0.0.1:8000/healthz\", timeout=5).json())\n",
        "\n",
        "# 2) Did we load a real hash?\n",
        "print(\"hash:\", hex_hash, \"len:\", len(hex_hash))\n",
        "\n",
        "# 3) Does existence-only verification succeed?\n",
        "print(\"verify(existence):\", requests.get(\"http://127.0.0.1:8000/verify\",\n",
        "                                         params={\"hash\": hex_hash}, timeout=5).json())\n"
      ]
    },
    {
      "cell_type": "code",
      "execution_count": null,
      "id": "5803e326",
      "metadata": {},
      "outputs": [
        {
          "ename": "FileNotFoundError",
          "evalue": "[Errno 2] No such file or directory: 'c:\\\\Users\\\\beall\\\\OneDrive\\\\Documents\\\\Portfolio\\\\demo_shipments.manifest.json'",
          "output_type": "error",
          "traceback": [
            "\u001b[31m---------------------------------------------------------------------------\u001b[39m",
            "\u001b[31mFileNotFoundError\u001b[39m                         Traceback (most recent call last)",
            "\u001b[36mCell\u001b[39m\u001b[36m \u001b[39m\u001b[32mIn[11]\u001b[39m\u001b[32m, line 11\u001b[39m\n\u001b[32m      8\u001b[39m REGISTRY = NOTEBOOKS_DIR.parent / \u001b[33m\"\u001b[39m\u001b[33mutils\u001b[39m\u001b[33m\"\u001b[39m / \u001b[33m\"\u001b[39m\u001b[33m_local_anchor_registry.json\u001b[39m\u001b[33m\"\u001b[39m\n\u001b[32m     10\u001b[39m \u001b[38;5;66;03m# Load dataset hash from manifest\u001b[39;00m\n\u001b[32m---> \u001b[39m\u001b[32m11\u001b[39m m = json.loads(\u001b[43mMANIFEST\u001b[49m\u001b[43m.\u001b[49m\u001b[43mread_text\u001b[49m\u001b[43m(\u001b[49m\u001b[43mencoding\u001b[49m\u001b[43m=\u001b[49m\u001b[33;43m\"\u001b[39;49m\u001b[33;43mutf-8\u001b[39;49m\u001b[33;43m\"\u001b[39;49m\u001b[43m)\u001b[49m)\n\u001b[32m     12\u001b[39m hex_hash = m[\u001b[33m\"\u001b[39m\u001b[33mdataset_hash\u001b[39m\u001b[33m\"\u001b[39m]\n\u001b[32m     14\u001b[39m \u001b[38;5;66;03m# Preferred ref (machine-agnostic)\u001b[39;00m\n",
            "\u001b[36mFile \u001b[39m\u001b[32mc:\\Users\\beall\\miniconda3\\envs\\ai-scm-portfolio\\Lib\\pathlib.py:1058\u001b[39m, in \u001b[36mPath.read_text\u001b[39m\u001b[34m(self, encoding, errors)\u001b[39m\n\u001b[32m   1054\u001b[39m \u001b[38;5;250m\u001b[39m\u001b[33;03m\"\"\"\u001b[39;00m\n\u001b[32m   1055\u001b[39m \u001b[33;03mOpen the file in text mode, read it, and close the file.\u001b[39;00m\n\u001b[32m   1056\u001b[39m \u001b[33;03m\"\"\"\u001b[39;00m\n\u001b[32m   1057\u001b[39m encoding = io.text_encoding(encoding)\n\u001b[32m-> \u001b[39m\u001b[32m1058\u001b[39m \u001b[38;5;28;01mwith\u001b[39;00m \u001b[38;5;28;43mself\u001b[39;49m\u001b[43m.\u001b[49m\u001b[43mopen\u001b[49m\u001b[43m(\u001b[49m\u001b[43mmode\u001b[49m\u001b[43m=\u001b[49m\u001b[33;43m'\u001b[39;49m\u001b[33;43mr\u001b[39;49m\u001b[33;43m'\u001b[39;49m\u001b[43m,\u001b[49m\u001b[43m \u001b[49m\u001b[43mencoding\u001b[49m\u001b[43m=\u001b[49m\u001b[43mencoding\u001b[49m\u001b[43m,\u001b[49m\u001b[43m \u001b[49m\u001b[43merrors\u001b[49m\u001b[43m=\u001b[49m\u001b[43merrors\u001b[49m\u001b[43m)\u001b[49m \u001b[38;5;28;01mas\u001b[39;00m f:\n\u001b[32m   1059\u001b[39m     \u001b[38;5;28;01mreturn\u001b[39;00m f.read()\n",
            "\u001b[36mFile \u001b[39m\u001b[32mc:\\Users\\beall\\miniconda3\\envs\\ai-scm-portfolio\\Lib\\pathlib.py:1044\u001b[39m, in \u001b[36mPath.open\u001b[39m\u001b[34m(self, mode, buffering, encoding, errors, newline)\u001b[39m\n\u001b[32m   1042\u001b[39m \u001b[38;5;28;01mif\u001b[39;00m \u001b[33m\"\u001b[39m\u001b[33mb\u001b[39m\u001b[33m\"\u001b[39m \u001b[38;5;129;01mnot\u001b[39;00m \u001b[38;5;129;01min\u001b[39;00m mode:\n\u001b[32m   1043\u001b[39m     encoding = io.text_encoding(encoding)\n\u001b[32m-> \u001b[39m\u001b[32m1044\u001b[39m \u001b[38;5;28;01mreturn\u001b[39;00m io.open(\u001b[38;5;28mself\u001b[39m, mode, buffering, encoding, errors, newline)\n",
            "\u001b[31mFileNotFoundError\u001b[39m: [Errno 2] No such file or directory: 'c:\\\\Users\\\\beall\\\\OneDrive\\\\Documents\\\\Portfolio\\\\demo_shipments.manifest.json'"
          ]
        }
      ],
      "source": [
        "# Auto-verify (repo-root aware): prefer relative ref; fall back to stored ref\n",
        "import os, json, requests\n",
        "from pathlib import Path\n",
        "\n",
        "def find_portfolio_root(start: Path) -> Path:\n",
        "    start = start.resolve()\n",
        "    for p in [start, *start.parents]:\n",
        "        if (p / \"Blockchain/common/utils/hash_anchor.py\").exists():\n",
        "            return p\n",
        "    raise RuntimeError(f\"Couldn't find Portfolio root from: {start}\")\n",
        "\n",
        "PORTFOLIO_ROOT = find_portfolio_root(Path.cwd())\n",
        "\n",
        "MANIFEST = PORTFOLIO_ROOT / \"Blockchain/common/notebooks/demo_shipments.manifest.json\"\n",
        "REGISTRY = PORTFOLIO_ROOT / \"Blockchain/common/utils/_local_anchor_registry.json\"\n",
        "BASE = os.getenv(\"VERIFY_API_BASE\", \"http://127.0.0.1:8000\")\n",
        "\n",
        "# Load hash from manifest\n",
        "m = json.loads(MANIFEST.read_text(encoding=\"utf-8\"))\n",
        "hex_hash = m[\"dataset_hash\"]\n",
        "\n",
        "# Preferred (relative) ref that we anchored with earlier\n",
        "preferred_ref = \"local://Blockchain/common/notebooks/demo_shipments.csv#v=hash-policy-1\"\n",
        "\n",
        "def verify(hash_hex, ref=None):\n",
        "    params = {\"hash\": hash_hex}\n",
        "    if ref is not None:\n",
        "        params[\"ref\"] = ref  # requests will URL-encode the '#'\n",
        "    r = requests.get(f\"{BASE}/verify\", params=params, timeout=5)\n",
        "    r.raise_for_status()\n",
        "    return r.json()\n",
        "\n",
        "print(\"healthz:\", requests.get(f\"{BASE}/healthz\", timeout=5).json())\n",
        "\n",
        "res = verify(hex_hash, preferred_ref)\n",
        "if res.get(\"ok\"):\n",
        "    print(\"✅ Verified with preferred ref\")\n",
        "    res\n",
        "else:\n",
        "    print(\"ℹ️ Preferred ref failed:\", res.get(\"reason\"))\n",
        "    if REGISTRY.exists():\n",
        "        reg = json.loads(REGISTRY.read_text(encoding=\"utf-8\"))\n",
        "        stored = reg.get(hex_hash)\n",
        "        if stored and stored.get(\"ref\"):\n",
        "            stored_ref = stored[\"ref\"]\n",
        "            res2 = verify(hex_hash, stored_ref)\n",
        "            if res2.get(\"ok\"):\n",
        "                print(\"✅ Verified with STORED ref from registry\")\n",
        "                print(\"stored_ref:\", stored_ref)\n",
        "                res2\n",
        "            else:\n",
        "                print(\"❌ Stored ref also failed:\", res2.get(\"reason\"))\n",
        "                res2\n",
        "        else:\n",
        "            print(\"❌ Hash not present in local registry or no ref stored.\")\n",
        "            verify(hex_hash)  # existence-only\n",
        "    else:\n",
        "        print(\"❌ Local registry not found at:\", REGISTRY)\n",
        "        verify(hex_hash)      # existence-only\n"
      ]
    },
    {
      "cell_type": "markdown",
      "metadata": {},
      "source": [
        "## Next Steps\n",
        "1. Replace the local registry with `web3.py` + `ProofOfProvenance.sol` on a testnet (e.g., Sepolia).\n",
        "2. Add a tiny FastAPI endpoint `/verify?hash=...` that consults the registry.\n",
        "3. Join `row_hash` or `dataset_hash` back into KPIs / optimization models to demonstrate tamper-evidence in your logistics projects.\n"
      ]
    }
  ],
  "metadata": {
    "kernelspec": {
      "display_name": "ai-scm-portfolio",
      "language": "python",
      "name": "python3"
    },
    "language_info": {
      "codemirror_mode": {
        "name": "ipython",
        "version": 3
      },
      "file_extension": ".py",
      "mimetype": "text/x-python",
      "name": "python",
      "nbconvert_exporter": "python",
      "pygments_lexer": "ipython3",
      "version": "3.11.13"
    }
  },
  "nbformat": 4,
  "nbformat_minor": 5
}
