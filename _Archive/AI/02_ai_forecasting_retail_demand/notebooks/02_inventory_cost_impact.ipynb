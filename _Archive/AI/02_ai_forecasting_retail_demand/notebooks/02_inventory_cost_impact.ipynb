{
  "cells": [
    {
      "cell_type": "markdown",
      "metadata": {},
      "source": "# Inventory Cost Impact of Forecast Error\nSimulate costs vs. forecast error."
    },
    {
      "cell_type": "code",
      "execution_count": null,
      "metadata": {},
      "outputs": [],
      "source": "import numpy as np, pandas as pd\nimport matplotlib.pyplot as plt\n\nnp.random.seed(42)\ndemand = np.random.poisson(50, size=365)\nforecast_error = np.linspace(0, 0.5, 6)  # 0% to 50%\nholding_cost, stockout_cost = 1.0, 5.0\n\nresults = []\nfor fe in forecast_error:\n    forecast = demand * (1 + np.random.normal(0, fe, size=len(demand)))\n    # Simple policy: order forecast\n    inventory = 0\n    cost = 0.0\n    for d, f in zip(demand, forecast):\n        inventory += f\n        if inventory >= d:\n            inventory -= d\n            cost += inventory * holding_cost\n        else:\n            shortage = d - inventory\n            inventory = 0\n            cost += shortage * stockout_cost\n    results.append((fe, cost))\n\nout = pd.DataFrame(results, columns=[\"forecast_error\",\"cost\"])\nprint(out)\nout.plot(x=\"forecast_error\", y=\"cost\", marker=\"o\")\nplt.title(\"Cost vs. Forecast Error\")\nplt.show()\n"
    }
  ],
  "metadata": {
    "language_info": {
      "name": "python"
    },
    "kernelspec": {
      "name": "python3",
      "display_name": "Python 3"
    }
  },
  "nbformat": 4,
  "nbformat_minor": 5
}