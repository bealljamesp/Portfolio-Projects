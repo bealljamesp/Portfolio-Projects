{
  "cells": [
    {
      "cell_type": "markdown",
      "metadata": {},
      "source": "# ML Bottleneck Predictor — Answer Key"
    },
    {
      "cell_type": "code",
      "execution_count": null,
      "metadata": {},
      "outputs": [],
      "source": "import pandas as pd, numpy as np\nfrom sklearn.ensemble import RandomForestClassifier\nfrom sklearn.model_selection import train_test_split\nfrom sklearn.metrics import classification_report\n\ndf = pd.read_csv(\"../reports/sim_logs.csv\")\n# Define bottleneck label: low flow when on_hand high (arbitrary rule for demo)\ndf[\"bottleneck\"] = ((df[\"node\"]==\"dc\") & (df[\"on_hand\"]>200) & (df[\"flow\"]<100)).astype(int)\n# Build features\nX = pd.get_dummies(df[[\"node\",\"on_hand\",\"flow\"]], drop_first=True)\ny = df[\"bottleneck\"]\nX_train, X_test, y_train, y_test = train_test_split(X,y,test_size=0.2,random_state=42,stratify=y)\nclf = RandomForestClassifier(random_state=42).fit(X_train,y_train)\npred = clf.predict(X_test)\nprint(classification_report(y_test, pred))\n"
    }
  ],
  "metadata": {
    "language_info": {
      "name": "python"
    },
    "kernelspec": {
      "name": "python3",
      "display_name": "Python 3"
    }
  },
  "nbformat": 4,
  "nbformat_minor": 5
}