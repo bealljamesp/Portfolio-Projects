{
  "cells": [
    {
      "cell_type": "markdown",
      "metadata": {},
      "source": "# Computer Vision for Logistics QC\nCNN for defect detection."
    },
    {
      "cell_type": "code",
      "execution_count": null,
      "metadata": {},
      "outputs": [],
      "source": "import tensorflow as tf\nfrom tensorflow.keras import layers, models\nimport pathlib\n\ndata_dir = pathlib.Path(\"../data/images\")\nimg_size = (224,224)\nbatch_size = 16\n\ntrain_ds = tf.keras.preprocessing.image_dataset_from_directory(\n    data_dir, validation_split=0.2, subset=\"training\", seed=42,\n    image_size=img_size, batch_size=batch_size\n)\nval_ds = tf.keras.preprocessing.image_dataset_from_directory(\n    data_dir, validation_split=0.2, subset=\"validation\", seed=42,\n    image_size=img_size, batch_size=batch_size\n)\n\nmodel = models.Sequential([\n    layers.Rescaling(1./255, input_shape=img_size + (3,)),\n    layers.Conv2D(16, 3, activation=\"relu\"),\n    layers.MaxPooling2D(),\n    layers.Conv2D(32, 3, activation=\"relu\"),\n    layers.MaxPooling2D(),\n    layers.Flatten(),\n    layers.Dense(64, activation=\"relu\"),\n    layers.Dense(1, activation=\"sigmoid\")\n])\nmodel.compile(optimizer=\"adam\", loss=\"binary_crossentropy\", metrics=[\"accuracy\"])\nhistory = model.fit(train_ds, validation_data=val_ds, epochs=5)\n"
    }
  ],
  "metadata": {
    "language_info": {
      "name": "python"
    },
    "kernelspec": {
      "name": "python3",
      "display_name": "Python 3"
    }
  },
  "nbformat": 4,
  "nbformat_minor": 5
}