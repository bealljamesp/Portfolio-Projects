{
 "cells": [
  {
   "cell_type": "markdown",
   "id": "b5ee7a95",
   "metadata": {},
   "source": [
    "\n",
    "# Project Title — Notebook Template\n",
    "\n",
    "**Author:** YOUR NAME  \n",
    "**Date:** 2025-09-13\n",
    "\n",
    "**Purpose:** Brief description of the business problem and what this notebook delivers.\n",
    "\n",
    "> Tip: Keep notebooks narrative-driven and business-focused. Push reusable code into `src/`.\n"
   ]
  },
  {
   "cell_type": "code",
   "execution_count": null,
   "id": "8e0f6ee8",
   "metadata": {},
   "outputs": [],
   "source": [
    "\n",
    "# Standard imports\n",
    "import os, sys, math, json, pathlib\n",
    "from pathlib import Path\n",
    "\n",
    "import numpy as np\n",
    "import pandas as pd\n",
    "\n",
    "import matplotlib.pyplot as plt\n",
    "\n",
    "# Ensure src/ is on path\n",
    "ROOT = Path(__file__).resolve().parents[1]\n",
    "SRC = ROOT / \"src\"\n",
    "if SRC.exists():\n",
    "    sys.path.append(str(SRC))\n",
    "\n",
    "print(\"Python OK, working dir:\", os.getcwd())\n"
   ]
  },
  {
   "cell_type": "markdown",
   "id": "1185cebf",
   "metadata": {},
   "source": [
    "\n",
    "## 1. Load Data\n",
    "- Keep raw data outside of git (`data/raw/`).\n",
    "- Use small anonymized samples for the repo if needed.\n"
   ]
  },
  {
   "cell_type": "code",
   "execution_count": null,
   "id": "062bfdfd",
   "metadata": {},
   "outputs": [],
   "source": [
    "\n",
    "raw_dir = ROOT / \"data\" / \"raw\"\n",
    "processed_dir = ROOT / \"data\" / \"processed\"\n",
    "raw_dir.mkdir(parents=True, exist_ok=True)\n",
    "processed_dir.mkdir(parents=True, exist_ok=True)\n",
    "\n",
    "# Example placeholder (adjust filenames as needed)\n",
    "# df = pd.read_csv(raw_dir / \"customers.csv\", parse_dates=[\"signup_dt\"])\n",
    "# df.head()\n"
   ]
  },
  {
   "cell_type": "markdown",
   "id": "de4eae5f",
   "metadata": {},
   "source": [
    "\n",
    "## 2. EDA / Feature Engineering\n"
   ]
  },
  {
   "cell_type": "markdown",
   "id": "35bab72e",
   "metadata": {},
   "source": [
    "\n",
    "## 3. Modeling / Optimization\n"
   ]
  },
  {
   "cell_type": "markdown",
   "id": "bcbb1012",
   "metadata": {},
   "source": [
    "\n",
    "## 4. Results & Visuals\n"
   ]
  },
  {
   "cell_type": "markdown",
   "id": "42413703",
   "metadata": {},
   "source": [
    "\n",
    "## 5. Business Insights & Next Steps\n"
   ]
  }
 ],
 "metadata": {},
 "nbformat": 4,
 "nbformat_minor": 5
}
