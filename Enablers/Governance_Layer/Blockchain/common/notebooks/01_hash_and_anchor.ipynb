{
  "cells": [
    {
      "cell_type": "markdown",
      "metadata": {},
      "source": [
        "# 01 — Hash and Anchor (Local Simulation)\n",
        "\n",
        "This notebook teaches hashing + anchoring without running a blockchain node. It uses a **local JSON registry** to simulate on-chain storage.\n",
        "\n",
        "## Hashing Policy (v1)\n",
        "- **Algorithm**: SHA-256\n",
        "- **Row Columns**: all columns in the dataset (explicitly listed in code)\n",
        "- **Column Order**: sorted ascending (or specified list)\n",
        "- **Separator**: `|` (with delimiter escaping)\n",
        "- **Null Handling**: `None`/`NaN` → empty string\n",
        "- **Floats**: normalized to 6-decimal precision (trailing zeros trimmed)\n",
        "- **Whitespace**: `strip + collapse internal` for strings\n",
        "- **Dataset Ordering**: by a stable business key if present (e.g., `shipment_id`), else by `row_hash`\n",
        "- **Manifest**: JSON written next to the dataset with the exact settings and dataset hash\n",
        "\n",
        "> Change policy → bump the version string (e.g., `hash-policy-2`) and re-derive hashes.\n"
      ]
    },
    {
      "cell_type": "code",
      "execution_count": 30,
      "id": "0903fb7f",
      "metadata": {},
      "outputs": [],
      "source": [
        "# Ensure the repo root is on sys.path\n",
        "from pathlib import Path\n",
        "import sys\n",
        "root = next(p for p in [Path.cwd(), *Path.cwd().parents] if (p / \"Blockchain/common/utils/hash_anchor.py\").exists())\n",
        "if str(root) not in sys.path:\n",
        "    sys.path.insert(0, str(root))\n"
      ]
    },
    {
      "cell_type": "code",
      "execution_count": 31,
      "metadata": {},
      "outputs": [
        {
          "name": "stdout",
          "output_type": "stream",
          "text": [
            "Loaded hash_anchor from: C:\\Users\\beall\\OneDrive\\Documents\\Portfolio\\Blockchain\\common\\utils\n"
          ]
        }
      ],
      "source": [
        "# Robust imports: find Portfolio root and load the local anchor helpers\n",
        "from pathlib import Path\n",
        "import sys\n",
        "\n",
        "def find_portfolio_root(start: Path) -> Path:\n",
        "    start = start.resolve()\n",
        "    for p in [start, *start.parents]:\n",
        "        if (p / \"Blockchain/common/utils/hash_anchor.py\").exists():\n",
        "            return p\n",
        "    raise RuntimeError(f\"Couldn't find Portfolio root from: {start}\")\n",
        "\n",
        "PORTFOLIO_ROOT = find_portfolio_root(Path.cwd())\n",
        "UTILS_DIR = (PORTFOLIO_ROOT / \"Blockchain/common/utils\").resolve()\n",
        "if str(UTILS_DIR) not in sys.path:\n",
        "    sys.path.insert(0, str(UTILS_DIR))\n",
        "\n",
        "from hash_anchor import sha256_bytes, anchor_hash, verify_hash\n",
        "print(\"Loaded hash_anchor from:\", UTILS_DIR)"
      ]
    },
    {
      "cell_type": "code",
      "execution_count": 32,
      "metadata": {},
      "outputs": [
        {
          "data": {
            "application/vnd.microsoft.datawrangler.viewer.v0+json": {
              "columns": [
                {
                  "name": "index",
                  "rawType": "int64",
                  "type": "integer"
                },
                {
                  "name": "shipment_id",
                  "rawType": "object",
                  "type": "string"
                },
                {
                  "name": "gtin",
                  "rawType": "int64",
                  "type": "integer"
                },
                {
                  "name": "case_id",
                  "rawType": "object",
                  "type": "string"
                },
                {
                  "name": "temp_c",
                  "rawType": "float64",
                  "type": "float"
                }
              ],
              "ref": "b629a85a-146d-46fc-bef4-6d1ff65a9f4a",
              "rows": [
                [
                  "0",
                  "S1",
                  "123",
                  "CASE001",
                  "4.1"
                ],
                [
                  "1",
                  "S2",
                  "123",
                  "CASE002",
                  "9.9"
                ]
              ],
              "shape": {
                "columns": 4,
                "rows": 2
              }
            },
            "text/html": [
              "<div>\n",
              "<style scoped>\n",
              "    .dataframe tbody tr th:only-of-type {\n",
              "        vertical-align: middle;\n",
              "    }\n",
              "\n",
              "    .dataframe tbody tr th {\n",
              "        vertical-align: top;\n",
              "    }\n",
              "\n",
              "    .dataframe thead th {\n",
              "        text-align: right;\n",
              "    }\n",
              "</style>\n",
              "<table border=\"1\" class=\"dataframe\">\n",
              "  <thead>\n",
              "    <tr style=\"text-align: right;\">\n",
              "      <th></th>\n",
              "      <th>shipment_id</th>\n",
              "      <th>gtin</th>\n",
              "      <th>case_id</th>\n",
              "      <th>temp_c</th>\n",
              "    </tr>\n",
              "  </thead>\n",
              "  <tbody>\n",
              "    <tr>\n",
              "      <th>0</th>\n",
              "      <td>S1</td>\n",
              "      <td>123</td>\n",
              "      <td>CASE001</td>\n",
              "      <td>4.1</td>\n",
              "    </tr>\n",
              "    <tr>\n",
              "      <th>1</th>\n",
              "      <td>S2</td>\n",
              "      <td>123</td>\n",
              "      <td>CASE002</td>\n",
              "      <td>9.9</td>\n",
              "    </tr>\n",
              "  </tbody>\n",
              "</table>\n",
              "</div>"
            ],
            "text/plain": [
              "  shipment_id  gtin  case_id  temp_c\n",
              "0          S1   123  CASE001     4.1\n",
              "1          S2   123  CASE002     9.9"
            ]
          },
          "execution_count": 32,
          "metadata": {},
          "output_type": "execute_result"
        }
      ],
      "source": [
        "# Create a tiny demo CSV (idempotent) and read it\n",
        "import pandas as pd\n",
        "demo_csv = PORTFOLIO_ROOT / 'Blockchain/common/notebooks/demo_shipments.csv'\n",
        "if not demo_csv.exists():\n",
        "    demo_csv.write_text('shipment_id,gtin,case_id,temp_c\\nS1,000123,CASE001,4.1\\nS2,000123,CASE002,9.9\\n', encoding='utf-8')\n",
        "df = pd.read_csv(demo_csv)\n",
        "df"
      ]
    },
    {
      "cell_type": "code",
      "execution_count": 33,
      "metadata": {},
      "outputs": [
        {
          "data": {
            "application/vnd.microsoft.datawrangler.viewer.v0+json": {
              "columns": [
                {
                  "name": "index",
                  "rawType": "int64",
                  "type": "integer"
                },
                {
                  "name": "shipment_id",
                  "rawType": "object",
                  "type": "string"
                },
                {
                  "name": "gtin",
                  "rawType": "int64",
                  "type": "integer"
                },
                {
                  "name": "case_id",
                  "rawType": "object",
                  "type": "string"
                },
                {
                  "name": "temp_c",
                  "rawType": "float64",
                  "type": "float"
                },
                {
                  "name": "row_hash",
                  "rawType": "object",
                  "type": "string"
                }
              ],
              "ref": "2752a19e-8c7f-477f-98b3-2652f5ff2cd8",
              "rows": [
                [
                  "0",
                  "S1",
                  "123",
                  "CASE001",
                  "4.1",
                  "a8e361e42d77633e02042d7fc9a41f7ee082a9c9264af353505cdd44a7d5f64a"
                ],
                [
                  "1",
                  "S2",
                  "123",
                  "CASE002",
                  "9.9",
                  "79cae2578b17dda1f71b3d5c03bdc75d4813768d1b53047e71b6a2d853629779"
                ]
              ],
              "shape": {
                "columns": 5,
                "rows": 2
              }
            },
            "text/html": [
              "<div>\n",
              "<style scoped>\n",
              "    .dataframe tbody tr th:only-of-type {\n",
              "        vertical-align: middle;\n",
              "    }\n",
              "\n",
              "    .dataframe tbody tr th {\n",
              "        vertical-align: top;\n",
              "    }\n",
              "\n",
              "    .dataframe thead th {\n",
              "        text-align: right;\n",
              "    }\n",
              "</style>\n",
              "<table border=\"1\" class=\"dataframe\">\n",
              "  <thead>\n",
              "    <tr style=\"text-align: right;\">\n",
              "      <th></th>\n",
              "      <th>shipment_id</th>\n",
              "      <th>gtin</th>\n",
              "      <th>case_id</th>\n",
              "      <th>temp_c</th>\n",
              "      <th>row_hash</th>\n",
              "    </tr>\n",
              "  </thead>\n",
              "  <tbody>\n",
              "    <tr>\n",
              "      <th>0</th>\n",
              "      <td>S1</td>\n",
              "      <td>123</td>\n",
              "      <td>CASE001</td>\n",
              "      <td>4.1</td>\n",
              "      <td>a8e361e42d77633e02042d7fc9a41f7ee082a9c9264af3...</td>\n",
              "    </tr>\n",
              "    <tr>\n",
              "      <th>1</th>\n",
              "      <td>S2</td>\n",
              "      <td>123</td>\n",
              "      <td>CASE002</td>\n",
              "      <td>9.9</td>\n",
              "      <td>79cae2578b17dda1f71b3d5c03bdc75d4813768d1b5304...</td>\n",
              "    </tr>\n",
              "  </tbody>\n",
              "</table>\n",
              "</div>"
            ],
            "text/plain": [
              "  shipment_id  gtin  case_id  temp_c  \\\n",
              "0          S1   123  CASE001     4.1   \n",
              "1          S2   123  CASE002     9.9   \n",
              "\n",
              "                                            row_hash  \n",
              "0  a8e361e42d77633e02042d7fc9a41f7ee082a9c9264af3...  \n",
              "1  79cae2578b17dda1f71b3d5c03bdc75d4813768d1b5304...  "
            ]
          },
          "execution_count": 33,
          "metadata": {},
          "output_type": "execute_result"
        }
      ],
      "source": [
        "# Hardened row hashing with a documented policy\n",
        "import hashlib, math\n",
        "\n",
        "SEP = '|'            # record in manifest\n",
        "FLOAT_FMT = \"{:.6f}\" # record in manifest\n",
        "\n",
        "def norm_val(v):\n",
        "    if v is None or (isinstance(v, float) and math.isnan(v)):\n",
        "        return ''\n",
        "    if isinstance(v, str):\n",
        "        return ' '.join(v.strip().split())\n",
        "    if isinstance(v, float):\n",
        "        s = FLOAT_FMT.format(v)\n",
        "        return s.rstrip('0').rstrip('.') if '.' in s else s\n",
        "    return str(v)\n",
        "\n",
        "def row_digest(row, columns=None):\n",
        "    cols = sorted(columns or row.index)\n",
        "    parts = [norm_val(row[c]) for c in cols]\n",
        "    parts = [p.replace(SEP, f\"\\\\{SEP}\") for p in parts]\n",
        "    payload = SEP.join(parts).encode('utf-8')\n",
        "    return hashlib.sha256(payload).hexdigest()\n",
        "\n",
        "# Choose columns: here we use all columns; you can pass a subset\n",
        "cols = sorted(df.columns)\n",
        "df['row_hash'] = df.apply(lambda r: row_digest(r, columns=cols), axis=1)\n",
        "df"
      ]
    },
    {
      "cell_type": "code",
      "execution_count": 34,
      "metadata": {},
      "outputs": [
        {
          "name": "stdout",
          "output_type": "stream",
          "text": [
            "dataset_hash: 16a69b607cb86a202c15fd16c1465292076e07dabc2b63f5070ed4e0dbb80fce\n"
          ]
        }
      ],
      "source": [
        "# Build a deterministic dataset-level hash\n",
        "if 'shipment_id' in df.columns:\n",
        "    row_hashes = df.sort_values('shipment_id')['row_hash']\n",
        "else:\n",
        "    row_hashes = df['row_hash'].sort_values().reset_index(drop=True)\n",
        "\n",
        "dataset_payload = '\\n'.join(row_hashes).encode('utf-8')\n",
        "dataset_hash = hashlib.sha256(dataset_payload).hexdigest()\n",
        "print(\"dataset_hash:\", dataset_hash)"
      ]
    },
    {
      "cell_type": "code",
      "execution_count": 35,
      "metadata": {},
      "outputs": [
        {
          "name": "stdout",
          "output_type": "stream",
          "text": [
            "Dataset hash already anchored; update registry ref manually if desired.\n",
            "verify: False\n"
          ]
        }
      ],
      "source": [
        "# Anchor the dataset hash with a RELATIVE ref\n",
        "rel = demo_csv.relative_to(PORTFOLIO_ROOT).as_posix()\n",
        "ref = f\"local://{rel}#v=hash-policy-1\"\n",
        "try:\n",
        "    anchor_hash(dataset_hash, ref)\n",
        "    print(\"Anchored dataset hash (relative ref)\")\n",
        "except ValueError:\n",
        "    print(\"Dataset hash already anchored; update registry ref manually if desired.\")\n",
        "print(\"verify:\", verify_hash(dataset_hash, ref))\n"
      ]
    },
    {
      "cell_type": "code",
      "execution_count": 36,
      "metadata": {},
      "outputs": [
        {
          "name": "stdout",
          "output_type": "stream",
          "text": [
            "Wrote manifest → C:\\Users\\beall\\OneDrive\\Documents\\Portfolio\\Blockchain\\common\\notebooks\\demo_shipments.manifest.json\n"
          ]
        }
      ],
      "source": [
        "# Write a manifest documenting the exact policy and dataset-level hash\n",
        "import json\n",
        "manifest = {\n",
        "    \"source\": demo_csv.as_posix(),\n",
        "    \"hash_algorithm\": \"sha256\",\n",
        "    \"row_policy\": {\n",
        "        \"columns\": cols,\n",
        "        \"separator\": SEP,\n",
        "        \"float_precision\": 6,\n",
        "        \"null_as\": \"\",\n",
        "        \"whitespace_norm\": \"strip+collapse\",\n",
        "        \"delimiter_escape\": True\n",
        "    },\n",
        "    \"ordering\": \"by 'shipment_id' ascending\" if 'shipment_id' in df.columns else \"by row_hash ascending\",\n",
        "    \"dataset_hash\": dataset_hash,\n",
        "}\n",
        "(PORTFOLIO_ROOT / 'Blockchain/common/notebooks/demo_shipments.manifest.json').write_text(\n",
        "    json.dumps(manifest, indent=2), encoding='utf-8'\n",
        ")\n",
        "print(\"Wrote manifest →\", (PORTFOLIO_ROOT / 'Blockchain/common/notebooks/demo_shipments.manifest.json'))"
      ]
    },
    {
      "cell_type": "code",
      "execution_count": 39,
      "id": "b1ab3231",
      "metadata": {},
      "outputs": [
        {
          "name": "stdout",
          "output_type": "stream",
          "text": [
            "cwd: c:\\Users\\beall\\OneDrive\\Documents\\Portfolio\\Blockchain\\common\\notebooks\n",
            "healthz: {'status': 'ok', 'mode': 'local', 'registry_exists': True}\n"
          ]
        },
        {
          "data": {
            "text/plain": [
              "{'ok': True,\n",
              " 'hash': '16a69b607cb86a202c15fd16c1465292076e07dabc2b63f5070ed4e0dbb80fce',\n",
              " 'ref': 'local://Blockchain/common/notebooks/demo_shipments.csv#v=hash-policy-1',\n",
              " 'reason': None,\n",
              " 'mode': 'local'}"
            ]
          },
          "execution_count": 39,
          "metadata": {},
          "output_type": "execute_result"
        }
      ],
      "source": [
        "# Verify via local API from *this* notebooks folder\n",
        "import json, requests\n",
        "from pathlib import Path\n",
        "\n",
        "print(\"cwd:\", Path.cwd())  # just to confirm\n",
        "\n",
        "# Manifest is in the same folder as the notebook\n",
        "manifest = json.loads(Path(\"demo_shipments.manifest.json\").read_text(encoding=\"utf-8\"))\n",
        "hex_hash = manifest[\"dataset_hash\"]\n",
        "\n",
        "# The ref must match what you anchored (we used this earlier)\n",
        "ref = \"local://Blockchain/common/notebooks/demo_shipments.csv#v=hash-policy-1\"\n",
        "\n",
        "# Health check\n",
        "h = requests.get(\"http://127.0.0.1:8001/healthz\", timeout=5)\n",
        "h.raise_for_status()\n",
        "print(\"healthz:\", h.json())\n",
        "\n",
        "# Verify (requests handles the '#' in params for you)\n",
        "r = requests.get(\"http://127.0.0.1:8001/verify\", params={\"hash\": hex_hash, \"ref\": ref}, timeout=5)\n",
        "r.raise_for_status()\n",
        "r.json()  # expect {'ok': True, ...}\n"
      ]
    },
    {
      "cell_type": "code",
      "execution_count": 41,
      "id": "abf56062",
      "metadata": {},
      "outputs": [
        {
          "name": "stdout",
          "output_type": "stream",
          "text": [
            "health: {'status': 'ok', 'mode': 'local', 'registry_exists': True}\n",
            "hash: 16a69b607cb86a202c15fd16c1465292076e07dabc2b63f5070ed4e0dbb80fce len: 64\n",
            "verify(existence): {'ok': True, 'hash': '16a69b607cb86a202c15fd16c1465292076e07dabc2b63f5070ed4e0dbb80fce', 'ref': None, 'reason': None, 'mode': 'local'}\n"
          ]
        }
      ],
      "source": [
        "# 1) Is the API up?\n",
        "import requests\n",
        "print(\"health:\", requests.get(\"http://127.0.0.1:8001/healthz\", timeout=5).json())\n",
        "\n",
        "# 2) Did we load a real hash?\n",
        "print(\"hash:\", hex_hash, \"len:\", len(hex_hash))\n",
        "\n",
        "# 3) Does existence-only verification succeed?\n",
        "print(\"verify(existence):\", requests.get(\"http://127.0.0.1:8001/verify\",\n",
        "                                         params={\"hash\": hex_hash}, timeout=5).json())\n"
      ]
    },
    {
      "cell_type": "code",
      "execution_count": 43,
      "id": "5803e326",
      "metadata": {},
      "outputs": [
        {
          "name": "stdout",
          "output_type": "stream",
          "text": [
            "healthz: {'status': 'ok', 'mode': 'local', 'registry_exists': True}\n",
            "✅ Verified with preferred ref\n"
          ]
        }
      ],
      "source": [
        "# Auto-verify (repo-root aware): prefer relative ref; fall back to stored ref\n",
        "import os, json, requests\n",
        "from pathlib import Path\n",
        "\n",
        "def find_portfolio_root(start: Path) -> Path:\n",
        "    start = start.resolve()\n",
        "    for p in [start, *start.parents]:\n",
        "        if (p / \"Blockchain/common/utils/hash_anchor.py\").exists():\n",
        "            return p\n",
        "    raise RuntimeError(f\"Couldn't find Portfolio root from: {start}\")\n",
        "\n",
        "PORTFOLIO_ROOT = find_portfolio_root(Path.cwd())\n",
        "\n",
        "MANIFEST = PORTFOLIO_ROOT / \"Blockchain/common/notebooks/demo_shipments.manifest.json\"\n",
        "REGISTRY = PORTFOLIO_ROOT / \"Blockchain/common/utils/_local_anchor_registry.json\"\n",
        "BASE = os.getenv(\"VERIFY_API_BASE\", \"http://127.0.0.1:8000\")\n",
        "\n",
        "# Load hash from manifest\n",
        "m = json.loads(MANIFEST.read_text(encoding=\"utf-8\"))\n",
        "hex_hash = m[\"dataset_hash\"]\n",
        "\n",
        "# Preferred (relative) ref that we anchored with earlier\n",
        "preferred_ref = \"local://Blockchain/common/notebooks/demo_shipments.csv#v=hash-policy-1\"\n",
        "\n",
        "def verify(hash_hex, ref=None):\n",
        "    params = {\"hash\": hash_hex}\n",
        "    if ref is not None:\n",
        "        params[\"ref\"] = ref  # requests will URL-encode the '#'\n",
        "    r = requests.get(f\"{BASE}/verify\", params=params, timeout=5)\n",
        "    r.raise_for_status()\n",
        "    return r.json()\n",
        "\n",
        "print(\"healthz:\", requests.get(f\"{BASE}/healthz\", timeout=5).json())\n",
        "\n",
        "res = verify(hex_hash, preferred_ref)\n",
        "if res.get(\"ok\"):\n",
        "    print(\"✅ Verified with preferred ref\")\n",
        "    res\n",
        "else:\n",
        "    print(\"ℹ️ Preferred ref failed:\", res.get(\"reason\"))\n",
        "    if REGISTRY.exists():\n",
        "        reg = json.loads(REGISTRY.read_text(encoding=\"utf-8\"))\n",
        "        stored = reg.get(hex_hash)\n",
        "        if stored and stored.get(\"ref\"):\n",
        "            stored_ref = stored[\"ref\"]\n",
        "            res2 = verify(hex_hash, stored_ref)\n",
        "            if res2.get(\"ok\"):\n",
        "                print(\"✅ Verified with STORED ref from registry\")\n",
        "                print(\"stored_ref:\", stored_ref)\n",
        "                res2\n",
        "            else:\n",
        "                print(\"❌ Stored ref also failed:\", res2.get(\"reason\"))\n",
        "                res2\n",
        "        else:\n",
        "            print(\"❌ Hash not present in local registry or no ref stored.\")\n",
        "            verify(hex_hash)  # existence-only\n",
        "    else:\n",
        "        print(\"❌ Local registry not found at:\", REGISTRY)\n",
        "        verify(hex_hash)      # existence-only\n"
      ]
    },
    {
      "cell_type": "code",
      "execution_count": 44,
      "id": "050a3e52",
      "metadata": {},
      "outputs": [],
      "source": [
        "import os\n",
        "os.environ[\"VERIFY_API_BASE\"] = \"http://127.0.0.1:8001\"\n"
      ]
    },
    {
      "cell_type": "code",
      "execution_count": 47,
      "id": "b0ac0c1d",
      "metadata": {},
      "outputs": [
        {
          "name": "stdout",
          "output_type": "stream",
          "text": [
            "cwd: c:\\Users\\beall\\OneDrive\\Documents\\Portfolio\\Blockchain\\common\\notebooks\n",
            "PORTFOLIO_ROOT: C:\\Users\\beall\\OneDrive\\Documents\\Portfolio\n",
            "API: http://127.0.0.1:8001\n",
            "manifest: C:\\Users\\beall\\OneDrive\\Documents\\Portfolio\\Blockchain\\common\\notebooks\\demo_shipments.manifest.json\n"
          ]
        },
        {
          "data": {
            "text/plain": [
              "{'ok': True,\n",
              " 'hash': '16a69b607cb86a202c15fd16c1465292076e07dabc2b63f5070ed4e0dbb80fce',\n",
              " 'ref': 'local://Blockchain/common/notebooks/demo_shipments.csv#v=hash-policy-1',\n",
              " 'reason': None,\n",
              " 'mode': 'local'}"
            ]
          },
          "execution_count": 47,
          "metadata": {},
          "output_type": "execute_result"
        }
      ],
      "source": [
        "# Final verify cell (root-aware, works from ANY folder; supports 8000 or 8001)\n",
        "import os, json, requests, sys\n",
        "from pathlib import Path\n",
        "\n",
        "# --- Locate the Portfolio root so paths are stable ---\n",
        "def find_portfolio_root(start: Path) -> Path:\n",
        "    start = start.resolve()\n",
        "    for p in [start, *start.parents]:\n",
        "        if (p / \"Blockchain/common/utils/hash_anchor.py\").exists():\n",
        "            return p\n",
        "    raise RuntimeError(f\"Couldn't find Portfolio root from: {start}\")\n",
        "\n",
        "PORTFOLIO_ROOT = find_portfolio_root(Path.cwd())\n",
        "\n",
        "# Ensure imports work even if VS Code changed sys.path\n",
        "if str(PORTFOLIO_ROOT) not in sys.path:\n",
        "    sys.path.insert(0, str(PORTFOLIO_ROOT))\n",
        "\n",
        "from Blockchain.common.utils.verify_client import get_dataset_hash_from_manifest, verify_local\n",
        "\n",
        "# --- Build absolute paths (no more FileNotFoundError) ---\n",
        "manifest_path = PORTFOLIO_ROOT / \"Blockchain\" / \"common\" / \"notebooks\" / \"demo_shipments.manifest.json\"\n",
        "assert manifest_path.exists(), f\"Manifest not found at: {manifest_path}\"\n",
        "\n",
        "# --- API base: honor env var or fall back to 8000 then 8001 ---\n",
        "BASE = os.getenv(\"VERIFY_API_BASE\")\n",
        "if not BASE:\n",
        "    for candidate in (\"http://127.0.0.1:8000\", \"http://127.0.0.1:8001\"):\n",
        "        try:\n",
        "            requests.get(f\"{candidate}/healthz\", timeout=2).raise_for_status()\n",
        "            BASE = candidate\n",
        "            break\n",
        "        except Exception:\n",
        "            continue\n",
        "if not BASE:\n",
        "    raise SystemExit(\"Verify API not reachable on 8000 or 8001. Start it, or set VERIFY_API_BASE.\")\n",
        "\n",
        "# --- Do the verify ---\n",
        "hex_hash = get_dataset_hash_from_manifest(manifest_path)\n",
        "ref = \"local://Blockchain/common/notebooks/demo_shipments.csv#v=hash-policy-1\"\n",
        "\n",
        "print(\"cwd:\", Path.cwd())\n",
        "print(\"PORTFOLIO_ROOT:\", PORTFOLIO_ROOT)\n",
        "print(\"API:\", BASE)\n",
        "print(\"manifest:\", manifest_path)\n",
        "\n",
        "out = verify_local(hex_hash, ref, base=BASE)  # strict match\n",
        "out\n"
      ]
    },
    {
      "cell_type": "code",
      "execution_count": 48,
      "id": "5a88d187",
      "metadata": {},
      "outputs": [
        {
          "data": {
            "text/plain": [
              "{'ok': True,\n",
              " 'hash': '16a69b607cb86a202c15fd16c1465292076e07dabc2b63f5070ed4e0dbb80fce',\n",
              " 'ref': 'local://Blockchain/common/notebooks/demo_shipments.csv#v=hash-policy-1',\n",
              " 'reason': None,\n",
              " 'mode': 'local'}"
            ]
          },
          "execution_count": 48,
          "metadata": {},
          "output_type": "execute_result"
        }
      ],
      "source": [
        "verify_local(hex_hash, ref, base=os.getenv(\"VERIFY_API_BASE\", \"http://127.0.0.1:8001\"), strict=False)\n"
      ]
    },
    {
      "cell_type": "markdown",
      "metadata": {},
      "source": [
        "## Next Steps\n",
        "1. Replace the local registry with `web3.py` + `ProofOfProvenance.sol` on a testnet (e.g., Sepolia).\n",
        "2. Add a tiny FastAPI endpoint `/verify?hash=...` that consults the registry.\n",
        "3. Join `row_hash` or `dataset_hash` back into KPIs / optimization models to demonstrate tamper-evidence in your logistics projects.\n"
      ]
    }
  ],
  "metadata": {
    "kernelspec": {
      "display_name": "Python 3",
      "language": "python",
      "name": "python3"
    },
    "language_info": {
      "codemirror_mode": {
        "name": "ipython",
        "version": 3
      },
      "file_extension": ".py",
      "mimetype": "text/x-python",
      "name": "python",
      "nbconvert_exporter": "python",
      "pygments_lexer": "ipython3",
      "version": "3.11.13"
    }
  },
  "nbformat": 4,
  "nbformat_minor": 5
}
