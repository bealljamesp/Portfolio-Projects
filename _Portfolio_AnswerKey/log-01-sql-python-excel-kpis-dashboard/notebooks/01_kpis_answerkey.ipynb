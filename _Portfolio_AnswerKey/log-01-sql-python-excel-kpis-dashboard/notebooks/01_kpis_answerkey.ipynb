{
  "cells": [
    {
      "cell_type": "markdown",
      "metadata": {},
      "source": "# LOG-01: SQL + Python + Excel KPIs Dashboard — Answer Key"
    },
    {
      "cell_type": "code",
      "execution_count": null,
      "metadata": {},
      "outputs": [],
      "source": "import pandas as pd, numpy as np\nimport matplotlib.pyplot as plt\n\norders = pd.read_csv(\"../data/orders.csv\", parse_dates=[\"order_date\"])\n# Example 'SQL-like' ops in pandas\ndaily = orders.groupby(\"order_date\").agg(revenue=(\"revenue\",\"sum\"), cogs=(\"cogs\",\"sum\")).reset_index()\ndaily[\"margin\"] = daily[\"revenue\"] - daily[\"cogs\"]\nprint(daily.head())\n\n# KPIs\nkpis = {\n    \"total_revenue\": orders[\"revenue\"].sum(),\n    \"total_orders\": orders[\"order_id\"].nunique(),\n    \"avg_order_value\": orders[\"revenue\"].sum() / orders[\"order_id\"].nunique()\n}\nprint(kpis)\n\ndaily.plot(x=\"order_date\", y=[\"revenue\",\"margin\"])\nplt.title(\"Revenue & Margin Over Time\")\nplt.show()\n\n# Top SKUs\ntop = orders.groupby(\"sku\")[\"revenue\"].sum().sort_values(ascending=False).head(10)\nprint(top)\n"
    }
  ],
  "metadata": {
    "language_info": {
      "name": "python"
    },
    "kernelspec": {
      "name": "python3",
      "display_name": "Python 3"
    }
  },
  "nbformat": 4,
  "nbformat_minor": 5
}