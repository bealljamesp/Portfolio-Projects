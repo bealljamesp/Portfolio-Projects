{
  "cells": [
    {
      "cell_type": "markdown",
      "metadata": {},
      "source": "# AI Forecasting for Retail Demand — Answer Key\nCompares lag-based RandomForest vs. Naive; optional LSTM if TF installed."
    },
    {
      "cell_type": "code",
      "execution_count": null,
      "metadata": {},
      "outputs": [],
      "source": "import pandas as pd, numpy as np\nfrom sklearn.ensemble import RandomForestRegressor\nfrom sklearn.metrics import mean_absolute_error\nimport matplotlib.pyplot as plt\n\ndf = pd.read_csv(\"../data/daily_store_category_sales.csv\", parse_dates=[\"date\"])\n# Focus on one store/category for simplicity\nsub = df[(df[\"store\"]==\"S1\") & (df[\"category\"]==\"A\")].sort_values(\"date\")\ny = sub[\"sales\"].values\n# Build lag features\nfor lag in [1,7,14]:\n    sub[f\"lag{lag}\"] = sub[\"sales\"].shift(lag)\nsub = sub.dropna().reset_index(drop=True)\n\ntrain_ratio = 0.8\nsplit = int(len(sub)*train_ratio)\ntrain, test = sub.iloc[:split], sub.iloc[split:]\nX_train = train[[\"lag1\",\"lag7\",\"lag14\"]].values\ny_train = train[\"sales\"].values\nX_test = test[[\"lag1\",\"lag7\",\"lag14\"]].values\ny_test = test[\"sales\"].values\n\nrf = RandomForestRegressor(random_state=42).fit(X_train, y_train)\ny_pred = rf.predict(X_test)\n\n# Naive baseline: yesterday's value\ny_naive = test[\"lag1\"].values\n\nprint(\"MAE RF:\", mean_absolute_error(y_test, y_pred).round(2))\nprint(\"MAE Naive:\", mean_absolute_error(y_test, y_naive).round(2))\n\nplt.figure()\nplt.plot(test[\"date\"], y_test, label=\"actual\")\nplt.plot(test[\"date\"], y_pred, label=\"rf_pred\")\nplt.plot(test[\"date\"], y_naive, label=\"naive\")\nplt.title(\"Forecast vs Actual\")\nplt.legend()\nplt.show()\n"
    }
  ],
  "metadata": {
    "language_info": {
      "name": "python"
    },
    "kernelspec": {
      "name": "python3",
      "display_name": "Python 3"
    }
  },
  "nbformat": 4,
  "nbformat_minor": 5
}