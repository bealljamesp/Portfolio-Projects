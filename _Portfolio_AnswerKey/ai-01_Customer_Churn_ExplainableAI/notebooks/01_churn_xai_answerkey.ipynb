{
  "cells": [
    {
      "cell_type": "markdown",
      "metadata": {},
      "source": [
        "# Customer Churn with Explainable AI — Answer Key\n",
        "This notebook trains a model, explains predictions, and shows subgroup metrics."
      ]
    },
    {
      "cell_type": "code",
      "execution_count": 1,
      "id": "456df5cf",
      "metadata": {},
      "outputs": [
        {
          "name": "stdout",
          "output_type": "stream",
          "text": [
            "Python executable: c:\\Users\\beall\\miniconda3\\envs\\ai-scm-portfolio\\python.exe\n",
            "Python version   : 3.11.13\n",
            "Pandas version   : 2.3.2\n",
            "NumPy version    : 2.2.6\n",
            "Matplotlib ver.  : 3.10.6\n"
          ]
        }
      ],
      "source": [
        "# 🔎 Environment status check\n",
        "import sys, platform\n",
        "import pandas as pd, numpy as np, matplotlib\n",
        "\n",
        "print(\"Python executable:\", sys.executable)\n",
        "print(\"Python version   :\", platform.python_version())\n",
        "print(\"Pandas version   :\", pd.__version__)\n",
        "print(\"NumPy version    :\", np.__version__)\n",
        "print(\"Matplotlib ver.  :\", matplotlib.__version__)"
      ]
    },
    {
      "cell_type": "code",
      "execution_count": 2,
      "id": "88fd4e2c",
      "metadata": {},
      "outputs": [
        {
          "name": "stdout",
          "output_type": "stream",
          "text": [
            "scikit-learn ver.: 1.7.2\n",
            "PuLP version     : 2.8.0\n",
            "SimPy version    : 4.1.1\n"
          ]
        }
      ],
      "source": [
        "try:\n",
        "    import sklearn, pulp, simpy\n",
        "    print(\"scikit-learn ver.:\", sklearn.__version__)\n",
        "    print(\"PuLP version     :\", pulp.__version__)\n",
        "    print(\"SimPy version    :\", simpy.__version__)\n",
        "except ImportError as e:\n",
        "    print(\"Missing package:\", e.name)\n"
      ]
    },
    {
      "cell_type": "code",
      "execution_count": 3,
      "id": "d55ae04f",
      "metadata": {},
      "outputs": [
        {
          "name": "stderr",
          "output_type": "stream",
          "text": [
            "Importing plotly failed. Interactive plots will not work.\n"
          ]
        },
        {
          "name": "stdout",
          "output_type": "stream",
          "text": [
            "SHAP ver.        : 0.48.0\n",
            "Prophet ver.     : 1.1.7\n",
            "TensorFlow ver.  : 2.20.0\n",
            "OpenCV ver.      : 4.12.0\n"
          ]
        }
      ],
      "source": [
        "try:\n",
        "    import shap, prophet, tensorflow, cv2\n",
        "    print(\"SHAP ver.        :\", shap.__version__)\n",
        "    print(\"Prophet ver.     :\", prophet.__version__)\n",
        "    print(\"TensorFlow ver.  :\", tensorflow.__version__)\n",
        "    print(\"OpenCV ver.      :\", cv2.__version__)\n",
        "except ImportError:\n",
        "    pass\n"
      ]
    },
    {
      "cell_type": "code",
      "execution_count": null,
      "metadata": {},
      "outputs": [],
      "source": [
        "import pandas as pd, numpy as np\n",
        "from sklearn.model_selection import train_test_split\n",
        "from sklearn.preprocessing import OneHotEncoder\n",
        "from sklearn.compose import ColumnTransformer\n",
        "from sklearn.pipeline import Pipeline\n",
        "from sklearn.linear_model import LogisticRegression\n",
        "from sklearn.metrics import roc_auc_score, classification_report\n",
        "from sklearn.inspection import permutation_importance\n",
        "\n",
        "X = pd.read_csv(\"../data/customers.csv\")\n",
        "y = pd.read_csv(\"../data/labels.csv\")[\"churned\"]\n",
        "cat_cols = [\"region\"]\n",
        "num_cols = [c for c in X.columns if c not in [\"customer_id\"] + cat_cols]\n",
        "pre = ColumnTransformer([\n",
        "    (\"cat\", OneHotEncoder(handle_unknown=\"ignore\"), cat_cols),\n",
        "    (\"num\", \"passthrough\", num_cols)\n",
        "])\n",
        "model = LogisticRegression(max_iter=500)\n",
        "pipe = Pipeline([(\"pre\", pre), (\"clf\", model)])\n",
        "\n",
        "X_train, X_test, y_train, y_test = train_test_split(X, y, test_size=0.2, random_state=42, stratify=y)\n",
        "pipe.fit(X_train, y_train)\n",
        "proba = pipe.predict_proba(X_test)[:,1]\n",
        "print(\"ROC AUC:\", roc_auc_score(y_test, proba).round(3))\n",
        "print(classification_report(y_test, (proba>0.5).astype(int)))\n",
        "\n",
        "# Explainability\n",
        "try:\n",
        "    import shap\n",
        "    explainer = shap.Explainer(pipe, X_train)\n",
        "    sv = explainer(X_test.sample(200, random_state=42))\n",
        "    shap.plots.beeswarm(sv, show=False)\n",
        "except Exception as e:\n",
        "    print(\"SHAP unavailable, using permutation importances:\", e)\n",
        "    r = permutation_importance(pipe, X_test, y_test, n_repeats=5, random_state=42)\n",
        "    importances = pd.Series(r.importances_mean, index=pipe.named_steps['pre'].get_feature_names_out())\n",
        "    print(importances.sort_values(ascending=False).head(10))\n",
        "\n",
        "# Simple subgroup metric\n",
        "df_test = X_test.copy(); df_test[\"y\"] = y_test.values; df_test[\"p\"] = proba\n",
        "for region in df_test[\"region\"].unique():\n",
        "    sub = df_test[df_test[\"region\"]==region]\n",
        "    auc = roc_auc_score(sub[\"y\"], sub[\"p\"])\n",
        "    print(f\"AUC for region={region}: {auc:.3f}\")\n"
      ]
    }
  ],
  "metadata": {
    "kernelspec": {
      "display_name": "ai-scm-portfolio",
      "language": "python",
      "name": "python3"
    },
    "language_info": {
      "codemirror_mode": {
        "name": "ipython",
        "version": 3
      },
      "file_extension": ".py",
      "mimetype": "text/x-python",
      "name": "python",
      "nbconvert_exporter": "python",
      "pygments_lexer": "ipython3",
      "version": "3.11.13"
    }
  },
  "nbformat": 4,
  "nbformat_minor": 5
}
