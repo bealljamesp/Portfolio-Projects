{
 "cells": [
  {
   "cell_type": "markdown",
   "id": "32b8eb6e",
   "metadata": {},
   "source": [
    "# Time Series Forecasting (Hierarchical) — 01_eda_seasonality.ipynb\n",
    "\n",
    "**Author:** YOUR NAME  \n",
    "**Date:** 2025-09-13\n",
    "\n",
    "**Objective:** Briefly explain what this notebook accomplishes and the expected output.\n"
   ]
  },
  {
   "cell_type": "code",
   "execution_count": null,
   "id": "acdf3ac2",
   "metadata": {},
   "outputs": [],
   "source": [
    "\n",
    "# Standard imports\n",
    "import os, sys, json\n",
    "from pathlib import Path\n",
    "import numpy as np\n",
    "import pandas as pd\n",
    "import matplotlib.pyplot as plt\n",
    "\n",
    "# Ensure src/ is on path\n",
    "ROOT = Path(__file__).resolve().parents[1]\n",
    "SRC = ROOT / \"src\"\n",
    "if SRC.exists():\n",
    "    sys.path.append(str(SRC))\n",
    "print(\"Working dir:\", os.getcwd())\n"
   ]
  },
  {
   "cell_type": "markdown",
   "id": "06d61608",
   "metadata": {},
   "source": [
    "## Business Context\n",
    "- Summarize the specific question this notebook answers."
   ]
  },
  {
   "cell_type": "markdown",
   "id": "6dd93d18",
   "metadata": {},
   "source": [
    "## Data Loading & Preparation"
   ]
  },
  {
   "cell_type": "markdown",
   "id": "5c2ad11b",
   "metadata": {},
   "source": [
    "## Analysis / Modeling"
   ]
  },
  {
   "cell_type": "markdown",
   "id": "5c6afdeb",
   "metadata": {},
   "source": [
    "## Results & Visuals"
   ]
  },
  {
   "cell_type": "markdown",
   "id": "e05df2a3",
   "metadata": {},
   "source": [
    "## Takeaways / Next Steps"
   ]
  }
 ],
 "metadata": {},
 "nbformat": 4,
 "nbformat_minor": 5
}
