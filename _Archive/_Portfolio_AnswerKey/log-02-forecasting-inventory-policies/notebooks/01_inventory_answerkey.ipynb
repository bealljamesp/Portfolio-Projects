{
  "cells": [
    {
      "cell_type": "markdown",
      "metadata": {},
      "source": "# LOG-02: Forecasting & Inventory Policies — Answer Key"
    },
    {
      "cell_type": "code",
      "execution_count": null,
      "metadata": {},
      "outputs": [],
      "source": "import pandas as pd, numpy as np\nfrom sklearn.ensemble import RandomForestRegressor\nimport matplotlib.pyplot as plt\n\ndf = pd.read_csv(\"../data/daily_demand.csv\", parse_dates=[\"date\"]).sort_values(\"date\")\nfor lag in [1,7,14]:\n    df[f\"lag{lag}\"] = df[\"demand\"].shift(lag)\ndf = df.dropna().reset_index(drop=True)\nsplit = int(len(df)*0.8)\ntrain, test = df.iloc[:split], df.iloc[split:]\nX_tr = train[[\"lag1\",\"lag7\",\"lag14\"]].values\ny_tr = train[\"demand\"].values\nX_te = test[[\"lag1\",\"lag7\",\"lag14\"]].values\ny_te = test[\"demand\"].values\n\nrf = RandomForestRegressor(random_state=42).fit(X_tr, y_tr)\ntest[\"forecast\"] = rf.predict(X_te)\n\n# EOQ/ROP/SS\nK=80; h=1.2; lead=5; z=1.65\nannual_demand = df[\"demand\"].sum()\nEOQ = ((2*K*annual_demand)/h)**0.5\ndemand_std = train[\"demand\"].rolling(30).std().dropna().mean()\nmu_LT = test[\"forecast\"].rolling(lead).sum().fillna(test[\"forecast\"].mean()*lead)\nsigma_LT = (lead**0.5)*demand_std\nSS = z*sigma_LT\nROP = mu_LT + SS\n\nprint(\"EOQ:\", round(EOQ,2))\nout = pd.DataFrame({\"date\": test[\"date\"], \"forecast\": test[\"forecast\"], \"ROP\": ROP})\nprint(out.head())\n\nout.plot(x=\"date\", y=[\"forecast\",\"ROP\"])\nplt.title(\"Forecast & Reorder Point\")\nplt.show()\n"
    }
  ],
  "metadata": {
    "language_info": {
      "name": "python"
    },
    "kernelspec": {
      "name": "python3",
      "display_name": "Python 3"
    }
  },
  "nbformat": 4,
  "nbformat_minor": 5
}