{
  "cells": [
    {
      "cell_type": "markdown",
      "metadata": {},
      "source": "# AI-Enhanced Inventory Optimization\nForecast->EOQ/ROP/SS + Monte Carlo comparison."
    },
    {
      "cell_type": "code",
      "execution_count": null,
      "metadata": {},
      "outputs": [],
      "source": "import pandas as pd, numpy as np\nfrom sklearn.ensemble import RandomForestRegressor\nimport matplotlib.pyplot as plt\n\n# Load or synthesize demand\ntry:\n    df = pd.read_csv(\"../data/daily_demand.csv\", parse_dates=[\"date\"]).sort_values(\"date\")\nexcept FileNotFoundError:\n    rng = pd.date_range(\"2023-01-01\", periods=365, freq=\"D\")\n    demand = np.random.poisson(40, size=len(rng))\n    df = pd.DataFrame({\"date\": rng, \"demand\": demand})\n\n# Simple ML forecast (next-day demand)\ndf[\"lag1\"] = df[\"demand\"].shift(1).fillna(df[\"demand\"].median())\nX = df[[\"lag1\"]].values\ny = df[\"demand\"].values\nmodel = RandomForestRegressor(random_state=42).fit(X, y)\ndf[\"forecast\"] = model.predict(X)\n\n# Inventory parameters\nlead_time_days = 5\nservice_factor = 1.65  # ~95%\ndemand_std = df[\"demand\"].rolling(30).std().fillna(df[\"demand\"].std())\ndaily_mu = df[\"forecast\"]\n# EOQ (placeholder constants)\nK = 100.0   # order cost\nh = 1.0     # holding cost per unit per day\nannual_demand = df[\"demand\"].sum()\nEOQ = ((2 * K * annual_demand) / h) ** 0.5\n\n# ROP & Safety Stock\nmu_LT = daily_mu.rolling(lead_time_days).sum().fillna(daily_mu.mean()*lead_time_days)\nsigma_LT = (demand_std * np.sqrt(lead_time_days)).fillna(demand_std.mean())\nsafety_stock = service_factor * sigma_LT\nROP = mu_LT + safety_stock\n\nprint(\"EOQ (units):\", round(EOQ,2))\nprint(df[[\"date\",\"forecast\"]].tail())\n"
    }
  ],
  "metadata": {
    "language_info": {
      "name": "python"
    },
    "kernelspec": {
      "name": "python3",
      "display_name": "Python 3"
    }
  },
  "nbformat": 4,
  "nbformat_minor": 5
}