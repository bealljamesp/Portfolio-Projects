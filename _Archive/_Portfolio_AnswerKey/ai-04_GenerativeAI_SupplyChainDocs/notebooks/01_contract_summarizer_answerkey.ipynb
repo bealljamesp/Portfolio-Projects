{
  "cells": [
    {
      "cell_type": "markdown",
      "metadata": {},
      "source": "# Generative AI for Supply Chain Contracts — Answer Key (No external API)"
    },
    {
      "cell_type": "code",
      "execution_count": null,
      "metadata": {},
      "outputs": [],
      "source": "import glob, re\ndef summarize(text):\n    # naive 'summary' by extracting key clauses\n    lead = re.findall(r\"(Lead time.*?\\.|within \\d+ days)\", text, flags=re.I)\n    penalty = re.findall(r\"(penalt[y|ies].*?\\.|\\$\\d+/day.*?\\.)\", text, flags=re.I)\n    excl = re.findall(r\"(exclusiv.*?\\.)\", text, flags=re.I)\n    return {\n        \"lead_time\": lead[0] if lead else \"Not specified\",\n        \"penalty\": penalty[0] if penalty else \"Not specified\",\n        \"exclusivity\": excl[0] if excl else \"Not specified\"\n    }\nfor path in glob.glob(\"../data/contracts/*.txt\"):\n    with open(path, \"r\", encoding=\"utf-8\", errors=\"ignore\") as f:\n        text = f.read()\n    s = summarize(text)\n    print(f\"== {path} ==\")\n    for k,v in s.items():\n        print(f\"{k}: {v}\")\n    print()\n"
    }
  ],
  "metadata": {
    "language_info": {
      "name": "python"
    },
    "kernelspec": {
      "name": "python3",
      "display_name": "Python 3"
    }
  },
  "nbformat": 4,
  "nbformat_minor": 5
}