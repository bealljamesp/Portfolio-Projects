{
 "cells": [
  {
   "cell_type": "markdown",
   "id": "0e62e1c8",
   "metadata": {},
   "source": [
    "\n",
    "# SCM-01 — Forecasting & Inventory Policies\n",
    "\n",
    "**Decision Intelligence flow:** Forecast → Policy → Simulation → Decision\n",
    "\n",
    "*Portfolio: Core → Supply_Chain_Logistics*\n",
    "\n"
   ]
  },
  {
   "cell_type": "code",
   "execution_count": 4,
   "id": "5c3929cd",
   "metadata": {},
   "outputs": [
    {
     "name": "stdout",
     "output_type": "stream",
     "text": [
      "Project Root: c:\\Users\\beall\\OneDrive\\Documents\\Portfolio\\Core\\Supply_Chain_Logistics\\SCM-01_forecasting_inventory_policies\n",
      "Data        : c:\\Users\\beall\\OneDrive\\Documents\\Portfolio\\Core\\Supply_Chain_Logistics\\SCM-01_forecasting_inventory_policies\\data\n",
      "Figures     : c:\\Users\\beall\\OneDrive\\Documents\\Portfolio\\Core\\Supply_Chain_Logistics\\SCM-01_forecasting_inventory_policies\\reports\\figures\n",
      "Config      : config.yaml\n"
     ]
    }
   ],
   "source": [
    "from src.bootstrap import init_project\n",
    "env = init_project()\n",
    "\n",
    "# Optional: unpack if you prefer direct names\n",
    "PROJECT_ROOT  = env[\"PROJECT_ROOT\"]\n",
    "RAW_DIR       = env[\"RAW_DIR\"]\n",
    "INTERIM_DIR   = env[\"INTERIM_DIR\"]\n",
    "PROCESSED_DIR = env[\"PROCESSED_DIR\"]\n",
    "FIG_DIR       = env[\"FIG_DIR\"]\n",
    "CONFIG        = env[\"CONFIG\"]\n",
    "SEED          = env[\"SEED\"]\n"
   ]
  },
  {
   "cell_type": "code",
   "execution_count": 3,
   "id": "b813bb90",
   "metadata": {},
   "outputs": [
    {
     "name": "stdout",
     "output_type": "stream",
     "text": [
      "Folders ready.\n"
     ]
    }
   ],
   "source": [
    "\n",
    "# --- Imports ---\n",
    "import os, math, json, warnings\n",
    "import numpy as np\n",
    "import pandas as pd\n",
    "import matplotlib.pyplot as plt\n",
    "\n",
    "from pathlib import Path\n",
    "from dataclasses import dataclass\n",
    "\n",
    "# Optional libraries (install in your environment): statsmodels, pmdarima, simpy, networkx, shap\n",
    "# from statsmodels.tsa.holtwinters import ExponentialSmoothing\n",
    "# import pmdarima as pm\n",
    "# import simpy\n",
    "# import networkx as nx\n",
    "# import shap\n",
    "\n",
    "warnings.filterwarnings(\"ignore\")\n",
    "plt.rcParams[\"figure.figsize\"] = (10, 5)\n",
    "\n",
    "# Ensure folders exist (no-ops if already there)\n",
    "for p in [DATA_DIR, RAW_DIR, INTERIM_DIR, PROCESSED_DIR, \"reports\", FIG_DIR, \"src\"]:\n",
    "    Path(p).mkdir(parents=True, exist_ok=True)\n",
    "print(\"Folders ready.\")\n"
   ]
  },
  {
   "cell_type": "markdown",
   "id": "45fbf3bc",
   "metadata": {},
   "source": [
    "\n",
    "## 1. Data — acquire or generate\n",
    "- Option A: Place a public retail demand file in `data/raw/` with columns like `date, demand_qty, promo_flag`.\n",
    "- Option B (below): Generate synthetic weekly demand with seasonality & promos.\n"
   ]
  },
  {
   "cell_type": "code",
   "execution_count": 13,
   "id": "bdd7ddfa",
   "metadata": {},
   "outputs": [
    {
     "data": {
      "application/vnd.microsoft.datawrangler.viewer.v0+json": {
       "columns": [
        {
         "name": "index",
         "rawType": "int64",
         "type": "integer"
        },
        {
         "name": "date",
         "rawType": "datetime64[ns]",
         "type": "datetime"
        },
        {
         "name": "sku_id",
         "rawType": "object",
         "type": "string"
        },
        {
         "name": "demand_qty",
         "rawType": "int64",
         "type": "integer"
        },
        {
         "name": "promo_flag",
         "rawType": "int64",
         "type": "integer"
        }
       ],
       "ref": "0bcb0aee-6348-4420-8cbf-f18fff2c7681",
       "rows": [
        [
         "0",
         "2020-01-05 00:00:00",
         "SKU-001",
         "199",
         "0"
        ],
        [
         "1",
         "2020-01-12 00:00:00",
         "SKU-001",
         "239",
         "0"
        ],
        [
         "2",
         "2020-01-19 00:00:00",
         "SKU-001",
         "210",
         "0"
        ],
        [
         "3",
         "2020-01-26 00:00:00",
         "SKU-001",
         "231",
         "0"
        ],
        [
         "4",
         "2020-02-02 00:00:00",
         "SKU-001",
         "280",
         "1"
        ]
       ],
       "shape": {
        "columns": 4,
        "rows": 5
       }
      },
      "text/html": [
       "<div>\n",
       "<style scoped>\n",
       "    .dataframe tbody tr th:only-of-type {\n",
       "        vertical-align: middle;\n",
       "    }\n",
       "\n",
       "    .dataframe tbody tr th {\n",
       "        vertical-align: top;\n",
       "    }\n",
       "\n",
       "    .dataframe thead th {\n",
       "        text-align: right;\n",
       "    }\n",
       "</style>\n",
       "<table border=\"1\" class=\"dataframe\">\n",
       "  <thead>\n",
       "    <tr style=\"text-align: right;\">\n",
       "      <th></th>\n",
       "      <th>date</th>\n",
       "      <th>sku_id</th>\n",
       "      <th>demand_qty</th>\n",
       "      <th>promo_flag</th>\n",
       "    </tr>\n",
       "  </thead>\n",
       "  <tbody>\n",
       "    <tr>\n",
       "      <th>0</th>\n",
       "      <td>2020-01-05</td>\n",
       "      <td>SKU-001</td>\n",
       "      <td>199</td>\n",
       "      <td>0</td>\n",
       "    </tr>\n",
       "    <tr>\n",
       "      <th>1</th>\n",
       "      <td>2020-01-12</td>\n",
       "      <td>SKU-001</td>\n",
       "      <td>239</td>\n",
       "      <td>0</td>\n",
       "    </tr>\n",
       "    <tr>\n",
       "      <th>2</th>\n",
       "      <td>2020-01-19</td>\n",
       "      <td>SKU-001</td>\n",
       "      <td>210</td>\n",
       "      <td>0</td>\n",
       "    </tr>\n",
       "    <tr>\n",
       "      <th>3</th>\n",
       "      <td>2020-01-26</td>\n",
       "      <td>SKU-001</td>\n",
       "      <td>231</td>\n",
       "      <td>0</td>\n",
       "    </tr>\n",
       "    <tr>\n",
       "      <th>4</th>\n",
       "      <td>2020-02-02</td>\n",
       "      <td>SKU-001</td>\n",
       "      <td>280</td>\n",
       "      <td>1</td>\n",
       "    </tr>\n",
       "  </tbody>\n",
       "</table>\n",
       "</div>"
      ],
      "text/plain": [
       "        date   sku_id  demand_qty  promo_flag\n",
       "0 2020-01-05  SKU-001         199           0\n",
       "1 2020-01-12  SKU-001         239           0\n",
       "2 2020-01-19  SKU-001         210           0\n",
       "3 2020-01-26  SKU-001         231           0\n",
       "4 2020-02-02  SKU-001         280           1"
      ]
     },
     "execution_count": 13,
     "metadata": {},
     "output_type": "execute_result"
    }
   ],
   "source": [
    "\n",
    "def generate_synthetic_weekly(n_weeks=156, level=200, trend=0.2, season_amp=30, promo_uplift=0.35, promo_freq=0.1, noise_sd=20, seed=SEED):\n",
    "    rng = np.random.default_rng(seed)\n",
    "    t = np.arange(n_weeks)\n",
    "    seasonal = season_amp * np.sin(2 * np.pi * t / 52)\n",
    "    promos = (rng.random(n_weeks) < promo_freq).astype(int)\n",
    "    demand = level + trend * t + seasonal + promos * promo_uplift * (level + seasonal)\n",
    "    demand = np.maximum(0, rng.normal(demand, noise_sd))\n",
    "    df = pd.DataFrame({\n",
    "        \"date\": pd.date_range(\"2020-01-05\", periods=n_weeks, freq=\"W-SUN\"),\n",
    "        \"sku_id\": CONFIG[\"sku_id\"],\n",
    "        \"demand_qty\": demand.round().astype(int),\n",
    "        \"promo_flag\": promos\n",
    "    })\n",
    "    return df\n",
    "\n",
    "# Generate & save synthetic baseline\n",
    "df_raw = generate_synthetic_weekly()\n",
    "df_raw.to_csv(f\"{RAW_DIR}/synthetic_weekly_demand.csv\", index=False)\n",
    "df_raw.head()\n"
   ]
  },
  {
   "cell_type": "code",
   "execution_count": 14,
   "id": "f7e0ee7f",
   "metadata": {},
   "outputs": [
    {
     "name": "stdout",
     "output_type": "stream",
     "text": [
      "data/raw\n"
     ]
    }
   ],
   "source": [
    "print(RAW_DIR)"
   ]
  },
  {
   "cell_type": "code",
   "execution_count": 12,
   "id": "4d719224",
   "metadata": {},
   "outputs": [
    {
     "name": "stdout",
     "output_type": "stream",
     "text": [
      "Exists? True\n",
      "Absolute: C:\\Users\\beall\\OneDrive\\Documents\\Portfolio\\Core\\Supply_Chain_Logistics\\SCM-01_forecasting_inventory_policies\\notebooks\\data\\raw\n",
      "Contents: [WindowsPath('data/raw/synthetic_weekly_demand.csv')]\n"
     ]
    }
   ],
   "source": [
    "from pathlib import Path\n",
    "path = Path(RAW_DIR)\n",
    "print(\"Exists?\", path.exists())\n",
    "print(\"Absolute:\", path.resolve())\n",
    "print(\"Contents:\", list(path.glob(\"*\")))\n"
   ]
  },
  {
   "cell_type": "markdown",
   "id": "ddffec88",
   "metadata": {},
   "source": [
    "\n",
    "## 2. EDA & sanity checks\n",
    "- Trend/seasonality plots\n",
    "- Intermittency checks (share of zero-demand periods)\n",
    "- Basic stats\n"
   ]
  },
  {
   "cell_type": "code",
   "execution_count": 5,
   "id": "ef93f818",
   "metadata": {},
   "outputs": [
    {
     "data": {
      "application/vnd.microsoft.datawrangler.viewer.v0+json": {
       "columns": [
        {
         "name": "index",
         "rawType": "object",
         "type": "string"
        },
        {
         "name": "date",
         "rawType": "object",
         "type": "unknown"
        },
        {
         "name": "sku_id",
         "rawType": "object",
         "type": "unknown"
        },
        {
         "name": "demand_qty",
         "rawType": "float64",
         "type": "float"
        },
        {
         "name": "promo_flag",
         "rawType": "float64",
         "type": "float"
        }
       ],
       "ref": "b7a496c2-8b21-43a4-863b-dc01822ffda0",
       "rows": [
        [
         "count",
         "156",
         "156",
         "156.0",
         "156.0"
        ],
        [
         "unique",
         null,
         "1",
         null,
         null
        ],
        [
         "top",
         null,
         "SKU-001",
         null,
         null
        ],
        [
         "freq",
         null,
         "156",
         null,
         null
        ],
        [
         "mean",
         "2021-06-30 12:00:00",
         null,
         "222.39102564102564",
         "0.09615384615384616"
        ],
        [
         "min",
         "2020-01-05 00:00:00",
         null,
         "154.0",
         "0.0"
        ],
        [
         "25%",
         "2020-10-02 06:00:00",
         null,
         "198.75",
         "0.0"
        ],
        [
         "50%",
         "2021-06-30 12:00:00",
         null,
         "219.5",
         "0.0"
        ],
        [
         "75%",
         "2022-03-28 18:00:00",
         null,
         "246.0",
         "0.0"
        ],
        [
         "max",
         "2022-12-25 00:00:00",
         null,
         "345.0",
         "1.0"
        ],
        [
         "std",
         null,
         null,
         "36.0670654373745",
         "0.2957515555838598"
        ]
       ],
       "shape": {
        "columns": 4,
        "rows": 11
       }
      },
      "text/html": [
       "<div>\n",
       "<style scoped>\n",
       "    .dataframe tbody tr th:only-of-type {\n",
       "        vertical-align: middle;\n",
       "    }\n",
       "\n",
       "    .dataframe tbody tr th {\n",
       "        vertical-align: top;\n",
       "    }\n",
       "\n",
       "    .dataframe thead th {\n",
       "        text-align: right;\n",
       "    }\n",
       "</style>\n",
       "<table border=\"1\" class=\"dataframe\">\n",
       "  <thead>\n",
       "    <tr style=\"text-align: right;\">\n",
       "      <th></th>\n",
       "      <th>date</th>\n",
       "      <th>sku_id</th>\n",
       "      <th>demand_qty</th>\n",
       "      <th>promo_flag</th>\n",
       "    </tr>\n",
       "  </thead>\n",
       "  <tbody>\n",
       "    <tr>\n",
       "      <th>count</th>\n",
       "      <td>156</td>\n",
       "      <td>156</td>\n",
       "      <td>156.000000</td>\n",
       "      <td>156.000000</td>\n",
       "    </tr>\n",
       "    <tr>\n",
       "      <th>unique</th>\n",
       "      <td>NaN</td>\n",
       "      <td>1</td>\n",
       "      <td>NaN</td>\n",
       "      <td>NaN</td>\n",
       "    </tr>\n",
       "    <tr>\n",
       "      <th>top</th>\n",
       "      <td>NaN</td>\n",
       "      <td>SKU-001</td>\n",
       "      <td>NaN</td>\n",
       "      <td>NaN</td>\n",
       "    </tr>\n",
       "    <tr>\n",
       "      <th>freq</th>\n",
       "      <td>NaN</td>\n",
       "      <td>156</td>\n",
       "      <td>NaN</td>\n",
       "      <td>NaN</td>\n",
       "    </tr>\n",
       "    <tr>\n",
       "      <th>mean</th>\n",
       "      <td>2021-06-30 12:00:00</td>\n",
       "      <td>NaN</td>\n",
       "      <td>222.391026</td>\n",
       "      <td>0.096154</td>\n",
       "    </tr>\n",
       "    <tr>\n",
       "      <th>min</th>\n",
       "      <td>2020-01-05 00:00:00</td>\n",
       "      <td>NaN</td>\n",
       "      <td>154.000000</td>\n",
       "      <td>0.000000</td>\n",
       "    </tr>\n",
       "    <tr>\n",
       "      <th>25%</th>\n",
       "      <td>2020-10-02 06:00:00</td>\n",
       "      <td>NaN</td>\n",
       "      <td>198.750000</td>\n",
       "      <td>0.000000</td>\n",
       "    </tr>\n",
       "    <tr>\n",
       "      <th>50%</th>\n",
       "      <td>2021-06-30 12:00:00</td>\n",
       "      <td>NaN</td>\n",
       "      <td>219.500000</td>\n",
       "      <td>0.000000</td>\n",
       "    </tr>\n",
       "    <tr>\n",
       "      <th>75%</th>\n",
       "      <td>2022-03-28 18:00:00</td>\n",
       "      <td>NaN</td>\n",
       "      <td>246.000000</td>\n",
       "      <td>0.000000</td>\n",
       "    </tr>\n",
       "    <tr>\n",
       "      <th>max</th>\n",
       "      <td>2022-12-25 00:00:00</td>\n",
       "      <td>NaN</td>\n",
       "      <td>345.000000</td>\n",
       "      <td>1.000000</td>\n",
       "    </tr>\n",
       "    <tr>\n",
       "      <th>std</th>\n",
       "      <td>NaN</td>\n",
       "      <td>NaN</td>\n",
       "      <td>36.067065</td>\n",
       "      <td>0.295752</td>\n",
       "    </tr>\n",
       "  </tbody>\n",
       "</table>\n",
       "</div>"
      ],
      "text/plain": [
       "                       date   sku_id  demand_qty  promo_flag\n",
       "count                   156      156  156.000000  156.000000\n",
       "unique                  NaN        1         NaN         NaN\n",
       "top                     NaN  SKU-001         NaN         NaN\n",
       "freq                    NaN      156         NaN         NaN\n",
       "mean    2021-06-30 12:00:00      NaN  222.391026    0.096154\n",
       "min     2020-01-05 00:00:00      NaN  154.000000    0.000000\n",
       "25%     2020-10-02 06:00:00      NaN  198.750000    0.000000\n",
       "50%     2021-06-30 12:00:00      NaN  219.500000    0.000000\n",
       "75%     2022-03-28 18:00:00      NaN  246.000000    0.000000\n",
       "max     2022-12-25 00:00:00      NaN  345.000000    1.000000\n",
       "std                     NaN      NaN   36.067065    0.295752"
      ]
     },
     "metadata": {},
     "output_type": "display_data"
    },
    {
     "data": {
      "image/png": "[encoded data removed]",
      "text/plain": [
       "<Figure size 1000x500 with 1 Axes>"
      ]
     },
     "metadata": {},
     "output_type": "display_data"
    },
    {
     "name": "stdout",
     "output_type": "stream",
     "text": [
      "Zero-demand share: 0.00%\n"
     ]
    }
   ],
   "source": [
    "\n",
    "df = pd.read_csv(f\"{RAW_DIR}/synthetic_weekly_demand.csv\", parse_dates=[\"date\"])\n",
    "display(df.describe(include=\"all\"))\n",
    "df.plot(x=\"date\", y=\"demand_qty\", title=\"Weekly Demand\"); plt.show()\n",
    "zero_share = (df[\"demand_qty\"]==0).mean()\n",
    "print(f\"Zero-demand share: {zero_share:.2%}\")\n"
   ]
  },
  {
   "cell_type": "markdown",
   "id": "d7308c03",
   "metadata": {},
   "source": [
    "\n",
    "## 3. Forecasting\n",
    "Start with explainable baselines and escalate to ETS/ARIMA as needed. Use rolling-origin cross-validation.\n",
    "**Metrics:** MAE, RMSE, sMAPE, MASE; also check prediction interval coverage.\n"
   ]
  },
  {
   "cell_type": "code",
   "execution_count": 6,
   "id": "aad9e2a0",
   "metadata": {},
   "outputs": [
    {
     "name": "stdout",
     "output_type": "stream",
     "text": [
      "Naive: {'MAE': np.float64(20.6), 'RMSE': np.float64(28.38238890579861), 'sMAPE%': np.float64(9.526021340820002), 'MASE': np.float64(0.7368107302269994)}\n",
      "Seasonal Naive: {'MAE': np.float64(28.08), 'RMSE': np.float64(33.31426121047861), 'sMAPE%': np.float64(13.505096914935233), 'MASE': np.float64(1.0043517138239875)}\n"
     ]
    }
   ],
   "source": [
    "\n",
    "from typing import Tuple\n",
    "\n",
    "def split_train_test(df, cutoff_date):\n",
    "    train = df[df[\"date\"] <= cutoff_date].copy()\n",
    "    test = df[df[\"date\"] >  cutoff_date].copy()\n",
    "    return train, test\n",
    "\n",
    "def naive_forecast(train: pd.Series, horizon: int) -> np.ndarray:\n",
    "    return np.repeat(train.iloc[-1], horizon)\n",
    "\n",
    "def seasonal_naive_forecast(train: pd.Series, horizon: int, season=52) -> np.ndarray:\n",
    "    history = train.values\n",
    "    fc = []\n",
    "    for h in range(1, horizon+1):\n",
    "        fc.append(history[-season + (h-1) % season])\n",
    "    return np.array(fc)\n",
    "\n",
    "def metrics(y_true, y_pred):\n",
    "    y_true = np.asarray(y_true); y_pred = np.asarray(y_pred)\n",
    "    mae = np.mean(np.abs(y_true - y_pred))\n",
    "    rmse = np.sqrt(np.mean((y_true - y_pred)**2))\n",
    "    smape = 100 * np.mean(2*np.abs(y_true - y_pred)/(np.abs(y_true)+np.abs(y_pred)+1e-9))\n",
    "    mase = mae / (np.mean(np.abs(np.diff(y_true))) + 1e-9)\n",
    "    return {\"MAE\": mae, \"RMSE\": rmse, \"sMAPE%\": smape, \"MASE\": mase}\n",
    "\n",
    "# Example rolling-origin evaluation with naive & seasonal naive\n",
    "series = df.set_index(\"date\")[\"demand_qty\"].asfreq(\"W-SUN\").fillna(method=\"ffill\")\n",
    "cutoff = series.index[-26]  # last half-year as test\n",
    "train, test = split_train_test(series.reset_index().rename(columns={\"index\":\"date\",\"demand_qty\":\"y\"}), cutoff)\n",
    "\n",
    "y_train = series[series.index <= cutoff]\n",
    "y_test = series[series.index  > cutoff]\n",
    "\n",
    "fc_naive = naive_forecast(y_train, len(y_test))\n",
    "fc_snaive = seasonal_naive_forecast(y_train, len(y_test), season=52)\n",
    "\n",
    "print(\"Naive:\", metrics(y_test.values, fc_naive))\n",
    "print(\"Seasonal Naive:\", metrics(y_test.values, fc_snaive))\n"
   ]
  },
  {
   "cell_type": "markdown",
   "id": "e9045758",
   "metadata": {},
   "source": [
    "\n",
    "## 4. Inventory Policy Design\n",
    "- EOQ benchmark\n",
    "- Continuous-review (Q, R) with safety stock from lead-time demand variability\n",
    "- Periodic-review (s, S) (optional)\n"
   ]
  },
  {
   "cell_type": "code",
   "execution_count": 7,
   "id": "1dfaa024",
   "metadata": {},
   "outputs": [
    {
     "name": "stdout",
     "output_type": "stream",
     "text": [
      "EOQ (units): 1209.6\n",
      "Safety stock: 82.9, Reorder point R: 551.8\n"
     ]
    }
   ],
   "source": [
    "\n",
    "def eoq(D, S, H):\n",
    "    return math.sqrt((2*D*S)/H)\n",
    "\n",
    "def normal_safety_stock(z, sigma_LT):\n",
    "    return z * sigma_LT\n",
    "\n",
    "def reorder_point(mu_LT, z, sigma_LT):\n",
    "    return mu_LT + z * sigma_LT\n",
    "\n",
    "# Example: translate weekly demand forecast to annual parameters for EOQ\n",
    "annual_demand = series[-52:].sum()  # crude: last year\n",
    "H = CONFIG[\"holding_cost_rate\"] * CONFIG[\"unit_cost\"]\n",
    "Q_star = eoq(D=annual_demand, S=CONFIG[\"order_cost\"], H=H)\n",
    "print(f\"EOQ (units): {Q_star:.1f}\")\n",
    "\n",
    "# Lead-time demand approximation (assuming weekly demand variance and LT in weeks)\n",
    "weekly_mu = series[-52:].mean()\n",
    "weekly_sigma = series[-52:].std(ddof=1)\n",
    "LT_weeks = max(1, int(round(CONFIG['lead_time_days']/7)))\n",
    "mu_LT = weekly_mu * LT_weeks\n",
    "sigma_LT = math.sqrt(LT_weeks) * weekly_sigma  # assumes independent weeks\n",
    "z = 1.645  # ~95% cycle service level\n",
    "ss = normal_safety_stock(z, sigma_LT)\n",
    "R = reorder_point(mu_LT, z, sigma_LT)\n",
    "print(f\"Safety stock: {ss:.1f}, Reorder point R: {R:.1f}\")\n"
   ]
  },
  {
   "cell_type": "markdown",
   "id": "736a8968",
   "metadata": {},
   "source": [
    "\n",
    "## 5. Simulation (stochastic validation)\n",
    "Simulate the (Q, R) policy with stochastic demand & lead time to estimate service and cost distributions.\n"
   ]
  },
  {
   "cell_type": "code",
   "execution_count": 8,
   "id": "22cfd7ff",
   "metadata": {},
   "outputs": [
    {
     "name": "stdout",
     "output_type": "stream",
     "text": [
      "{'fill_rate': np.float64(0.9989666338555708), 'total_cost': np.float64(3619.4506926048653), 'order': 1500.0, 'holding': np.float64(1993.4626922760785), 'stockout': np.float64(125.98800032878671)}\n"
     ]
    },
    {
     "data": {
      "image/png": "[encoded data removed]",
      "text/plain": [
       "<Figure size 1000x500 with 1 Axes>"
      ]
     },
     "metadata": {},
     "output_type": "display_data"
    }
   ],
   "source": [
    "\n",
    "# Minimal period-advance simulation (no external libs)\n",
    "import random\n",
    "\n",
    "def simulate_qr(\n",
    "    demand_series, Q, R, unit_cost, order_cost, holding_cost_rate, lead_time_weeks=2, lost_sales=True, seed=SEED\n",
    "):\n",
    "    rng = np.random.default_rng(seed)\n",
    "    on_hand = R + Q  # start with a buffer\n",
    "    pipeline = []    # list of tuples (arrival_week, qty)\n",
    "    costs = {\"order\":0.0, \"holding\":0.0, \"stockout\":0.0}\n",
    "    fulfilled, demanded = 0, 0\n",
    "    on_hand_history = []\n",
    "\n",
    "    for t, d in enumerate(demand_series):\n",
    "        # receive orders that arrive this week\n",
    "        for arr, qty in list(pipeline):\n",
    "            if arr == t:\n",
    "                on_hand += qty\n",
    "                pipeline.remove((arr, qty))\n",
    "\n",
    "        demanded += d\n",
    "        if on_hand >= d:\n",
    "            on_hand -= d\n",
    "            fulfilled += d\n",
    "        else:\n",
    "            short = d - on_hand\n",
    "            fulfilled += on_hand\n",
    "            on_hand = 0\n",
    "            if lost_sales:\n",
    "                costs[\"stockout\"] += short * unit_cost  # proxy penalty\n",
    "            else:\n",
    "                # backorder model could accrue penalty differently\n",
    "                costs[\"stockout\"] += short * unit_cost\n",
    "\n",
    "        # place order if inventory position <= R\n",
    "        inv_position = on_hand + sum(q for _, q in pipeline)\n",
    "        if inv_position <= R:\n",
    "            # stochastic lead time (±1 week jitter)\n",
    "            lt = max(1, int(round(lead_time_weeks + rng.normal(0, 0.5))))\n",
    "            pipeline.append((t + lt, int(round(Q))))\n",
    "            costs[\"order\"] += order_cost\n",
    "\n",
    "        # holding cost (approx weekly)\n",
    "        costs[\"holding\"] += (on_hand * unit_cost) * (holding_cost_rate/52.0)\n",
    "        on_hand_history.append(on_hand)\n",
    "\n",
    "    fill_rate = fulfilled / max(1, demanded)\n",
    "    total_cost = sum(costs.values())\n",
    "    return {\"fill_rate\": fill_rate, \"total_cost\": total_cost, **costs, \"on_hand_history\": on_hand_history}\n",
    "\n",
    "sim_res = simulate_qr(\n",
    "    demand_series=series[-52:].values,\n",
    "    Q=Q_star,\n",
    "    R=R,\n",
    "    unit_cost=CONFIG[\"unit_cost\"],\n",
    "    order_cost=CONFIG[\"order_cost\"],\n",
    "    holding_cost_rate=CONFIG[\"holding_cost_rate\"],\n",
    "    lead_time_weeks=max(1, int(round(CONFIG[\"lead_time_days\"]/7)))\n",
    ")\n",
    "print({k:v for k,v in sim_res.items() if k!='on_hand_history'})\n",
    "plt.plot(sim_res[\"on_hand_history\"]); plt.title(\"On-hand inventory (weekly)\"); plt.show()\n"
   ]
  },
  {
   "cell_type": "markdown",
   "id": "5d25e2c2",
   "metadata": {},
   "source": [
    "\n",
    "## 6. Causal graph (reasoning aid)\n",
    "Sketch a DAG of drivers (price, promo, holidays, supplier reliability) and discuss interventions.\n"
   ]
  },
  {
   "cell_type": "code",
   "execution_count": 9,
   "id": "5a8dfd7b",
   "metadata": {},
   "outputs": [
    {
     "name": "stdout",
     "output_type": "stream",
     "text": [
      "DAG placeholder — implement with networkx if desired.\n"
     ]
    }
   ],
   "source": [
    "\n",
    "# Placeholder: build a simple DAG with networkx when available\n",
    "# import networkx as nx\n",
    "# G = nx.DiGraph()\n",
    "# G.add_edges_from([(\"Promo\", \"Demand\"), (\"Price\",\"Demand\"), (\"SupplierReliability\",\"LeadTime\"), (\"LeadTime\",\"ServiceLevel\"), (\"Demand\",\"ServiceLevel\")])\n",
    "# nx.draw(G, with_labels=True)\n",
    "print(\"DAG placeholder — implement with networkx if desired.\")\n"
   ]
  },
  {
   "cell_type": "markdown",
   "id": "1f851085",
   "metadata": {},
   "source": [
    "\n",
    "## 7. Decision & recommendation\n",
    "Summarize: chosen policy, expected service/cost, sensitivity to lead time & demand shocks, and risk‑aware rationale.\n"
   ]
  },
  {
   "cell_type": "markdown",
   "id": "dec1f2c8",
   "metadata": {},
   "source": [
    "\n",
    "## Appendix\n",
    "- Assumptions & parameter derivations\n",
    "- Reproducibility notes (seed, versions)\n"
   ]
  }
 ],
 "metadata": {
  "kernelspec": {
   "display_name": "Conda (analytics_portfolio)",
   "language": "python",
   "name": "conda-analytics_portfolio"
  },
  "language_info": {
   "codemirror_mode": {
    "name": "ipython",
    "version": 3
   },
   "file_extension": ".py",
   "mimetype": "text/x-python",
   "name": "python",
   "nbconvert_exporter": "python",
   "pygments_lexer": "ipython3",
   "version": "3.11.13"
  }
 },
 "nbformat": 4,
 "nbformat_minor": 5
}
