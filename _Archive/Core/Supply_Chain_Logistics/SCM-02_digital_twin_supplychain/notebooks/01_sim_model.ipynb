{
  "cells": [
    {
      "cell_type": "markdown",
      "metadata": {},
      "source": "# Digital Twin Supply Chain Simulation\nSimpy model + ML bottleneck predictor (placeholder)."
    },
    {
      "cell_type": "code",
      "execution_count": null,
      "metadata": {},
      "outputs": [],
      "source": "import simpy, random, numpy as np, pandas as pd\n\nrandom.seed(42)\n\ndef factory(env, out_pipe, mean_prod=100, std_prod=10):\n    while True:\n        yield env.timeout(1)\n        qty = max(0, int(random.gauss(mean_prod, std_prod)))\n        out_pipe.put(qty)\n\nclass Pipe:\n    def __init__(self, env):\n        self.env = env\n        self.store = simpy.Store(env)\n    def put(self, value):\n        return self.store.put((self.env.now, value))\n    def get(self):\n        return self.store.get()\n\ndef dc(env, in_pipe, out_pipe, capacity=300):\n    on_hand = 0\n    while True:\n        t, incoming = yield in_pipe.get()\n        on_hand += incoming\n        ship = min(on_hand, capacity)\n        on_hand -= ship\n        yield env.timeout(1)\n        out_pipe.put(ship)\n\ndef store(env, in_pipe, demand_mean=80):\n    fill_history = []\n    on_hand = 0\n    while True:\n        t, incoming = yield in_pipe.get()\n        on_hand += incoming\n        d = np.random.poisson(demand_mean)\n        filled = min(on_hand, d)\n        on_hand -= filled\n        fill_history.append((env.now, d, filled, on_hand))\n        yield env.timeout(1)\n\nenv = simpy.Environment()\nf2d = Pipe(env); d2s = Pipe(env)\nenv.process(factory(env, f2d))\nenv.process(dc(env, f2d, d2s))\nenv.process(store(env, d2s))\nenv.run(until=200)\nprint(\"Simulation complete.\")\n"
    }
  ],
  "metadata": {
    "language_info": {
      "name": "python"
    },
    "kernelspec": {
      "name": "python3",
      "display_name": "Python 3"
    }
  },
  "nbformat": 4,
  "nbformat_minor": 5
}