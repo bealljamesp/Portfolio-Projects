{
 "cells": [
  {
   "cell_type": "markdown",
   "id": "7879ab92",
   "metadata": {},
   "source": [
    "# Time Series Forecasting (Hierarchical) — 03_hierarchical_forecasting.ipynb\n",
    "\n",
    "**Author:** YOUR NAME  \n",
    "**Date:** 2025-09-13\n",
    "\n",
    "**Objective:** Briefly explain what this notebook accomplishes and the expected output.\n"
   ]
  },
  {
   "cell_type": "code",
   "execution_count": null,
   "id": "a79559f4",
   "metadata": {},
   "outputs": [],
   "source": [
    "\n",
    "# Standard imports\n",
    "import os, sys, json\n",
    "from pathlib import Path\n",
    "import numpy as np\n",
    "import pandas as pd\n",
    "import matplotlib.pyplot as plt\n",
    "\n",
    "# Ensure src/ is on path\n",
    "ROOT = Path(__file__).resolve().parents[1]\n",
    "SRC = ROOT / \"src\"\n",
    "if SRC.exists():\n",
    "    sys.path.append(str(SRC))\n",
    "print(\"Working dir:\", os.getcwd())\n"
   ]
  },
  {
   "cell_type": "markdown",
   "id": "f7c53252",
   "metadata": {},
   "source": [
    "## Business Context\n",
    "- Summarize the specific question this notebook answers."
   ]
  },
  {
   "cell_type": "markdown",
   "id": "07ba788f",
   "metadata": {},
   "source": [
    "## Data Loading & Preparation"
   ]
  },
  {
   "cell_type": "markdown",
   "id": "5ca2edc6",
   "metadata": {},
   "source": [
    "## Analysis / Modeling"
   ]
  },
  {
   "cell_type": "markdown",
   "id": "e0b0479d",
   "metadata": {},
   "source": [
    "## Results & Visuals"
   ]
  },
  {
   "cell_type": "markdown",
   "id": "0271ebb2",
   "metadata": {},
   "source": [
    "## Takeaways / Next Steps"
   ]
  }
 ],
 "metadata": {},
 "nbformat": 4,
 "nbformat_minor": 5
}
