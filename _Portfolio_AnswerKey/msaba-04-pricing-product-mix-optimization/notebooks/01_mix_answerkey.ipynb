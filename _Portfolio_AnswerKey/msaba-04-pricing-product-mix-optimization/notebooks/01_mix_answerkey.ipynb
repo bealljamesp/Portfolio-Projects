{
  "cells": [
    {
      "cell_type": "markdown",
      "metadata": {},
      "source": "# MSABA-04: Pricing & Product Mix Optimization — Answer Key"
    },
    {
      "cell_type": "code",
      "execution_count": null,
      "metadata": {},
      "outputs": [],
      "source": "import pandas as pd\nfrom pulp import LpProblem, LpVariable, LpMaximize, lpSum, LpBinary, PULP_CBC_CMD\n\nitems = pd.read_csv(\"../data/items.csv\")\nimport json, os\nwith open(\"../data/constraints.json\",\"r\") as f:\n    C = json.load(f)\n\n# Decision: buy quantity q_i and choose whether carry sku (y_i)\nmodel = LpProblem(\"ProductMix\", LpMaximize)\nq = {r.sku: LpVariable(f\"q_{r.sku}\", lowBound=0, cat=\"Integer\") for _, r in items.iterrows()}\ny = {r.sku: LpVariable(f\"y_{r.sku}\", lowBound=0, upBound=1, cat=\"Binary\") for _, r in items.iterrows()}\n\nprofit = lpSum([(r.price - r.unit_cost)*q[r.sku] for _, r in items.iterrows()])\nmodel += profit\n\n# Budget\nmodel += lpSum([r.unit_cost * q[r.sku] for _, r in items.iterrows()]) <= C[\"budget\"]\n# Max SKUs\nmodel += lpSum([y[r.sku] for _, r in items.iterrows()]) <= C[\"max_skus\"]\n# Demand caps and linking q <= demand_cap*y\nfor _, r in items.iterrows():\n    model += q[r.sku] <= r.demand_cap * y[r.sku]\n\nmodel.solve(PULP_CBC_CMD(msg=False))\n\nsol = []\nfor _, r in items.iterrows():\n    sol.append({\"sku\": r.sku, \"qty\": q[r.sku].value(), \"selected\": int(y[r.sku].value())})\nout = pd.DataFrame(sol).sort_values(\"selected\", ascending=False)\nprint(out.head(15))\nprint(\"Objective (profit):\", round(model.objective.value(),2))\n"
    }
  ],
  "metadata": {
    "language_info": {
      "name": "python"
    },
    "kernelspec": {
      "name": "python3",
      "display_name": "Python 3"
    }
  },
  "nbformat": 4,
  "nbformat_minor": 5
}