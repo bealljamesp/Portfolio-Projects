{
  "cells": [
    {
      "cell_type": "markdown",
      "metadata": {},
      "source": "# MSABA-02: A/B Testing & Experiment Design — Answer Key"
    },
    {
      "cell_type": "code",
      "execution_count": null,
      "metadata": {},
      "outputs": [],
      "source": "import pandas as pd, numpy as np\nfrom math import sqrt\nimport matplotlib.pyplot as plt\n\ndf = pd.read_csv(\"../data/ab_events.csv\")\nconv = df.groupby(\"group\")[\"converted\"].mean().rename(\"rate\")\nn = df.groupby(\"group\").size().rename(\"n\")\nprint(pd.concat([conv, n], axis=1))\n\n# Two-proportion z-test\np1, p2 = conv[\"control\"], conv[\"treatment\"]\nn1, n2 = n[\"control\"], n[\"treatment\"]\np = (p1*n1 + p2*n2)/(n1+n2)\nse = sqrt(p*(1-p)*(1/n1 + 1/n2))\nz = (p2 - p1) / se\nprint(\"Uplift:\", (p2-p1).round(4), \"  z-score:\", round(z,2))\n\n# CI for difference\nfrom scipy.stats import norm\nzcrit = norm.ppf(0.975)\nci_low = (p2-p1) - zcrit*se\nci_high = (p2-p1) + zcrit*se\nprint(\"95% CI:\", round(ci_low,4), \"to\", round(ci_high,4))\n\n# Power approximation (simple)\n# target uplift 1.5pp, alpha .05, power .8\nd = 0.015\npbar = 0.06\nse0 = sqrt(2*pbar*(1-pbar))\nn_per = int(((zcrit + norm.ppf(0.8))**2 * se0**2) / d**2)\nprint(\"Approx sample per group for 1.5pp uplift:\", n_per)\n\ndf.groupby([\"group\",\"converted\"]).size().unstack(fill_value=0).plot(kind=\"bar\", stacked=True)\nplt.title(\"Conversions by Group\")\nplt.show()\n"
    }
  ],
  "metadata": {
    "language_info": {
      "name": "python"
    },
    "kernelspec": {
      "name": "python3",
      "display_name": "Python 3"
    }
  },
  "nbformat": 4,
  "nbformat_minor": 5
}