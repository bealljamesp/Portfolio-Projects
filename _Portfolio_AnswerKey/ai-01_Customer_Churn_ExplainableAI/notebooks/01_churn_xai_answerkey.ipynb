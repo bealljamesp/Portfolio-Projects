{
  "cells": [
    {
      "cell_type": "markdown",
      "metadata": {},
      "source": "# Customer Churn with Explainable AI — Answer Key\nThis notebook trains a model, explains predictions, and shows subgroup metrics."
    },
    {
      "cell_type": "code",
      "execution_count": null,
      "metadata": {},
      "outputs": [],
      "source": "import pandas as pd, numpy as np\nfrom sklearn.model_selection import train_test_split\nfrom sklearn.preprocessing import OneHotEncoder\nfrom sklearn.compose import ColumnTransformer\nfrom sklearn.pipeline import Pipeline\nfrom sklearn.linear_model import LogisticRegression\nfrom sklearn.metrics import roc_auc_score, classification_report\nfrom sklearn.inspection import permutation_importance\n\nX = pd.read_csv(\"../data/customers.csv\")\ny = pd.read_csv(\"../data/labels.csv\")[\"churned\"]\ncat_cols = [\"region\"]\nnum_cols = [c for c in X.columns if c not in [\"customer_id\"] + cat_cols]\npre = ColumnTransformer([\n    (\"cat\", OneHotEncoder(handle_unknown=\"ignore\"), cat_cols),\n    (\"num\", \"passthrough\", num_cols)\n])\nmodel = LogisticRegression(max_iter=500)\npipe = Pipeline([(\"pre\", pre), (\"clf\", model)])\n\nX_train, X_test, y_train, y_test = train_test_split(X, y, test_size=0.2, random_state=42, stratify=y)\npipe.fit(X_train, y_train)\nproba = pipe.predict_proba(X_test)[:,1]\nprint(\"ROC AUC:\", roc_auc_score(y_test, proba).round(3))\nprint(classification_report(y_test, (proba>0.5).astype(int)))\n\n# Explainability\ntry:\n    import shap\n    explainer = shap.Explainer(pipe, X_train)\n    sv = explainer(X_test.sample(200, random_state=42))\n    shap.plots.beeswarm(sv, show=False)\nexcept Exception as e:\n    print(\"SHAP unavailable, using permutation importances:\", e)\n    r = permutation_importance(pipe, X_test, y_test, n_repeats=5, random_state=42)\n    importances = pd.Series(r.importances_mean, index=pipe.named_steps['pre'].get_feature_names_out())\n    print(importances.sort_values(ascending=False).head(10))\n\n# Simple subgroup metric\ndf_test = X_test.copy(); df_test[\"y\"] = y_test.values; df_test[\"p\"] = proba\nfor region in df_test[\"region\"].unique():\n    sub = df_test[df_test[\"region\"]==region]\n    auc = roc_auc_score(sub[\"y\"], sub[\"p\"])\n    print(f\"AUC for region={region}: {auc:.3f}\")\n"
    }
  ],
  "metadata": {
    "language_info": {
      "name": "python"
    },
    "kernelspec": {
      "name": "python3",
      "display_name": "Python 3"
    }
  },
  "nbformat": 4,
  "nbformat_minor": 5
}