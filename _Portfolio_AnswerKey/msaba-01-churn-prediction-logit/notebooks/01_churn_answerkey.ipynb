{
  "cells": [
    {
      "cell_type": "markdown",
      "metadata": {},
      "source": "# MSABA-01: Customer Churn (Logistic Regression) — Answer Key"
    },
    {
      "cell_type": "code",
      "execution_count": null,
      "metadata": {},
      "outputs": [],
      "source": "import pandas as pd, numpy as np\nfrom sklearn.model_selection import train_test_split\nfrom sklearn.preprocessing import OneHotEncoder\nfrom sklearn.compose import ColumnTransformer\nfrom sklearn.pipeline import Pipeline\nfrom sklearn.linear_model import LogisticRegression\nfrom sklearn.metrics import roc_auc_score, classification_report, confusion_matrix\nimport matplotlib.pyplot as plt\n\nX = pd.read_csv(\"../data/customers.csv\")\ny = pd.read_csv(\"../data/labels.csv\")[\"churned\"]\ncat = [\"plan\"]; num = [c for c in X.columns if c not in [\"customer_id\"]+cat]\npre = ColumnTransformer([(\"cat\", OneHotEncoder(handle_unknown=\"ignore\"), cat),\n                         (\"num\",\"passthrough\", num)])\npipe = Pipeline([(\"pre\", pre), (\"clf\", LogisticRegression(max_iter=500))])\n\nX_tr, X_te, y_tr, y_te = train_test_split(X,y,test_size=0.2,random_state=42, stratify=y)\npipe.fit(X_tr, y_tr)\np = pipe.predict_proba(X_te)[:,1]\nprint(\"ROC AUC:\", roc_auc_score(y_te, p).round(3))\nprint(classification_report(y_te, (p>0.5).astype(int)))\n\ncm = confusion_matrix(y_te, (p>0.5).astype(int))\nprint(\"Confusion matrix:\\n\", cm)\n\nplt.figure(); plt.hist(p, bins=30)\nplt.title(\"Predicted churn probability\")\nplt.show()\n"
    }
  ],
  "metadata": {
    "language_info": {
      "name": "python"
    },
    "kernelspec": {
      "name": "python3",
      "display_name": "Python 3"
    }
  },
  "nbformat": 4,
  "nbformat_minor": 5
}