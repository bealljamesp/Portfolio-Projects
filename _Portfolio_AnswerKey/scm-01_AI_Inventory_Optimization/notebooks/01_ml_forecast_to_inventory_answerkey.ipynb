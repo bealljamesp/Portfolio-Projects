{
  "cells": [
    {
      "cell_type": "markdown",
      "metadata": {},
      "source": "# AI-Enhanced Inventory Optimization — Answer Key"
    },
    {
      "cell_type": "code",
      "execution_count": null,
      "metadata": {},
      "outputs": [],
      "source": "import pandas as pd, numpy as np\nfrom sklearn.ensemble import RandomForestRegressor\nimport matplotlib.pyplot as plt\n\ndf = pd.read_csv(\"../data/daily_demand.csv\", parse_dates=[\"date\"]).sort_values(\"date\")\n# Build simple lag features\nfor lag in [1,2,3,7]:\n    df[f\"lag{lag}\"] = df[\"demand\"].shift(lag)\ndf = df.dropna().reset_index(drop=True)\nsplit = int(len(df)*0.8)\ntrain, test = df.iloc[:split], df.iloc[split:]\n\nX_train = train[[f\"lag{l}\" for l in [1,2,3,7]]].values\ny_train = train[\"demand\"].values\nX_test = test[[f\"lag{l}\" for l in [1,2,3,7]]].values\ny_test = test[\"demand\"].values\n\nrf = RandomForestRegressor(random_state=42).fit(X_train, y_train)\ntest[\"forecast\"] = rf.predict(X_test)\n\n# Inventory parameters\nlead_time_days = 5\nservice_factor = 1.65\ndemand_std = train[\"demand\"].rolling(30).std().dropna().mean()\ndaily_mu = test[\"forecast\"]\nK = 100.0; h = 1.0\nannual_demand = df[\"demand\"].sum()\nEOQ = ((2*K*annual_demand)/h)**0.5\n\nmu_LT = daily_mu.rolling(lead_time_days).sum().fillna(daily_mu.mean()*lead_time_days)\nsigma_LT = np.sqrt(lead_time_days) * demand_std\nsafety_stock = service_factor * sigma_LT\nROP = mu_LT + safety_stock\n\nprint(\"EOQ:\", round(EOQ,2))\nout = pd.DataFrame({\"date\": test[\"date\"], \"forecast\": daily_mu, \"ROP\": ROP})\ndisplay(out.head())\n\nplt.figure()\nplt.plot(out[\"date\"], out[\"forecast\"], label=\"forecast\")\nplt.plot(out[\"date\"], out[\"ROP\"], label=\"ROP\")\nplt.title(\"Forecast & Reorder Point\")\nplt.legend()\nplt.show()\n"
    },
    {
      "cell_type": "markdown",
      "metadata": {},
      "source": "## Monte Carlo: AI vs Static Policy"
    },
    {
      "cell_type": "code",
      "execution_count": null,
      "metadata": {},
      "outputs": [],
      "source": "import numpy as np, pandas as pd\nnp.random.seed(0)\nhorizon=200\ndemand = np.random.poisson(40, size=horizon)\ndef simulate(policy, reorder_qty=200, initial=100):\n    inv=initial; stockouts=0\n    for t in range(horizon):\n        if policy(t, inv): inv += reorder_qty  # instant repl. for simplicity\n        if inv>=demand[t]: inv -= demand[t]\n        else:\n            stockouts += (demand[t]-inv); inv=0\n    return stockouts\n\n# Static policy: reorder when inv<150\nstatic = simulate(lambda t,inv: inv<150)\n# 'AI' policy: more sensitive when recent demand spike\nrecent = np.convolve(demand, np.ones(7)/7, mode=\"same\")\ndef ai_policy(t, inv): \n    thresh = 150 + (recent[t]-40)*2\n    return inv < thresh\nai = simulate(ai_policy)\nprint(\"Stockouts - Static:\", static, \" | AI:\", ai)\n"
    }
  ],
  "metadata": {
    "language_info": {
      "name": "python"
    },
    "kernelspec": {
      "name": "python3",
      "display_name": "Python 3"
    }
  },
  "nbformat": 4,
  "nbformat_minor": 5
}