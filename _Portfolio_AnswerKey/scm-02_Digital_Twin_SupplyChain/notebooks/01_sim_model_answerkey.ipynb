{
  "cells": [
    {
      "cell_type": "markdown",
      "metadata": {},
      "source": "# Digital Twin Supply Chain Simulation — Answer Key"
    },
    {
      "cell_type": "code",
      "execution_count": null,
      "metadata": {},
      "outputs": [],
      "source": "import simpy, random, numpy as np, pandas as pd\nrandom.seed(42)\n\nclass Pipe:\n    def __init__(self, env): self.env=env; self.store=simpy.Store(env)\n    def put(self, value): return self.store.put((self.env.now, value))\n    def get(self): return self.store.get()\n\ndef factory(env, out_pipe, mean_prod=100, std_prod=10):\n    while True:\n        yield env.timeout(1); qty=max(0,int(random.gauss(mean_prod,std_prod))); out_pipe.put(qty)\n\ndef dc(env, in_pipe, out_pipe, capacity=300, logs=[]):\n    on_hand=0\n    while True:\n        t, inc = yield in_pipe.get()\n        on_hand += inc\n        ship = min(on_hand, capacity)\n        on_hand -= ship\n        logs.append((t,\"dc\",on_hand,ship))\n        yield env.timeout(1); out_pipe.put(ship)\n\ndef store(env, in_pipe, demand_mean=80, logs=[]):\n    on_hand=0\n    while True:\n        t, inc = yield in_pipe.get()\n        on_hand += inc\n        d = np.random.poisson(demand_mean)\n        filled = min(on_hand, d); on_hand -= filled\n        logs.append((t,\"store\",on_hand,filled))\n        yield env.timeout(1)\n\nenv = simpy.Environment()\nf2d = Pipe(env); d2s = Pipe(env); logs=[]\nenv.process(factory(env, f2d))\nenv.process(dc(env, f2d, d2s, logs=logs))\nenv.process(store(env, d2s, logs=logs))\nenv.run(until=300)\ndf = pd.DataFrame(logs, columns=[\"time\",\"node\",\"on_hand\",\"flow\"])\ndisplay(df.head())\ndf.to_csv(\"../reports/sim_logs.csv\", index=False)\nprint(\"Simulation complete; logs written to reports/sim_logs.csv\")\n"
    }
  ],
  "metadata": {
    "language_info": {
      "name": "python"
    },
    "kernelspec": {
      "name": "python3",
      "display_name": "Python 3"
    }
  },
  "nbformat": 4,
  "nbformat_minor": 5
}