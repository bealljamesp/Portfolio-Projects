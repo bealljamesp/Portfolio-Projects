{
 "cells": [
  {
   "cell_type": "markdown",
   "id": "fa0c4386",
   "metadata": {},
   "source": [
    "# SQL + Python KPIs + Excel Dashboard — 03_excel_dashboard_export.ipynb\n",
    "\n",
    "**Author:** bealljamesp  \n",
    "**Date:** 2025-09-13\n",
    "\n",
    "**Objective:** Briefly explain what this notebook accomplishes and the expected output.\n"
   ]
  },
  {
   "cell_type": "code",
   "execution_count": null,
   "id": "8f05d231",
   "metadata": {},
   "outputs": [],
   "source": [
    "\n",
    "# Standard imports\n",
    "import os, sys, json\n",
    "from pathlib import Path\n",
    "import numpy as np\n",
    "import pandas as pd\n",
    "import matplotlib.pyplot as plt\n",
    "\n",
    "# Ensure src/ is on path\n",
    "ROOT = Path(__file__).resolve().parents[1]\n",
    "SRC = ROOT / \"src\"\n",
    "if SRC.exists():\n",
    "    sys.path.append(str(SRC))\n",
    "print(\"Working dir:\", os.getcwd())\n"
   ]
  },
  {
   "cell_type": "markdown",
   "id": "f0558076",
   "metadata": {},
   "source": [
    "## Business Context\n",
    "- Summarize the specific question this notebook answers."
   ]
  },
  {
   "cell_type": "markdown",
   "id": "bf921122",
   "metadata": {},
   "source": [
    "## Data Loading & Preparation"
   ]
  },
  {
   "cell_type": "markdown",
   "id": "81a9499c",
   "metadata": {},
   "source": [
    "## Analysis / Modeling"
   ]
  },
  {
   "cell_type": "markdown",
   "id": "b0fdfa9f",
   "metadata": {},
   "source": [
    "## Results & Visuals"
   ]
  },
  {
   "cell_type": "markdown",
   "id": "714b33b2",
   "metadata": {},
   "source": [
    "## Takeaways / Next Steps"
   ]
  }
 ],
 "metadata": {
  "language_info": {
   "name": "python"
  }
 },
 "nbformat": 4,
 "nbformat_minor": 5
}
