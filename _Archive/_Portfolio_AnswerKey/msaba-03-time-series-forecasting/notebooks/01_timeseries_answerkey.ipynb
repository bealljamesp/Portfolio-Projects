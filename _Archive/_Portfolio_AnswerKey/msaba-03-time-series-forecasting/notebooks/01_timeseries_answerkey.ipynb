{
  "cells": [
    {
      "cell_type": "markdown",
      "metadata": {},
      "source": "# MSABA-03: Time Series Forecasting — Answer Key"
    },
    {
      "cell_type": "code",
      "execution_count": null,
      "metadata": {},
      "outputs": [],
      "source": "import pandas as pd, numpy as np\nimport matplotlib.pyplot as plt\nfrom sklearn.ensemble import RandomForestRegressor\nfrom sklearn.metrics import mean_absolute_error\n\ndf = pd.read_csv(\"../data/series.csv\", parse_dates=[\"date\"]).sort_values(\"date\")\n# Create lag features\nfor lag in [1,7,14]:\n    df[f\"lag{lag}\"] = df[\"value\"].shift(lag)\ndf = df.dropna().reset_index(drop=True)\nsplit = int(len(df)*0.8)\ntrain, test = df.iloc[:split], df.iloc[split:]\nX_tr = train[[\"lag1\",\"lag7\",\"lag14\"]].values\ny_tr = train[\"value\"].values\nX_te = test[[\"lag1\",\"lag7\",\"lag14\"]].values\ny_te = test[\"value\"].values\n\nrf = RandomForestRegressor(random_state=42).fit(X_tr, y_tr)\ny_pred = rf.predict(X_te)\nprint(\"MAE:\", mean_absolute_error(y_te, y_pred).round(3))\n\nplt.figure()\nplt.plot(test[\"date\"], y_te, label=\"actual\")\nplt.plot(test[\"date\"], y_pred, label=\"rf\")\nplt.title(\"Forecast vs Actual\")\nplt.legend()\nplt.show()\n"
    }
  ],
  "metadata": {
    "language_info": {
      "name": "python"
    },
    "kernelspec": {
      "name": "python3",
      "display_name": "Python 3"
    }
  },
  "nbformat": 4,
  "nbformat_minor": 5
}