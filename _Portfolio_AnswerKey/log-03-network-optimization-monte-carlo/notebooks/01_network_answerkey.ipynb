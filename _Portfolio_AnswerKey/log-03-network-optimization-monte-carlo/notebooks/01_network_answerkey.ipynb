{
  "cells": [
    {
      "cell_type": "markdown",
      "metadata": {},
      "source": "# LOG-03: Network Optimization & Monte Carlo — Answer Key"
    },
    {
      "cell_type": "code",
      "execution_count": null,
      "metadata": {},
      "outputs": [],
      "source": "import pandas as pd, numpy as np\nfrom pulp import LpProblem, LpVariable, LpMinimize, lpSum, PULP_CBC_CMD\n\nfac = pd.read_csv(\"../data/facilities.csv\")\ncus = pd.read_csv(\"../data/customers.csv\")\ncost = pd.read_csv(\"../data/ship_costs.csv\")\n\n# Decision: open facility (y_f) and ship units x_{f,c}\nmodel = LpProblem(\"FacilityLocation\", LpMinimize)\ny = {f: LpVariable(f\"y_{f}\", lowBound=0, upBound=1, cat=\"Binary\") for f in fac[\"facility\"]}\nx = {(r.facility, r.customer): LpVariable(f\"x_{r.facility}_{r.customer}\", lowBound=0) \n     for _, r in cost.iterrows()}\n\n# Objective: fixed + variable shipping\nmodel += lpSum([fac.set_index(\"facility\").loc[f,\"fixed_cost\"] * y[f] for f in fac[\"facility\"]]) +                  lpSum([cost.set_index([\"facility\",\"customer\"]).loc[(f,c),\"unit_cost\"] * x[(f,c)] \n                for f in fac[\"facility\"] for c in cus[\"customer\"]])\n# Demand constraints\nfor c in cus[\"customer\"]:\n    model += lpSum([x[(f,c)] for f in fac[\"facility\"]]) >= cus.set_index(\"customer\").loc[c,\"demand\"]\n# Capacity via open facilities (simple large M capacity= sum demand)\nM = cus[\"demand\"].sum()\nfor f in fac[\"facility\"]:\n    model += lpSum([x[(f,c)] for c in cus[\"customer\"]]) <= M * y[f]\n\nmodel.solve(PULP_CBC_CMD(msg=False))\nopen_fac = [f for f in fac[\"facility\"] if y[f].value() > 0.5]\nprint(\"Open facilities:\", open_fac)\n\n# Monte Carlo: perturb demands and re-evaluate shipping cost with chosen facilities\nrng = np.random.default_rng(1)\nbase_dem = cus.set_index(\"customer\")[\"demand\"]\ntotal_costs = []\nfor _ in range(50):\n    pert = (base_dem * rng.uniform(0.9, 1.1, len(base_dem))).round().astype(int)\n    # Simple greedy assignment to open facs\n    tc = 0.0\n    for c, dem in pert.items():\n        # pick cheapest open facility\n        best = min(open_fac, key=lambda f: cost[(cost.facility==f)&(cost.customer==c)][\"unit_cost\"].values[0])\n        u = cost[(cost.facility==best)&(cost.customer==c)][\"unit_cost\"].values[0]\n        tc += dem * u\n    total_costs.append(tc + sum(fac[fac.facility.isin(open_fac)][\"fixed_cost\"]))\nprint(\"Mean total cost under uncertainty:\", round(np.mean(total_costs),2))\n"
    }
  ],
  "metadata": {
    "language_info": {
      "name": "python"
    },
    "kernelspec": {
      "name": "python3",
      "display_name": "Python 3"
    }
  },
  "nbformat": 4,
  "nbformat_minor": 5
}